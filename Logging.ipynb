{
 "cells": [
  {
   "cell_type": "markdown",
   "id": "FIkEJQli_QOg",
   "metadata": {
    "id": "FIkEJQli_QOg"
   },
   "source": [
    "### Logging (Incomplete)"
   ]
  },
  {
   "cell_type": "markdown",
   "id": "EoyO2xmo_avj",
   "metadata": {
    "id": "EoyO2xmo_avj"
   },
   "source": [
    "* Python has a built in log module\n",
    "* Logging is possible to 5 differenet log levels - debug, info, warning, error, critical\n",
    "* Reference Doc -\n",
    "  1. [Logging HOWTO](https://docs.python.org/3/howto/logging.html)\n",
    "  2. [Logging Cookbook](https://docs.python.org/3/howto/logging-cookbook.html)\n",
    "\n",
    "* Logging to generate logs. To understand if code is working as is supposed to work. To understand the execution and limitation of code."
   ]
  },
  {
   "cell_type": "markdown",
   "id": "50bf2fc1",
   "metadata": {},
   "source": [
    "### Running python file from jupyter"
   ]
  },
  {
   "cell_type": "code",
   "execution_count": 30,
   "id": "a71b3c98",
   "metadata": {},
   "outputs": [
    {
     "name": "stdout",
     "output_type": "stream",
     "text": [
      "Sum: 44\n"
     ]
    }
   ],
   "source": [
    "%run add.py"
   ]
  },
  {
   "cell_type": "markdown",
   "id": "4ca8f87a",
   "metadata": {},
   "source": [
    "### Propogation set to True or False"
   ]
  },
  {
   "cell_type": "code",
   "execution_count": null,
   "id": "512c3a97",
   "metadata": {},
   "outputs": [],
   "source": [
    "# helper.py\n",
    "# -------------------------------------\n",
    "import logging\n",
    "logger = logging.getLogger(__name__)\n",
    "logger.propagate = False\n",
    "logger.info('HELLO')\n",
    "\n",
    "# main.py\n",
    "# -------------------------------------\n",
    "import logging\n",
    "logging.basicConfig(level=logginga.INFO, format='%(name)s - %(levelname)s - %(message)s')\n",
    "import helper\n",
    "\n",
    "# --> No output when running main.py since the helper module logger does not propagate its messages to the root logger"
   ]
  },
  {
   "cell_type": "code",
   "execution_count": null,
   "id": "d7aa1579",
   "metadata": {},
   "outputs": [],
   "source": []
  }
 ],
 "metadata": {
  "kernelspec": {
   "display_name": "Python 3 (ipykernel)",
   "language": "python",
   "name": "python3"
  },
  "language_info": {
   "codemirror_mode": {
    "name": "ipython",
    "version": 3
   },
   "file_extension": ".py",
   "mimetype": "text/x-python",
   "name": "python",
   "nbconvert_exporter": "python",
   "pygments_lexer": "ipython3",
   "version": "3.9.7"
  }
 },
 "nbformat": 4,
 "nbformat_minor": 5
}
