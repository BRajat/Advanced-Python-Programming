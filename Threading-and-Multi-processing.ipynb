{
 "cells": [
  {
   "cell_type": "markdown",
   "id": "44b9204c",
   "metadata": {
    "id": "44b9204c"
   },
   "source": [
    "### Threading"
   ]
  },
  {
   "cell_type": "code",
   "execution_count": 22,
   "id": "0bddec94",
   "metadata": {},
   "outputs": [
    {
     "name": "stdout",
     "output_type": "stream",
     "text": [
      "Start value:  0\n",
      "End value: 1\n",
      "end main\n"
     ]
    }
   ],
   "source": [
    "from threading import Thread\n",
    "import time\n",
    "\n",
    "\n",
    "# all threads can access this global variable\n",
    "database_value = 0\n",
    "\n",
    "def increase():\n",
    "    global database_value # needed to modify the global value\n",
    "    \n",
    "    # get a local copy (simulate data retrieving)\n",
    "    local_copy = database_value\n",
    "        \n",
    "    # simulate some modifying operation\n",
    "    local_copy += 1\n",
    "    time.sleep(0.1)\n",
    "        \n",
    "    # write the calculated new value into the global variable\n",
    "    database_value = local_copy\n",
    "\n",
    "\n",
    "if __name__ == \"__main__\":\n",
    "\n",
    "    print('Start value: ', database_value)\n",
    "\n",
    "    t1 = Thread(target=increase)\n",
    "    t2 = Thread(target=increase)\n",
    "\n",
    "    t1.start()\n",
    "    t2.start()\n",
    "\n",
    "    t1.join()\n",
    "    t2.join()\n",
    "\n",
    "    print('End value:', database_value)\n",
    "\n",
    "    print('end main')"
   ]
  },
  {
   "cell_type": "code",
   "execution_count": 19,
   "id": "2ade2d9d",
   "metadata": {},
   "outputs": [
    {
     "name": "stdout",
     "output_type": "stream",
     "text": [
      "Start value:  0\n",
      "End value: 2\n",
      "end main\n"
     ]
    }
   ],
   "source": [
    "from threading import Thread, Lock\n",
    "import time\n",
    "\n",
    "\n",
    "# all threads can access this global variable\n",
    "database_value = 0\n",
    "\n",
    "def increase(lock):\n",
    "    global database_value # needed to modify the global value\n",
    "    \n",
    "    with lock:\n",
    "        # get a local copy (simulate data retrieving)\n",
    "        local_copy = database_value\n",
    "        # simulate some modifying operation\n",
    "        local_copy += 1\n",
    "        time.sleep(0.1)\n",
    "        \n",
    "        # write the calculated new value into the global variable\n",
    "        database_value = local_copy\n",
    "\n",
    "\n",
    "if __name__ == \"__main__\":\n",
    "    \n",
    "    lock = Lock()\n",
    "\n",
    "    print('Start value: ', database_value)\n",
    "\n",
    "    t1 = Thread(target=increase, args = (lock,))\n",
    "    t2 = Thread(target=increase, args = (lock,))\n",
    "\n",
    "    t1.start()\n",
    "    t2.start()\n",
    "\n",
    "    t1.join()\n",
    "    t2.join()\n",
    "\n",
    "    print('End value:', database_value)\n",
    "\n",
    "    print('end main')"
   ]
  },
  {
   "cell_type": "markdown",
   "id": "34966465",
   "metadata": {},
   "source": [
    "1. **Without lock only 1 thread got executed, with lock the thread executed in synchonized way** <br>\n",
    "2. `time.sleep(0.1)` **is very important to understand race condition**"
   ]
  },
  {
   "cell_type": "code",
   "execution_count": 9,
   "id": "3a61ea05",
   "metadata": {},
   "outputs": [
    {
     "name": "stdout",
     "output_type": "stream",
     "text": [
      "in Thread2 got 0\n",
      "in Thread2 got 1\n",
      "in Thread2 got 2\n",
      "in Thread2 got 3\n",
      "in Thread2 got 4\n",
      "in Thread2 got 5\n",
      "in Thread2 got 6\n",
      "in Thread2 got 7\n",
      "in Thread2 got 8\n",
      "in Thread5 got 9\n",
      "in Thread4 got 10\n",
      "in Thread6 got 11\n",
      "in Thread7 got 12\n",
      "in Thread9 got 13\n",
      "in Thread10 got 14\n",
      "in Thread3 got 15\n",
      "in Thread8 got 16\n",
      "in Thread1 got 17\n",
      "in Thread2 got 18\n",
      "in Thread5 got 19\n",
      "main done\n"
     ]
    }
   ],
   "source": [
    "from threading import Thread, Lock, current_thread\n",
    "from queue import Queue\n",
    "\n",
    "def worker(q, lock):\n",
    "    while True:\n",
    "        value = q.get()  # blocks until the item is available\n",
    "\n",
    "        # do stuff...\n",
    "        with lock:\n",
    "            # prevent printing at the same time with this lock\n",
    "            print(f\"in {current_thread().name} got {value}\")\n",
    "        # ...\n",
    "\n",
    "        # For each get(), a subsequent call to task_done() tells the queue\n",
    "        # that the processing on this item is complete.\n",
    "        # If all tasks are done, q.join() can unblock\n",
    "        q.task_done()\n",
    "\n",
    "\n",
    "if __name__ == '__main__':\n",
    "    q = Queue()\n",
    "    num_threads = 10\n",
    "    lock = Lock()\n",
    "\n",
    "    for i in range(num_threads):\n",
    "        t = Thread(name=f\"Thread{i+1}\", target=worker, args=(q, lock))\n",
    "        t.daemon = True  # dies when the main thread dies\n",
    "        t.start()\n",
    "    \n",
    "    # fill the queue with items\n",
    "    for x in range(20):\n",
    "        q.put(x)\n",
    "\n",
    "    q.join()  # Blocks until all items in the queue have been gotten and processed.\n",
    "\n",
    "    print('main done')"
   ]
  },
  {
   "cell_type": "markdown",
   "id": "65b913fb",
   "metadata": {},
   "source": [
    "### Multiprocessing"
   ]
  },
  {
   "cell_type": "code",
   "execution_count": 20,
   "id": "ebe28f08",
   "metadata": {},
   "outputs": [
    {
     "name": "stdout",
     "output_type": "stream",
     "text": [
      "Value at beginning: 0\n",
      "Array at beginning: [0.0, 100.0, 200.0]\n",
      "Value at end: 200\n",
      "Array at end: [198.0, 299.0, 399.0]\n",
      "end main\n",
      "Total multiprocess time 10.038383960723877\n"
     ]
    }
   ],
   "source": [
    "from multiprocessing import Process, Value, Array\n",
    "import time\n",
    "\n",
    "def add_100(number):\n",
    "    for _ in range(100):\n",
    "        time.sleep(0.01)\n",
    "        number.value += 1\n",
    "\n",
    "def add_100_array(numbers):\n",
    "    for _ in range(100):\n",
    "        time.sleep(0.1)\n",
    "        for i in range(len(numbers)):\n",
    "            numbers[i] += 1\n",
    "\n",
    "\n",
    "if __name__ == \"__main__\":\n",
    "\n",
    "    shared_number = Value('i', 0) \n",
    "    print('Value at beginning:', shared_number.value)\n",
    "\n",
    "    shared_array = Array('d', [0.0, 100.0, 200.0])\n",
    "    print('Array at beginning:', shared_array[:])\n",
    "\n",
    "    process1 = Process(target=add_100, args=(shared_number,))\n",
    "    process2 = Process(target=add_100, args=(shared_number,))\n",
    "\n",
    "    process3 = Process(target=add_100_array, args=(shared_array,))\n",
    "    process4 = Process(target=add_100_array, args=(shared_array,))\n",
    "\n",
    "    start_time = time.time()\n",
    "    process1.start()\n",
    "    process2.start()\n",
    "    process3.start()\n",
    "    process4.start()\n",
    "\n",
    "    process1.join()\n",
    "    process2.join()\n",
    "    process3.join()\n",
    "    process4.join()\n",
    "    end_time = time.time()\n",
    "\n",
    "    print('Value at end:', shared_number.value)\n",
    "    print('Array at end:', shared_array[:])\n",
    "\n",
    "    print('end main')\n",
    "    print('Total multiprocess time', (end_time - start_time))"
   ]
  },
  {
   "cell_type": "markdown",
   "id": "69b19757",
   "metadata": {},
   "source": [
    "**Observations -**\n",
    "1. The race condition is more probable, for longer processes.\n",
    "2. The race condition can only be avoided by use of locks or queue."
   ]
  },
  {
   "cell_type": "markdown",
   "id": "0c4abfb6",
   "metadata": {},
   "source": [
    "## How to use `Locks`\n",
    "Notice that in the above example, the 2 processes should increment the shared value by 1 for 100 times. This results in 200 total operations. But why is the end value not 200?\n",
    "\n",
    "#### Race condition\n",
    "A race condition happened here. A race condition occurs when two or more processes or threads can access shared data and they try to change it at the same time. In our example the two processes have to read the shared value, increase it by 1, and write it back into the shared variable. If this happens at the same time, the two processes read the same value, increase it and write it back. Thus, both processes write the same increased value back into the shared object, and the value was not increased by 2. See https://www.python-engineer.com/learn/advancedpython16_threading/ for a detailed explanation of race conditions.\n",
    "\n",
    "#### Avoid race conditions with `Locks`\n",
    "A lock (also known as mutex) is a synchronization mechanism for enforcing limits on access to a resource in an environment where there are many processes/threads of execution. A Lock has two states: **locked** and **unlocked**. \n",
    "If the state is locked, it does not allow other concurrent processes/threads to enter this code section until the state is unlocked again.\n",
    "\n",
    "Two functions are important:\n",
    "- `lock.acquire()` : This will lock the state and block\n",
    "- `lock.release()` : This will unlock the state again.\n",
    "\n",
    "Important: You should always release the block again after it was acquired!\n",
    "\n",
    "In our example the critical code section where the shared variable is read and increased is now locked. This prevents the second process from modyfing the shared object at the same time. Not much has changed in our code. All new changes are commented in the code below."
   ]
  },
  {
   "cell_type": "code",
   "execution_count": 5,
   "id": "d56fbcfb",
   "metadata": {},
   "outputs": [
    {
     "name": "stdout",
     "output_type": "stream",
     "text": [
      "Value at beginning: 0\n",
      "Array at beginning: [0.0, 100.0, 200.0]\n",
      "Value at end: 200\n",
      "Array at end: [200.0, 300.0, 400.0]\n",
      "end main\n",
      "Total multiprocess time 1.0320227146148682\n"
     ]
    }
   ],
   "source": [
    "# import Lock\n",
    "from multiprocessing import Lock\n",
    "from multiprocessing import Process, Value, Array\n",
    "import time\n",
    "\n",
    "def add_100(number, lock):\n",
    "    for _ in range(100):\n",
    "        time.sleep(0.01)\n",
    "        # lock the state\n",
    "        lock.acquire()\n",
    "        \n",
    "        number.value += 1\n",
    "        \n",
    "        # unlock the state\n",
    "        lock.release()\n",
    "\n",
    "def add_100_array(numbers, lock):\n",
    "    for _ in range(100):\n",
    "        time.sleep(0.01)\n",
    "        for i in range(len(numbers)):\n",
    "            lock.acquire()\n",
    "            numbers[i] += 1\n",
    "            lock.release()\n",
    "\n",
    "\n",
    "if __name__ == \"__main__\":\n",
    "\n",
    "    # create a lock\n",
    "    lock = Lock()\n",
    "    \n",
    "    shared_number = Value('i', 0) \n",
    "    print('Value at beginning:', shared_number.value)\n",
    "\n",
    "    shared_array = Array('d', [0.0, 100.0, 200.0])\n",
    "    print('Array at beginning:', shared_array[:])\n",
    "\n",
    "    # pass the lock to the target function\n",
    "    process1 = Process(target=add_100, args=(shared_number, lock))\n",
    "    process2 = Process(target=add_100, args=(shared_number, lock))\n",
    "\n",
    "    process3 = Process(target=add_100_array, args=(shared_array, lock))\n",
    "    process4 = Process(target=add_100_array, args=(shared_array, lock))\n",
    "\n",
    "    start_time = time.time()\n",
    "    process1.start()\n",
    "    process2.start()\n",
    "    process3.start()\n",
    "    process4.start()\n",
    "\n",
    "    process1.join()\n",
    "    process2.join()\n",
    "    process3.join()\n",
    "    process4.join()\n",
    "    end_time = time.time()\n",
    "\n",
    "    print('Value at end:', shared_number.value)\n",
    "    print('Array at end:', shared_array[:])\n",
    "\n",
    "    print('end main')\n",
    "    print('Total multiprocess time', (end_time - start_time))"
   ]
  },
  {
   "cell_type": "markdown",
   "id": "552c338e",
   "metadata": {},
   "source": [
    "#### Use the lock as a context manager\n",
    "After `lock.acquire()` you should never forget to call `lock.release()` to unblock the code. You can also use a lock as a context manager, wich will safely lock and unlock your code. It is recommended to use a lock this way:"
   ]
  },
  {
   "cell_type": "code",
   "execution_count": null,
   "id": "3d7e4257",
   "metadata": {},
   "outputs": [],
   "source": []
  }
 ],
 "metadata": {
  "kernelspec": {
   "display_name": "Python 3 (ipykernel)",
   "language": "python",
   "name": "python3"
  },
  "language_info": {
   "codemirror_mode": {
    "name": "ipython",
    "version": 3
   },
   "file_extension": ".py",
   "mimetype": "text/x-python",
   "name": "python",
   "nbconvert_exporter": "python",
   "pygments_lexer": "ipython3",
   "version": "3.9.7"
  }
 },
 "nbformat": 4,
 "nbformat_minor": 5
}
