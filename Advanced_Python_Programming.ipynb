{
  "cells": [
    {
      "cell_type": "markdown",
      "metadata": {
        "id": "view-in-github",
        "colab_type": "text"
      },
      "source": [
        "<a href=\"https://colab.research.google.com/github/BRajat/Advanced-Python-Programming/blob/main/Advanced_Python_Programming.ipynb\" target=\"_parent\"><img src=\"https://colab.research.google.com/assets/colab-badge.svg\" alt=\"Open In Colab\"/></a>"
      ]
    },
    {
      "cell_type": "markdown",
      "id": "c93f6caf",
      "metadata": {
        "id": "c93f6caf"
      },
      "source": [
        "## [Advanced Python Programming](https://www.youtube.com/watch?v=HGOBQPFzWKo&list=PLWKjhJtqVAbnqBxcdjVGgT3uVR10bzTEB&index=27)\n",
        "\n"
      ]
    },
    {
      "cell_type": "markdown",
      "id": "e8ab109c",
      "metadata": {
        "id": "e8ab109c"
      },
      "source": [
        "⭐️ Course Contents ⭐️ <br>\n",
        "⌨️ (0:00:00) Intro <br>\n",
        "⌨️ (0:00:56) Lists <br>\n",
        "⌨️ (0:16:30) Tuples <br>\n",
        "⌨️ (0:29:49) Dictionaries <br>\n",
        "⌨️ (0:42:40) Sets <br>\n",
        "⌨️ (0:58:44) Strings <br>\n",
        "⌨️ (1:22:50) Collections <br>\n",
        "⌨️ (1:36:43) Itertools <br>\n",
        "⌨️ (1:51:50) Lambda Functions <br>\n",
        "⌨️ (2:04:03) Exceptions and Errors <br>\n",
        "⌨️ (2:20:10) Logging <br>\n",
        "⌨️ (2:42:20) JSON <br>\n",
        "⌨️ (2:59:42) Random Numbers <br>\n",
        "⌨️ (3:14:23) Decorators <br>\n",
        "⌨️ (3:35:32) Generators <br>\n",
        "⌨️ (3:53:29) Threading vs Multiprocessing <br>\n",
        "⌨️ (4:07:59) Multithreading <br>\n",
        "⌨️ (4:31:05) Multiprocessing <br>\n",
        "⌨️ (4:53:26) Function Arguments <br>\n",
        "⌨️ (5:17:28) The Asterisk (*) Operator <br>\n",
        "⌨️ (5:30:19) Shallow vs Deep Copying  <br>\n",
        "⌨️ (5:40:07) Context Managers"
      ]
    },
    {
      "cell_type": "code",
      "execution_count": null,
      "id": "9903e8bd",
      "metadata": {
        "id": "9903e8bd",
        "outputId": "7335ac10-a006-467b-e8aa-210e65e49a31"
      },
      "outputs": [
        {
          "data": {
            "text/plain": [
              "Counter({'cat': 3, 'dog': 2, 'fish': 1})"
            ]
          },
          "execution_count": 19,
          "metadata": {},
          "output_type": "execute_result"
        }
      ],
      "source": [
        "# Collections - Counter, namedtuple, OrderedDict, defaultdict, deque\n",
        "\n",
        "from collections import *\n",
        "\n",
        "list1 = [ 'cat', 'dog', 'dog','cat','cat','fish']\n",
        "Counter(list1)"
      ]
    },
    {
      "cell_type": "code",
      "execution_count": null,
      "id": "2bc975aa",
      "metadata": {
        "id": "2bc975aa",
        "outputId": "2ca80927-dea9-4bd8-95cd-11553a3d290a"
      },
      "outputs": [
        {
          "name": "stdout",
          "output_type": "stream",
          "text": [
            "Counter({' ': 8, 'o': 4, 'e': 3, 'h': 2, 'u': 2, 'r': 2, 'T': 1, 'q': 1, 'i': 1, 'c': 1, 'k': 1, 'b': 1, 'w': 1, 'n': 1, 'f': 1, 'x': 1, 'j': 1, 'm': 1, 'p': 1, 's': 1, 'v': 1, 't': 1, 'l': 1, 'a': 1, 'z': 1, 'y': 1, 'd': 1, 'g': 1})\n"
          ]
        }
      ],
      "source": [
        "string1 = 'The quick brown fox jumps over the lazy dog'\n",
        "print(Counter(string1))"
      ]
    },
    {
      "cell_type": "code",
      "execution_count": null,
      "id": "38f00b5c",
      "metadata": {
        "id": "38f00b5c",
        "outputId": "1f61886e-09dd-4b3c-abc5-aa1967f44fe7"
      },
      "outputs": [
        {
          "name": "stdout",
          "output_type": "stream",
          "text": [
            "dict_keys(['cat', 'dog', 'fish'])\n"
          ]
        }
      ],
      "source": [
        "tmp = Counter(list1)\n",
        "\n",
        "print(tmp.keys())"
      ]
    },
    {
      "cell_type": "code",
      "execution_count": null,
      "id": "426b009f",
      "metadata": {
        "id": "426b009f",
        "outputId": "99ff687d-aa3b-46ef-b5e6-4a4888e2a5e4"
      },
      "outputs": [
        {
          "name": "stdout",
          "output_type": "stream",
          "text": [
            "Counter({'fish': 1, 'dog': 1, 'cat': 1})\n"
          ]
        }
      ],
      "source": [
        "set1 = set(list1)\n",
        "tmp = Counter(set1)\n",
        "print(tmp)"
      ]
    },
    {
      "cell_type": "code",
      "execution_count": null,
      "id": "6341f052",
      "metadata": {
        "id": "6341f052",
        "outputId": "d73e90ae-99f7-4ef6-f470-7548c9da435d"
      },
      "outputs": [
        {
          "data": {
            "text/plain": [
              "0"
            ]
          },
          "execution_count": 6,
          "metadata": {},
          "output_type": "execute_result"
        }
      ],
      "source": [
        "tmp['fox']"
      ]
    },
    {
      "cell_type": "code",
      "execution_count": null,
      "id": "ae2c16ad",
      "metadata": {
        "id": "ae2c16ad",
        "outputId": "6336d596-a850-4a21-9197-2f8f2d1e3fbd"
      },
      "outputs": [
        {
          "data": {
            "text/plain": [
              "collections.Counter"
            ]
          },
          "execution_count": 7,
          "metadata": {},
          "output_type": "execute_result"
        }
      ],
      "source": [
        "type(tmp)"
      ]
    },
    {
      "cell_type": "code",
      "execution_count": null,
      "id": "d37ec24e",
      "metadata": {
        "id": "d37ec24e",
        "outputId": "35abf93a-08a5-4916-bd7a-ad2b2e3c6009"
      },
      "outputs": [
        {
          "data": {
            "text/plain": [
              "True"
            ]
          },
          "execution_count": 14,
          "metadata": {},
          "output_type": "execute_result"
        }
      ],
      "source": [
        "isinstance(tmp, Counter)"
      ]
    },
    {
      "cell_type": "code",
      "execution_count": null,
      "id": "0696aec0",
      "metadata": {
        "id": "0696aec0",
        "outputId": "05ea5d7b-f6d9-4386-a3e7-8b532dc5a2c4"
      },
      "outputs": [
        {
          "data": {
            "text/plain": [
              "True"
            ]
          },
          "execution_count": 21,
          "metadata": {},
          "output_type": "execute_result"
        }
      ],
      "source": [
        "isinstance(Counter(), Counter)"
      ]
    },
    {
      "cell_type": "code",
      "execution_count": null,
      "id": "9ab1ef60",
      "metadata": {
        "id": "9ab1ef60",
        "outputId": "b5a515a7-fdce-40ec-9f79-847d8feac02f"
      },
      "outputs": [
        {
          "name": "stdout",
          "output_type": "stream",
          "text": [
            "3 1 2\n"
          ]
        }
      ],
      "source": [
        "# collections - namedtuple\n",
        "\n",
        "Point = namedtuple('Point',['wins','losses','draws'])\n",
        "pt = Point(3,1,2)\n",
        "print(pt.wins, pt.losses, pt.draws)"
      ]
    },
    {
      "cell_type": "code",
      "execution_count": null,
      "id": "60879630",
      "metadata": {
        "id": "60879630",
        "outputId": "80990177-925b-4330-d28f-e9f221c34d62"
      },
      "outputs": [
        {
          "name": "stdout",
          "output_type": "stream",
          "text": [
            "Point(wins=3, losses=1, draws=2)\n"
          ]
        }
      ],
      "source": [
        "print(pt)"
      ]
    },
    {
      "cell_type": "code",
      "execution_count": null,
      "id": "36a257ca",
      "metadata": {
        "id": "36a257ca",
        "outputId": "1909a3a1-3e8e-442d-f032-a8d1aaf3c1b6"
      },
      "outputs": [
        {
          "data": {
            "text/plain": [
              "__main__.Point"
            ]
          },
          "execution_count": 26,
          "metadata": {},
          "output_type": "execute_result"
        }
      ],
      "source": [
        "type(pt)"
      ]
    },
    {
      "cell_type": "code",
      "execution_count": null,
      "id": "84428e34",
      "metadata": {
        "id": "84428e34",
        "outputId": "eaf04ca2-cca6-4070-8b04-a487d8a10ab1"
      },
      "outputs": [
        {
          "name": "stdout",
          "output_type": "stream",
          "text": [
            "{'cat': None, 'dog': None, 'fish': None}\n"
          ]
        }
      ],
      "source": [
        "d = dict.fromkeys(list1)\n",
        "print(d)"
      ]
    },
    {
      "cell_type": "code",
      "execution_count": null,
      "id": "8f4c4d05",
      "metadata": {
        "id": "8f4c4d05"
      },
      "outputs": [],
      "source": [
        "for i in range()"
      ]
    },
    {
      "cell_type": "markdown",
      "id": "6b187afb",
      "metadata": {
        "id": "6b187afb"
      },
      "source": [
        "### Shallow and deep copying"
      ]
    },
    {
      "cell_type": "code",
      "execution_count": null,
      "id": "a53af388",
      "metadata": {
        "id": "a53af388"
      },
      "outputs": [],
      "source": [
        "## shallow and deep copy\n",
        "\n",
        "# copy.copy() --> creates shallow copy of depth_1 only\n",
        "# copy.deepcopy() --> create copy at all levels of the underlying object"
      ]
    },
    {
      "cell_type": "code",
      "execution_count": null,
      "id": "bcd6db8b",
      "metadata": {
        "id": "bcd6db8b"
      },
      "outputs": [],
      "source": [
        "# copy of object of basic python datatype\n",
        "\n",
        "obj = 6\n",
        "cpy = obj\n",
        "\n",
        "cpy = 5\n",
        "print(cpy)\n",
        "print(obj)"
      ]
    },
    {
      "cell_type": "markdown",
      "id": "fb3684d1",
      "metadata": {
        "id": "fb3684d1"
      },
      "source": [
        "* Shallow copy of depth 1 works in above example because the data type is of less dimension."
      ]
    },
    {
      "cell_type": "code",
      "execution_count": null,
      "id": "c47592ea",
      "metadata": {
        "id": "c47592ea",
        "outputId": "30fa8496-17c7-441a-82bd-b2ed5b6fb562"
      },
      "outputs": [
        {
          "name": "stdout",
          "output_type": "stream",
          "text": [
            "[-100, 2, 3, 4, 5]\n",
            "[-100, 2, 3, 4, 5]\n"
          ]
        }
      ],
      "source": [
        "# shallow copy of list\n",
        "\n",
        "l1 = [1,2,3,4,5]\n",
        "l2 = l1\n",
        "\n",
        "l2[0] = -100\n",
        "\n",
        "print(l2)\n",
        "print(l1)"
      ]
    },
    {
      "cell_type": "markdown",
      "id": "660951e0",
      "metadata": {
        "id": "660951e0"
      },
      "source": [
        "* In this example of shallow copy what happened is the list object got copied at high level (depth =1) but at deep level the individual elements in list are still getting referenced to same memory location and therefore when then element is updated at the ref pointer it is changed in original list as well."
      ]
    },
    {
      "cell_type": "markdown",
      "id": "a05355e8",
      "metadata": {
        "id": "a05355e8"
      },
      "source": [
        "* We can overcome this by doing cpy = copy.deepcopy(org)"
      ]
    },
    {
      "cell_type": "code",
      "execution_count": null,
      "id": "9f87621b",
      "metadata": {
        "id": "9f87621b",
        "outputId": "eada4ce8-dd30-4eac-cc81-d0515707e4e7"
      },
      "outputs": [
        {
          "name": "stdout",
          "output_type": "stream",
          "text": [
            "[1, 2, 3, 4, 5]\n",
            "[-100, 2, 3, 4, 5]\n"
          ]
        }
      ],
      "source": [
        "import copy\n",
        "\n",
        "l1 = [1,2,3,4,5]\n",
        "l2 = copy.copy(l2)\n",
        "\n",
        "l2[0] = -100\n",
        "\n",
        "print(l1)\n",
        "print(l2)"
      ]
    },
    {
      "cell_type": "markdown",
      "id": "418ffe08",
      "metadata": {
        "id": "418ffe08"
      },
      "source": [
        "* Here also, shallow copy worked for depth + 1 level but it won't for a nested list"
      ]
    },
    {
      "cell_type": "code",
      "execution_count": null,
      "id": "9925a8ad",
      "metadata": {
        "id": "9925a8ad",
        "outputId": "aab24784-d1c8-42e7-99cf-6fae003322e9"
      },
      "outputs": [
        {
          "name": "stdout",
          "output_type": "stream",
          "text": [
            "[[-100, 2, 3, 4, 5], [5, 3, 4, 2, 1]]\n",
            "[[-100, 2, 3, 4, 5], [5, 3, 4, 2, 1]]\n"
          ]
        }
      ],
      "source": [
        "l1 = [[1,2,3,4,5],[5,3,4,2,1]]\n",
        "l2 = copy.copy(l1)\n",
        "\n",
        "l2[0][0] = -100\n",
        "\n",
        "print(l1)\n",
        "print(l2)"
      ]
    },
    {
      "cell_type": "markdown",
      "id": "8a20616e",
      "metadata": {
        "id": "8a20616e"
      },
      "source": [
        "* In this case, shallow copy failed at depth 2 (Always remember - shallow copy works till depth 1 only and so for nested elements its is better to safely copy by using copy.deepcopy()"
      ]
    },
    {
      "cell_type": "code",
      "execution_count": null,
      "id": "d5dccb9c",
      "metadata": {
        "id": "d5dccb9c",
        "outputId": "cfcd4609-c6ba-447e-f64b-8904acfad441"
      },
      "outputs": [
        {
          "name": "stdout",
          "output_type": "stream",
          "text": [
            "[[1, 2, 3, 4, 5], [5, 3, 4, 2, 1]]\n",
            "[[-100, 2, 3, 4, 5], [5, 3, 4, 2, 1]]\n"
          ]
        }
      ],
      "source": [
        "l1 = [[1,2,3,4,5],[5,3,4,2,1]]\n",
        "l2 = copy.deepcopy(l1)\n",
        "\n",
        "l2[0][0] = -100\n",
        "\n",
        "print(l1)\n",
        "print(l2)"
      ]
    },
    {
      "cell_type": "markdown",
      "id": "a4ada171",
      "metadata": {
        "id": "a4ada171"
      },
      "source": [
        "* Above code snippet worked correctly as we would have wanted."
      ]
    },
    {
      "cell_type": "code",
      "execution_count": null,
      "id": "60800822",
      "metadata": {
        "id": "60800822",
        "outputId": "a80f2b64-8741-4322-d222-c2d49eaaa35b"
      },
      "outputs": [
        {
          "name": "stdout",
          "output_type": "stream",
          "text": [
            "39 39\n"
          ]
        }
      ],
      "source": [
        "# shallow and deep copying example with objects.\n",
        "\n",
        "class person:\n",
        "    def __init__(self, name, age):\n",
        "        self.name = name\n",
        "        self.age = age\n",
        "        \n",
        "        \n",
        "p1 = person('Ronaldo', 40)\n",
        "p2 = p1\n",
        "\n",
        "p2.age = 39\n",
        "print(p1.age, p2.age)"
      ]
    },
    {
      "cell_type": "markdown",
      "id": "1dd9cdc8",
      "metadata": {
        "id": "1dd9cdc8"
      },
      "source": [
        "* Here, the instance of object is at depth 1 and the age(instance variable) is at depth 2. So, shallow copying worked at depth 1 only"
      ]
    },
    {
      "cell_type": "code",
      "execution_count": null,
      "id": "6a20a686",
      "metadata": {
        "id": "6a20a686",
        "outputId": "83015913-472a-4c43-fd87-c0fd5f4aa954"
      },
      "outputs": [
        {
          "name": "stdout",
          "output_type": "stream",
          "text": [
            "40 39\n"
          ]
        }
      ],
      "source": [
        "p1 = person('Ronaldo', 40)\n",
        "p2 = copy.copy(p1)\n",
        "\n",
        "p2.age = 39\n",
        "print(p1.age, p2.age)"
      ]
    },
    {
      "cell_type": "markdown",
      "id": "e2b488c7",
      "metadata": {
        "id": "e2b488c7"
      },
      "source": [
        "* Here the shallow copy worked with an extra depth since we used the copy.copy() method"
      ]
    },
    {
      "cell_type": "code",
      "execution_count": null,
      "id": "ad15fb8c",
      "metadata": {
        "id": "ad15fb8c",
        "outputId": "daaba4cb-9a7e-410f-a854-b684a5cb4df3"
      },
      "outputs": [
        {
          "name": "stdout",
          "output_type": "stream",
          "text": [
            "51\n",
            "51\n"
          ]
        }
      ],
      "source": [
        "class company:\n",
        "    def __init__(self, boss, employee):\n",
        "        self.boss = boss\n",
        "        self.employee = employee\n",
        "        \n",
        "p1 = person('Rohit', 35)\n",
        "p2 = person('Dravid', 50)\n",
        "c1 = company(p1, p2)             # p1 boss and p2 employee\n",
        "\n",
        "c2 = copy.copy(c1)\n",
        "c2.boss.age = 51\n",
        "\n",
        "print(c1.boss.age)\n",
        "print(c2.boss.age)"
      ]
    },
    {
      "cell_type": "markdown",
      "id": "9c65e4ce",
      "metadata": {
        "id": "9c65e4ce"
      },
      "source": [
        "* Here the shallow copy didn't work since the depth at which we are copying is 1 level less than the total depth of the instance variable. "
      ]
    },
    {
      "cell_type": "markdown",
      "id": "28c44bb5",
      "metadata": {
        "id": "28c44bb5"
      },
      "source": [
        "### Lambda function"
      ]
    },
    {
      "cell_type": "code",
      "execution_count": null,
      "id": "8a7dcb3e",
      "metadata": {
        "colab": {
          "base_uri": "https://localhost:8080/"
        },
        "id": "8a7dcb3e",
        "outputId": "5e2756b3-fa53-497c-c995-d1a5493a215b"
      },
      "outputs": [
        {
          "name": "stdout",
          "output_type": "stream",
          "text": [
            "81\n"
          ]
        }
      ],
      "source": [
        "sqr = lambda x: x**2               # function with single argument\n",
        "\n",
        "print(sqr(9))"
      ]
    },
    {
      "cell_type": "code",
      "execution_count": null,
      "id": "896b4d1d",
      "metadata": {
        "colab": {
          "base_uri": "https://localhost:8080/"
        },
        "id": "896b4d1d",
        "outputId": "3d2f5ac5-df7f-4670-f08e-c1ceadc70518"
      },
      "outputs": [
        {
          "name": "stdout",
          "output_type": "stream",
          "text": [
            "35\n"
          ]
        }
      ],
      "source": [
        "mult = lambda x,y: x*y             # function with 2 arguments\n",
        "\n",
        "a = 5\n",
        "b = 7\n",
        "print(mult(a,b))"
      ]
    },
    {
      "cell_type": "code",
      "execution_count": null,
      "id": "4713a3f2",
      "metadata": {
        "colab": {
          "base_uri": "https://localhost:8080/"
        },
        "id": "4713a3f2",
        "outputId": "db4dface-8655-4421-e26c-8eaa109cb935"
      },
      "outputs": [
        {
          "name": "stdout",
          "output_type": "stream",
          "text": [
            "9801\n",
            "35\n"
          ]
        }
      ],
      "source": [
        "# also can be written as normal function\n",
        "def sqr_func(a):\n",
        "    return a**2\n",
        "\n",
        "def mult_func(x,y):\n",
        "    return x*y\n",
        "\n",
        "print(sqr_func(99))\n",
        "\n",
        "print(mult_func(5,7))"
      ]
    },
    {
      "cell_type": "code",
      "execution_count": null,
      "id": "4be57cd1",
      "metadata": {
        "colab": {
          "base_uri": "https://localhost:8080/"
        },
        "id": "4be57cd1",
        "outputId": "1b19f3b4-7591-444a-9450-ca7561bca532"
      },
      "outputs": [
        {
          "name": "stdout",
          "output_type": "stream",
          "text": [
            "[10, 2, 1, 4, 16]\n",
            "[100, 4, 1, 16, 256]\n"
          ]
        }
      ],
      "source": [
        "# map, filter and reduce\n",
        "\n",
        "# map --> maps the elements in iterable according to the input function,\n",
        "# gives map object as output, convert that to iterable again\n",
        "\n",
        "input_list = [10,2,1,4,16]\n",
        "sqr = list(map(lambda x: x**2, input_list))\n",
        "\n",
        "print(input_list)\n",
        "print(sqr)"
      ]
    },
    {
      "cell_type": "code",
      "execution_count": null,
      "id": "aa9d02da",
      "metadata": {
        "colab": {
          "base_uri": "https://localhost:8080/"
        },
        "id": "aa9d02da",
        "outputId": "65f1e98a-7d43-4224-8814-d4fdf51cdeda"
      },
      "outputs": [
        {
          "name": "stdout",
          "output_type": "stream",
          "text": [
            "[10, 2, 1, 4, 16]\n",
            "[10, 16]\n"
          ]
        }
      ],
      "source": [
        "# filter --> evaluates conditional expression for all elements in input iteratable\n",
        "# gives filter iterator\n",
        "\n",
        "greaterthan5 = list(filter(lambda x: x>5, input_list))\n",
        "\n",
        "print(input_list)\n",
        "print(greaterthan5)"
      ]
    },
    {
      "cell_type": "code",
      "execution_count": null,
      "id": "08d50163",
      "metadata": {
        "colab": {
          "base_uri": "https://localhost:8080/"
        },
        "id": "08d50163",
        "outputId": "54052c4e-a477-4741-e82d-42e3cd8fd30f"
      },
      "outputs": [
        {
          "name": "stdout",
          "output_type": "stream",
          "text": [
            "[10, 2, 1, 4, 16]\n",
            "33\n"
          ]
        }
      ],
      "source": [
        "# reduce --> reduces the iterable to a single value, according to input function\n",
        "\n",
        "from functools import reduce\n",
        "\n",
        "red = reduce(lambda x,y : x+y, input_list)\n",
        "\n",
        "print(input_list)\n",
        "print(red)"
      ]
    },
    {
      "cell_type": "code",
      "execution_count": null,
      "id": "b96c32bc",
      "metadata": {
        "colab": {
          "base_uri": "https://localhost:8080/"
        },
        "id": "b96c32bc",
        "outputId": "6739d2b6-4fe2-45d1-907d-1294c16636a7"
      },
      "outputs": [
        {
          "name": "stdout",
          "output_type": "stream",
          "text": [
            "original: [(2, 3), (-1, 5), (7, 1), (8, 2), (3, 0)]\n",
            "sorted by first: [(-1, 5), (2, 3), (3, 0), (7, 1), (8, 2)]\n",
            "sorted by second: [(3, 0), (7, 1), (8, 2), (2, 3), (-1, 5)]\n",
            "sorted by second: [(3, 0), (7, 1), (8, 2), (2, 3), (-1, 5)]\n"
          ]
        }
      ],
      "source": [
        "# using lambda function for sorting nested lists\n",
        "\n",
        "list1 = [(2,3),(-1,5),(7,1),(8,2),(3,0)]\n",
        "\n",
        "print('original:', list1)\n",
        "print('sorted by first:',sorted(list1) )                      # sorted according to first element in tuple\n",
        "\n",
        "# if we want to sort by second element, we use argument named 'key' in sorted function\n",
        "print('sorted by second:',sorted(list1, key = lambda x:x[1] ))\n",
        "\n",
        "# we basically give a function as input to function parameter named key\n",
        "# also could be accomplished by\n",
        "def func_key(x):\n",
        "    return x[1]\n",
        "\n",
        "print('sorted by second:',sorted(list1, key = func_key ))"
      ]
    },
    {
      "cell_type": "code",
      "execution_count": null,
      "id": "6981b45f",
      "metadata": {
        "colab": {
          "base_uri": "https://localhost:8080/"
        },
        "id": "6981b45f",
        "outputId": "caf472a7-8af9-40d9-a525-c43ccfb30be6"
      },
      "outputs": [
        {
          "name": "stdout",
          "output_type": "stream",
          "text": [
            "[(2, 3), (-1, 5), (7, 1), (8, 2), (3, 0)]\n",
            "sorted by second: [(3, 0), (2, 3), (-1, 5), (7, 1), (8, 2)]\n",
            "[3.0, 3.61, 5.1, 7.07, 8.25]\n"
          ]
        }
      ],
      "source": [
        "# we can create custom key also, based on combination of elements in tuple\n",
        "# for example: lets sort the list by increasing euclidean distance of the point from the origin\n",
        "\n",
        "import math as m\n",
        "\n",
        "def func_key(x):\n",
        "    return x[0]**2 + x[1]**2\n",
        "\n",
        "\n",
        "print(list1)\n",
        "print('sorted by second:',sorted(list1, key = func_key ))\n",
        "print([round(m.sqrt(x**2 + y**2),2) for x, y in sorted(list1, key = func_key )])\n",
        "\n"
      ]
    },
    {
      "cell_type": "markdown",
      "id": "rzWv0-OSuYoF",
      "metadata": {
        "id": "rzWv0-OSuYoF"
      },
      "source": [
        "### Error and Exception"
      ]
    },
    {
      "cell_type": "code",
      "execution_count": null,
      "id": "SJrRjt0lvBaq",
      "metadata": {
        "colab": {
          "base_uri": "https://localhost:8080/",
          "height": 132
        },
        "id": "SJrRjt0lvBaq",
        "outputId": "121942d3-d0af-47c3-8995-ed29c08a29db"
      },
      "outputs": [
        {
          "ename": "SyntaxError",
          "evalue": "ignored",
          "output_type": "error",
          "traceback": [
            "\u001b[0;36m  File \u001b[0;32m\"<ipython-input-15-fed4b61d14cd>\"\u001b[0;36m, line \u001b[0;32m1\u001b[0m\n\u001b[0;31m    a = 5 print(a)\u001b[0m\n\u001b[0m              ^\u001b[0m\n\u001b[0;31mSyntaxError\u001b[0m\u001b[0;31m:\u001b[0m invalid syntax\n"
          ]
        }
      ],
      "source": [
        "a = 5 print(a)                               # syntax error"
      ]
    },
    {
      "cell_type": "code",
      "execution_count": null,
      "id": "CFEyHpbRvBHt",
      "metadata": {
        "colab": {
          "base_uri": "https://localhost:8080/",
          "height": 132
        },
        "id": "CFEyHpbRvBHt",
        "outputId": "b5aa885d-726e-42e2-fdf6-e26f74b9704a"
      },
      "outputs": [
        {
          "ename": "SyntaxError",
          "evalue": "ignored",
          "output_type": "error",
          "traceback": [
            "\u001b[0;36m  File \u001b[0;32m\"<ipython-input-16-9d41ee1d19cb>\"\u001b[0;36m, line \u001b[0;32m1\u001b[0m\n\u001b[0;31m    s = 2*(2+3\u001b[0m\n\u001b[0m              ^\u001b[0m\n\u001b[0;31mSyntaxError\u001b[0m\u001b[0;31m:\u001b[0m unexpected EOF while parsing\n"
          ]
        }
      ],
      "source": [
        "s = 2*(2+3                                   # syntax error"
      ]
    },
    {
      "cell_type": "code",
      "execution_count": null,
      "id": "ioYZTRe7vAch",
      "metadata": {
        "colab": {
          "base_uri": "https://localhost:8080/",
          "height": 202
        },
        "id": "ioYZTRe7vAch",
        "outputId": "8899af72-28a8-4cbb-ed0c-86ad790bf9e6"
      },
      "outputs": [
        {
          "ename": "TypeError",
          "evalue": "ignored",
          "output_type": "error",
          "traceback": [
            "\u001b[0;31m---------------------------------------------------------------------------\u001b[0m",
            "\u001b[0;31mTypeError\u001b[0m                                 Traceback (most recent call last)",
            "\u001b[0;32m<ipython-input-17-4ed83b9e5f47>\u001b[0m in \u001b[0;36m<module>\u001b[0;34m()\u001b[0m\n\u001b[1;32m      2\u001b[0m \u001b[0ms\u001b[0m \u001b[0;34m=\u001b[0m \u001b[0;34m'ten'\u001b[0m\u001b[0;34m\u001b[0m\u001b[0;34m\u001b[0m\u001b[0m\n\u001b[1;32m      3\u001b[0m \u001b[0;34m\u001b[0m\u001b[0m\n\u001b[0;32m----> 4\u001b[0;31m \u001b[0mprint\u001b[0m\u001b[0;34m(\u001b[0m\u001b[0ma\u001b[0m \u001b[0;34m+\u001b[0m \u001b[0ms\u001b[0m\u001b[0;34m)\u001b[0m\u001b[0;34m\u001b[0m\u001b[0;34m\u001b[0m\u001b[0m\n\u001b[0m",
            "\u001b[0;31mTypeError\u001b[0m: unsupported operand type(s) for +: 'int' and 'str'"
          ]
        }
      ],
      "source": [
        "a = 5\n",
        "s = 'ten'\n",
        "\n",
        "print(a + s)                                 # type error"
      ]
    },
    {
      "cell_type": "code",
      "execution_count": null,
      "id": "8cbb7a0b",
      "metadata": {
        "colab": {
          "base_uri": "https://localhost:8080/",
          "height": 167
        },
        "id": "8cbb7a0b",
        "outputId": "f349ad21-161c-4f58-f575-1ea087d493e2"
      },
      "outputs": [
        {
          "ename": "ZeroDivisionError",
          "evalue": "ignored",
          "output_type": "error",
          "traceback": [
            "\u001b[0;31m---------------------------------------------------------------------------\u001b[0m",
            "\u001b[0;31mZeroDivisionError\u001b[0m                         Traceback (most recent call last)",
            "\u001b[0;32m<ipython-input-19-87ac9c94a8c2>\u001b[0m in \u001b[0;36m<module>\u001b[0;34m()\u001b[0m\n\u001b[0;32m----> 1\u001b[0;31m \u001b[0;36m4\u001b[0m \u001b[0;34m/\u001b[0m \u001b[0;36m0\u001b[0m\u001b[0;34m\u001b[0m\u001b[0;34m\u001b[0m\u001b[0m\n\u001b[0m",
            "\u001b[0;31mZeroDivisionError\u001b[0m: division by zero"
          ]
        }
      ],
      "source": [
        "4 / 0                               # zero division error"
      ]
    },
    {
      "cell_type": "code",
      "execution_count": null,
      "id": "6t-XpiYhvwI2",
      "metadata": {
        "id": "6t-XpiYhvwI2"
      },
      "outputs": [],
      "source": [
        "# other errors\n",
        "\n",
        "# ValueError - Value not in object\n",
        "# IndexError - List index out of range\n",
        "# KeyError - key not in dict\n",
        "\n"
      ]
    },
    {
      "cell_type": "code",
      "execution_count": null,
      "id": "ujQZIxUiwhjL",
      "metadata": {
        "colab": {
          "base_uri": "https://localhost:8080/",
          "height": 202
        },
        "id": "ujQZIxUiwhjL",
        "outputId": "e58fc078-4c3f-441a-b89d-3b5cb474da48"
      },
      "outputs": [
        {
          "ename": "Exception",
          "evalue": "ignored",
          "output_type": "error",
          "traceback": [
            "\u001b[0;31m---------------------------------------------------------------------------\u001b[0m",
            "\u001b[0;31mException\u001b[0m                                 Traceback (most recent call last)",
            "\u001b[0;32m<ipython-input-21-90c60f61f770>\u001b[0m in \u001b[0;36m<module>\u001b[0;34m()\u001b[0m\n\u001b[1;32m      3\u001b[0m \u001b[0mx\u001b[0m \u001b[0;34m=\u001b[0m \u001b[0;34m-\u001b[0m\u001b[0;36m10\u001b[0m\u001b[0;34m\u001b[0m\u001b[0;34m\u001b[0m\u001b[0m\n\u001b[1;32m      4\u001b[0m \u001b[0;32mif\u001b[0m \u001b[0mx\u001b[0m \u001b[0;34m<\u001b[0m \u001b[0;36m0\u001b[0m\u001b[0;34m:\u001b[0m\u001b[0;34m\u001b[0m\u001b[0;34m\u001b[0m\u001b[0m\n\u001b[0;32m----> 5\u001b[0;31m   \u001b[0;32mraise\u001b[0m \u001b[0mException\u001b[0m\u001b[0;34m(\u001b[0m\u001b[0;34m'x should be positive'\u001b[0m\u001b[0;34m)\u001b[0m\u001b[0;34m\u001b[0m\u001b[0;34m\u001b[0m\u001b[0m\n\u001b[0m",
            "\u001b[0;31mException\u001b[0m: x should be positive"
          ]
        }
      ],
      "source": [
        "# Raising exceptions by code logic example\n",
        "\n",
        "x = -10\n",
        "if x < 0:\n",
        "  raise Exception('x should be positive')"
      ]
    },
    {
      "cell_type": "code",
      "execution_count": null,
      "id": "T9lESoU049JT",
      "metadata": {
        "colab": {
          "base_uri": "https://localhost:8080/",
          "height": 185
        },
        "id": "T9lESoU049JT",
        "outputId": "aaa2aa8f-1c04-4138-8b64-b2de9ec6a1fc"
      },
      "outputs": [
        {
          "ename": "AssertionError",
          "evalue": "ignored",
          "output_type": "error",
          "traceback": [
            "\u001b[0;31m---------------------------------------------------------------------------\u001b[0m",
            "\u001b[0;31mAssertionError\u001b[0m                            Traceback (most recent call last)",
            "\u001b[0;32m<ipython-input-23-d106f361ace6>\u001b[0m in \u001b[0;36m<module>\u001b[0;34m()\u001b[0m\n\u001b[1;32m      1\u001b[0m \u001b[0mx\u001b[0m \u001b[0;34m=\u001b[0m \u001b[0;34m-\u001b[0m\u001b[0;36m5\u001b[0m\u001b[0;34m\u001b[0m\u001b[0;34m\u001b[0m\u001b[0m\n\u001b[0;32m----> 2\u001b[0;31m \u001b[0;32massert\u001b[0m\u001b[0;34m(\u001b[0m\u001b[0mx\u001b[0m\u001b[0;34m>\u001b[0m\u001b[0;36m0\u001b[0m\u001b[0;34m)\u001b[0m\u001b[0;34m,\u001b[0m \u001b[0;34m'x is not positive'\u001b[0m\u001b[0;34m\u001b[0m\u001b[0;34m\u001b[0m\u001b[0m\n\u001b[0m",
            "\u001b[0;31mAssertionError\u001b[0m: x is not positive"
          ]
        }
      ],
      "source": [
        "x = -5\n",
        "assert(x>0), 'x is not positive'"
      ]
    },
    {
      "cell_type": "code",
      "execution_count": null,
      "id": "-oGl38uQ5IgB",
      "metadata": {
        "colab": {
          "base_uri": "https://localhost:8080/"
        },
        "id": "-oGl38uQ5IgB",
        "outputId": "e5c6665b-5b41-400e-d89c-a11368e7f148"
      },
      "outputs": [
        {
          "name": "stdout",
          "output_type": "stream",
          "text": [
            "unsupported operand type(s) for +: 'int' and 'str'\n",
            "Done\n"
          ]
        }
      ],
      "source": [
        "# try, except and finally\n",
        "import random\n",
        "\n",
        "try:\n",
        "  x = 4 / 1\n",
        "  y = 4 + 'string'\n",
        "except ZeroDivisionError as e:\n",
        "    print(e)\n",
        "except Exception as e:\n",
        "    print(e)\n",
        "else:\n",
        "    print('Everything is fine')                   # else block executes if no exception in try block\n",
        "finally:\n",
        "    print('Done')                                 # finally always runs"
      ]
    },
    {
      "cell_type": "code",
      "execution_count": null,
      "id": "ZOUmBT3j7cRX",
      "metadata": {
        "colab": {
          "base_uri": "https://localhost:8080/"
        },
        "id": "ZOUmBT3j7cRX",
        "outputId": "3697d1f3-e397-4104-852a-1bf0ce241ed5"
      },
      "outputs": [
        {
          "name": "stdout",
          "output_type": "stream",
          "text": [
            "value is too high\n"
          ]
        }
      ],
      "source": [
        "# writing custom exception classes\n",
        "\n",
        "class ValueTooHigh(Exception):\n",
        "    pass\n",
        "\n",
        "def test_value(x):\n",
        "    if x >100:\n",
        "        raise ValueTooHigh('Value is too high')\n",
        "  \n",
        "    try:\n",
        "        test_value(200)\n",
        "    except ValueTooHigh as e:\n",
        "        print(e)"
      ]
    },
    {
      "cell_type": "code",
      "execution_count": null,
      "id": "gKmRdGbf8Yk_",
      "metadata": {
        "colab": {
          "base_uri": "https://localhost:8080/"
        },
        "id": "gKmRdGbf8Yk_",
        "outputId": "0e51661f-cb0d-41a9-b62a-1920397ba98c"
      },
      "outputs": [
        {
          "name": "stdout",
          "output_type": "stream",
          "text": [
            "Value is High\n"
          ]
        }
      ],
      "source": [
        "class ValueTooLow(Exception):\n",
        "    def __init__(self, message, value):                 # defining constructor method for exception class\n",
        "        self.message = message\n",
        "        self.value = value\n",
        "\n",
        "def test_value(x):\n",
        "    if x<5:\n",
        "        raise ValueTooLow('Value is low', x)\n",
        "    if x>100:\n",
        "        raise ValueTooHigh('Value is High')\n",
        "\n",
        "    try:\n",
        "        test_value(1000)\n",
        "    except ValueTooHigh as e:\n",
        "        print(e)\n",
        "    except ValueTooLow as e:\n",
        "        print(e.message, e.value)\n"
      ]
    },
    {
      "cell_type": "markdown",
      "id": "FIkEJQli_QOg",
      "metadata": {
        "id": "FIkEJQli_QOg"
      },
      "source": [
        "### Logging (Incomplete)"
      ]
    },
    {
      "cell_type": "markdown",
      "id": "EoyO2xmo_avj",
      "metadata": {
        "id": "EoyO2xmo_avj"
      },
      "source": [
        "* Python has a built in log module\n",
        "* Logging is possible to 5 differenet log levels - debug, info, warning, error, critical\n",
        "* Reference Doc -\n",
        "  1. [Logging HOWTO](https://docs.python.org/3/howto/logging.html)\n",
        "  2. [Logging Cookbook](https://docs.python.org/3/howto/logging-cookbook.html)\n",
        "\n",
        "* Logging to generate logs. To understand if code is working as is supposed to work. To understand the execution and limitation of code."
      ]
    },
    {
      "cell_type": "markdown",
      "id": "50bf2fc1",
      "metadata": {
        "id": "50bf2fc1"
      },
      "source": [
        "### Running python file from jupyter"
      ]
    },
    {
      "cell_type": "code",
      "execution_count": null,
      "id": "a71b3c98",
      "metadata": {
        "id": "a71b3c98",
        "outputId": "3d77b321-e43d-4147-b5ff-89571a70987a"
      },
      "outputs": [
        {
          "name": "stdout",
          "output_type": "stream",
          "text": [
            "Sum: 44\n"
          ]
        }
      ],
      "source": [
        "%run add.py"
      ]
    },
    {
      "cell_type": "markdown",
      "id": "4ca8f87a",
      "metadata": {
        "id": "4ca8f87a"
      },
      "source": [
        "### Propogation set to True or False"
      ]
    },
    {
      "cell_type": "code",
      "execution_count": null,
      "id": "512c3a97",
      "metadata": {
        "id": "512c3a97"
      },
      "outputs": [],
      "source": [
        "# helper.py\n",
        "# -------------------------------------\n",
        "import logging\n",
        "logger = logging.getLogger(__name__)\n",
        "logger.propagate = False\n",
        "logger.info('HELLO')\n",
        "\n",
        "# main.py\n",
        "# -------------------------------------\n",
        "import logging\n",
        "logging.basicConfig(level=logginga.INFO, format='%(name)s - %(levelname)s - %(message)s')\n",
        "import helper\n",
        "\n",
        "# --> No output when running main.py since the helper module logger does not propagate its messages to the root logger"
      ]
    },
    {
      "cell_type": "markdown",
      "id": "44b9204c",
      "metadata": {
        "id": "44b9204c"
      },
      "source": [
        "### Threading"
      ]
    },
    {
      "cell_type": "code",
      "execution_count": null,
      "id": "0bddec94",
      "metadata": {
        "id": "0bddec94",
        "outputId": "f93760ab-a0f1-4e0b-f8e1-79105a1e199d"
      },
      "outputs": [
        {
          "name": "stdout",
          "output_type": "stream",
          "text": [
            "Start value:  0\n",
            "End value: 1\n",
            "end main\n"
          ]
        }
      ],
      "source": [
        "from threading import Thread\n",
        "import time\n",
        "\n",
        "\n",
        "# all threads can access this global variable\n",
        "database_value = 0\n",
        "\n",
        "def increase():\n",
        "    global database_value # needed to modify the global value\n",
        "    \n",
        "    # get a local copy (simulate data retrieving)\n",
        "    local_copy = database_value\n",
        "        \n",
        "    # simulate some modifying operation\n",
        "    local_copy += 1\n",
        "    time.sleep(0.1)\n",
        "        \n",
        "    # write the calculated new value into the global variable\n",
        "    database_value = local_copy\n",
        "\n",
        "\n",
        "if __name__ == \"__main__\":\n",
        "\n",
        "    print('Start value: ', database_value)\n",
        "\n",
        "    t1 = Thread(target=increase)\n",
        "    t2 = Thread(target=increase)\n",
        "\n",
        "    t1.start()\n",
        "    t2.start()\n",
        "\n",
        "    t1.join()\n",
        "    t2.join()\n",
        "\n",
        "    print('End value:', database_value)\n",
        "\n",
        "    print('end main')"
      ]
    },
    {
      "cell_type": "code",
      "execution_count": null,
      "id": "2ade2d9d",
      "metadata": {
        "id": "2ade2d9d",
        "outputId": "44ef1f11-dc30-418c-9bce-b07de97d6e49"
      },
      "outputs": [
        {
          "name": "stdout",
          "output_type": "stream",
          "text": [
            "Start value:  0\n",
            "End value: 2\n",
            "end main\n"
          ]
        }
      ],
      "source": [
        "from threading import Thread, Lock\n",
        "import time\n",
        "\n",
        "\n",
        "# all threads can access this global variable\n",
        "database_value = 0\n",
        "\n",
        "def increase(lock):\n",
        "    global database_value # needed to modify the global value\n",
        "    \n",
        "    with lock:\n",
        "        # get a local copy (simulate data retrieving)\n",
        "        local_copy = database_value\n",
        "        # simulate some modifying operation\n",
        "        local_copy += 1\n",
        "        time.sleep(0.1)\n",
        "        \n",
        "        # write the calculated new value into the global variable\n",
        "        database_value = local_copy\n",
        "\n",
        "\n",
        "if __name__ == \"__main__\":\n",
        "    \n",
        "    lock = Lock()\n",
        "\n",
        "    print('Start value: ', database_value)\n",
        "\n",
        "    t1 = Thread(target=increase, args = (lock,))\n",
        "    t2 = Thread(target=increase, args = (lock,))\n",
        "\n",
        "    t1.start()\n",
        "    t2.start()\n",
        "\n",
        "    t1.join()\n",
        "    t2.join()\n",
        "\n",
        "    print('End value:', database_value)\n",
        "\n",
        "    print('end main')"
      ]
    },
    {
      "cell_type": "markdown",
      "id": "34966465",
      "metadata": {
        "id": "34966465"
      },
      "source": [
        "1. **Without lock only 1 thread got executed, with lock the thread executed in synchonized way** <br>\n",
        "2. `time.sleep(0.1)` **is very important to understand race condition**"
      ]
    },
    {
      "cell_type": "code",
      "execution_count": null,
      "id": "3a61ea05",
      "metadata": {
        "id": "3a61ea05",
        "outputId": "41c80da8-215c-4887-be06-417c3b369796"
      },
      "outputs": [
        {
          "name": "stdout",
          "output_type": "stream",
          "text": [
            "in Thread2 got 0\n",
            "in Thread2 got 1\n",
            "in Thread2 got 2\n",
            "in Thread2 got 3\n",
            "in Thread2 got 4\n",
            "in Thread2 got 5\n",
            "in Thread2 got 6\n",
            "in Thread2 got 7\n",
            "in Thread2 got 8\n",
            "in Thread5 got 9\n",
            "in Thread4 got 10\n",
            "in Thread6 got 11\n",
            "in Thread7 got 12\n",
            "in Thread9 got 13\n",
            "in Thread10 got 14\n",
            "in Thread3 got 15\n",
            "in Thread8 got 16\n",
            "in Thread1 got 17\n",
            "in Thread2 got 18\n",
            "in Thread5 got 19\n",
            "main done\n"
          ]
        }
      ],
      "source": [
        "from threading import Thread, Lock, current_thread\n",
        "from queue import Queue\n",
        "\n",
        "def worker(q, lock):\n",
        "    while True:\n",
        "        value = q.get()  # blocks until the item is available\n",
        "\n",
        "        # do stuff...\n",
        "        with lock:\n",
        "            # prevent printing at the same time with this lock\n",
        "            print(f\"in {current_thread().name} got {value}\")\n",
        "        # ...\n",
        "\n",
        "        # For each get(), a subsequent call to task_done() tells the queue\n",
        "        # that the processing on this item is complete.\n",
        "        # If all tasks are done, q.join() can unblock\n",
        "        q.task_done()\n",
        "\n",
        "\n",
        "if __name__ == '__main__':\n",
        "    q = Queue()\n",
        "    num_threads = 10\n",
        "    lock = Lock()\n",
        "\n",
        "    for i in range(num_threads):\n",
        "        t = Thread(name=f\"Thread{i+1}\", target=worker, args=(q, lock))\n",
        "        t.daemon = True  # dies when the main thread dies\n",
        "        t.start()\n",
        "    \n",
        "    # fill the queue with items\n",
        "    for x in range(20):\n",
        "        q.put(x)\n",
        "\n",
        "    q.join()  # Blocks until all items in the queue have been gotten and processed.\n",
        "\n",
        "    print('main done')"
      ]
    },
    {
      "cell_type": "markdown",
      "id": "65b913fb",
      "metadata": {
        "id": "65b913fb"
      },
      "source": [
        "### Multiprocessing"
      ]
    },
    {
      "cell_type": "code",
      "execution_count": null,
      "id": "ebe28f08",
      "metadata": {
        "id": "ebe28f08",
        "outputId": "34d3324a-47be-4cd5-d6e0-338e6386fcd5"
      },
      "outputs": [
        {
          "name": "stdout",
          "output_type": "stream",
          "text": [
            "Value at beginning: 0\n",
            "Array at beginning: [0.0, 100.0, 200.0]\n",
            "Value at end: 200\n",
            "Array at end: [198.0, 299.0, 399.0]\n",
            "end main\n",
            "Total multiprocess time 10.038383960723877\n"
          ]
        }
      ],
      "source": [
        "from multiprocessing import Process, Value, Array\n",
        "import time\n",
        "\n",
        "def add_100(number):\n",
        "    for _ in range(100):\n",
        "        time.sleep(0.01)\n",
        "        number.value += 1\n",
        "\n",
        "def add_100_array(numbers):\n",
        "    for _ in range(100):\n",
        "        time.sleep(0.1)\n",
        "        for i in range(len(numbers)):\n",
        "            numbers[i] += 1\n",
        "\n",
        "\n",
        "if __name__ == \"__main__\":\n",
        "\n",
        "    shared_number = Value('i', 0) \n",
        "    print('Value at beginning:', shared_number.value)\n",
        "\n",
        "    shared_array = Array('d', [0.0, 100.0, 200.0])\n",
        "    print('Array at beginning:', shared_array[:])\n",
        "\n",
        "    process1 = Process(target=add_100, args=(shared_number,))\n",
        "    process2 = Process(target=add_100, args=(shared_number,))\n",
        "\n",
        "    process3 = Process(target=add_100_array, args=(shared_array,))\n",
        "    process4 = Process(target=add_100_array, args=(shared_array,))\n",
        "\n",
        "    start_time = time.time()\n",
        "    process1.start()\n",
        "    process2.start()\n",
        "    process3.start()\n",
        "    process4.start()\n",
        "\n",
        "    process1.join()\n",
        "    process2.join()\n",
        "    process3.join()\n",
        "    process4.join()\n",
        "    end_time = time.time()\n",
        "\n",
        "    print('Value at end:', shared_number.value)\n",
        "    print('Array at end:', shared_array[:])\n",
        "\n",
        "    print('end main')\n",
        "    print('Total multiprocess time', (end_time - start_time))"
      ]
    },
    {
      "cell_type": "markdown",
      "id": "69b19757",
      "metadata": {
        "id": "69b19757"
      },
      "source": [
        "**Observations -**\n",
        "1. The race condition is more probable, for longer processes.\n",
        "2. The race condition can only be avoided by use of locks or queue."
      ]
    },
    {
      "cell_type": "markdown",
      "id": "0c4abfb6",
      "metadata": {
        "id": "0c4abfb6"
      },
      "source": [
        "### How to use `Locks`\n",
        "Notice that in the above example, the 2 processes should increment the shared value by 1 for 100 times. This results in 200 total operations. But why is the end value not 200?\n",
        "\n",
        "#### Race condition\n",
        "A race condition happened here. A race condition occurs when two or more processes or threads can access shared data and they try to change it at the same time. In our example the two processes have to read the shared value, increase it by 1, and write it back into the shared variable. If this happens at the same time, the two processes read the same value, increase it and write it back. Thus, both processes write the same increased value back into the shared object, and the value was not increased by 2. See https://www.python-engineer.com/learn/advancedpython16_threading/ for a detailed explanation of race conditions.\n",
        "\n",
        "#### Avoid race conditions with `Locks`\n",
        "A lock (also known as mutex) is a synchronization mechanism for enforcing limits on access to a resource in an environment where there are many processes/threads of execution. A Lock has two states: **locked** and **unlocked**. \n",
        "If the state is locked, it does not allow other concurrent processes/threads to enter this code section until the state is unlocked again.\n",
        "\n",
        "Two functions are important:\n",
        "- `lock.acquire()` : This will lock the state and block\n",
        "- `lock.release()` : This will unlock the state again.\n",
        "\n",
        "Important: You should always release the block again after it was acquired!\n",
        "\n",
        "In our example the critical code section where the shared variable is read and increased is now locked. This prevents the second process from modyfing the shared object at the same time. Not much has changed in our code. All new changes are commented in the code below."
      ]
    },
    {
      "cell_type": "code",
      "execution_count": null,
      "id": "d56fbcfb",
      "metadata": {
        "id": "d56fbcfb",
        "outputId": "80a0d6a5-51fb-45b5-a608-0c59ee79a48b"
      },
      "outputs": [
        {
          "name": "stdout",
          "output_type": "stream",
          "text": [
            "Value at beginning: 0\n",
            "Array at beginning: [0.0, 100.0, 200.0]\n",
            "Value at end: 200\n",
            "Array at end: [200.0, 300.0, 400.0]\n",
            "end main\n",
            "Total multiprocess time 1.0320227146148682\n"
          ]
        }
      ],
      "source": [
        "# import Lock\n",
        "from multiprocessing import Lock\n",
        "from multiprocessing import Process, Value, Array\n",
        "import time\n",
        "\n",
        "def add_100(number, lock):\n",
        "    for _ in range(100):\n",
        "        time.sleep(0.01)\n",
        "        # lock the state\n",
        "        lock.acquire()\n",
        "        \n",
        "        number.value += 1\n",
        "        \n",
        "        # unlock the state\n",
        "        lock.release()\n",
        "\n",
        "def add_100_array(numbers, lock):\n",
        "    for _ in range(100):\n",
        "        time.sleep(0.01)\n",
        "        for i in range(len(numbers)):\n",
        "            lock.acquire()\n",
        "            numbers[i] += 1\n",
        "            lock.release()\n",
        "\n",
        "\n",
        "if __name__ == \"__main__\":\n",
        "\n",
        "    # create a lock\n",
        "    lock = Lock()\n",
        "    \n",
        "    shared_number = Value('i', 0) \n",
        "    print('Value at beginning:', shared_number.value)\n",
        "\n",
        "    shared_array = Array('d', [0.0, 100.0, 200.0])\n",
        "    print('Array at beginning:', shared_array[:])\n",
        "\n",
        "    # pass the lock to the target function\n",
        "    process1 = Process(target=add_100, args=(shared_number, lock))\n",
        "    process2 = Process(target=add_100, args=(shared_number, lock))\n",
        "\n",
        "    process3 = Process(target=add_100_array, args=(shared_array, lock))\n",
        "    process4 = Process(target=add_100_array, args=(shared_array, lock))\n",
        "\n",
        "    start_time = time.time()\n",
        "    process1.start()\n",
        "    process2.start()\n",
        "    process3.start()\n",
        "    process4.start()\n",
        "\n",
        "    process1.join()\n",
        "    process2.join()\n",
        "    process3.join()\n",
        "    process4.join()\n",
        "    end_time = time.time()\n",
        "\n",
        "    print('Value at end:', shared_number.value)\n",
        "    print('Array at end:', shared_array[:])\n",
        "\n",
        "    print('end main')\n",
        "    print('Total multiprocess time', (end_time - start_time))"
      ]
    },
    {
      "cell_type": "markdown",
      "id": "552c338e",
      "metadata": {
        "id": "552c338e"
      },
      "source": [
        "#### Use the lock as a context manager\n",
        "After `lock.acquire()` you should never forget to call `lock.release()` to unblock the code. You can also use a lock as a context manager, wich will safely lock and unlock your code. It is recommended to use a lock this way:"
      ]
    },
    {
      "cell_type": "markdown",
      "id": "0c45eef1",
      "metadata": {
        "id": "0c45eef1"
      },
      "source": [
        "### Context Managers"
      ]
    },
    {
      "cell_type": "code",
      "execution_count": null,
      "id": "68cd5f29",
      "metadata": {
        "colab": {
          "base_uri": "https://localhost:8080/"
        },
        "id": "68cd5f29",
        "outputId": "2a390313-eb22-44ac-d29d-1da641eea96d"
      },
      "outputs": [
        {
          "name": "stdout",
          "output_type": "stream",
          "text": [
            "True\n"
          ]
        }
      ],
      "source": [
        "with open('testfile.txt','w') as f:\n",
        "    f.write('This is first line')\n",
        "    f.write('This is second line')\n",
        "\n",
        "print(f.closed)\n",
        "\n",
        "# with context manager we don't need to close file explicitly incase an exception occurs. \n",
        "# it is equivalent to writing a try-except-finally block of code"
      ]
    },
    {
      "cell_type": "code",
      "execution_count": null,
      "id": "eC4aOP30syKo",
      "metadata": {
        "colab": {
          "base_uri": "https://localhost:8080/"
        },
        "id": "eC4aOP30syKo",
        "outputId": "9793ac87-39c7-4bb6-a73a-ed2939f12a00"
      },
      "outputs": [
        {
          "data": {
            "text/plain": [
              "True"
            ]
          },
          "execution_count": 38,
          "metadata": {},
          "output_type": "execute_result"
        }
      ],
      "source": [
        "try:\n",
        "    f = open('testfile1.txt','w')\n",
        "    f.write('Something')\n",
        "finally:\n",
        "    f.close()                          # in case of context manager, we don't have to write f.close()\n",
        "\n",
        "f.closed\n"
      ]
    },
    {
      "cell_type": "code",
      "execution_count": null,
      "id": "vnAC_pocxR68",
      "metadata": {
        "colab": {
          "base_uri": "https://localhost:8080/"
        },
        "id": "vnAC_pocxR68",
        "outputId": "889430ea-26fd-43dc-86dd-e889879a6f79"
      },
      "outputs": [
        {
          "name": "stdout",
          "output_type": "stream",
          "text": [
            "division by zero\n"
          ]
        },
        {
          "data": {
            "text/plain": [
              "True"
            ]
          },
          "execution_count": 40,
          "metadata": {},
          "output_type": "execute_result"
        }
      ],
      "source": [
        "try:\n",
        "    f = open('testfile1.txt','w')\n",
        "    f.write('Something')\n",
        "    x = 4 / 0\n",
        "    f.write(x)\n",
        "except Exception as e:\n",
        "    print(e)\n",
        "finally:\n",
        "    f.close()                # in case of context manager, we don't have to write f.close()\n",
        "\n",
        "f.closed"
      ]
    },
    {
      "cell_type": "code",
      "execution_count": null,
      "id": "nt2bG_V7xvgW",
      "metadata": {
        "colab": {
          "base_uri": "https://localhost:8080/"
        },
        "id": "nt2bG_V7xvgW",
        "outputId": "2f74e983-6ad4-474e-95b1-0191b88ee92c"
      },
      "outputs": [
        {
          "name": "stdout",
          "output_type": "stream",
          "text": [
            "division by zero\n"
          ]
        },
        {
          "data": {
            "text/plain": [
              "False"
            ]
          },
          "execution_count": 41,
          "metadata": {},
          "output_type": "execute_result"
        }
      ],
      "source": [
        "try:\n",
        "    f = open('testfile1.txt','w')\n",
        "    f.write('Something')\n",
        "    x = 4 / 0\n",
        "    f.write(x)\n",
        "except Exception as e:\n",
        "    print(e)                # in case of context manager, we don't have to write f.close()\n",
        "\n",
        "f.closed                  # here file not closed because of exception"
      ]
    },
    {
      "cell_type": "code",
      "execution_count": null,
      "id": "V6EPGbepyAAE",
      "metadata": {
        "id": "V6EPGbepyAAE"
      },
      "outputs": [],
      "source": [
        "# revisit context manager for example of multi-threading"
      ]
    },
    {
      "cell_type": "markdown",
      "id": "2708862e",
      "metadata": {
        "id": "2708862e"
      },
      "source": [
        "### Network Programming"
      ]
    },
    {
      "cell_type": "code",
      "execution_count": null,
      "id": "433f7d66",
      "metadata": {
        "id": "433f7d66",
        "outputId": "d2b30db9-1ac6-4f37-df1f-183cbef415c8"
      },
      "outputs": [
        {
          "name": "stdout",
          "output_type": "stream",
          "text": [
            "HTTP/1.1 200 OK\r\n",
            "Date: Tue, 22 Feb 2022 10:22:17 GMT\r\n",
            "Server: Apache/2.4.18 (Ubuntu)\r\n",
            "Last-Modified: Sat, 13 May 2017 11:22:22 GMT\r\n",
            "ETag: \"a7-54f6609245537\"\r\n",
            "Accept-Ranges: bytes\r\n",
            "Content-Length: 167\r\n",
            "Cache-Control: max-age=0, no-cache, no-store, must-revalidate\r\n",
            "Pragma: no-cache\r\n",
            "Expires: Wed, 11 Jan 1984 05:00:00 GMT\r\n",
            "Connection: close\r\n",
            "Content-Type: text/plain\r\n",
            "\r\n",
            "But soft what light through yonder window breaks\n",
            "It is the east and Juliet is the sun\n",
            "Arise fair sun and kill the envious moon\n",
            "Who is already sick and pale with grief\n"
          ]
        }
      ],
      "source": [
        "# A simple web browser application\n",
        "import socket\n",
        "\n",
        "mysock = socket.socket(socket.AF_INET, socket.SOCK_STREAM)  # creating a socket named mysock\n",
        "mysock.connect(('data.pr4e.org', 80))                       # connecting to the web server at it's port 80\n",
        "cmd = 'GET http://data.pr4e.org/romeo.txt HTTP/1.0\\r\\n\\r\\n'.encode()  \n",
        "mysock.send(cmd)                                            # sending the message to web server\n",
        "\n",
        "\n",
        "while True:\n",
        "    data = mysock.recv(512)                                 # recieve data in len of 512 characters      \n",
        "    if len(data) < 1:                                       # if no data is coming break the loop and close socket conn\n",
        "        break\n",
        "    print(data.decode(),end='')                             # decode and print\n",
        "\n",
        "mysock.close()                                              # close \n",
        "\n",
        "\n",
        "\n"
      ]
    },
    {
      "cell_type": "markdown",
      "id": "83a79686",
      "metadata": {
        "id": "83a79686"
      },
      "source": [
        "### various protocols are configured to connect at various port\n",
        "![image.png](attachment:image.png)\n"
      ]
    },
    {
      "cell_type": "markdown",
      "id": "0ac4ab7b",
      "metadata": {
        "id": "0ac4ab7b"
      },
      "source": [
        "### in terminal -\n",
        "\n",
        ">telnet web_server_name port_number <br>\n",
        ">GET http://data.pr4e.org/romeo.txt HTTP/1.0\n",
        ">\n",
        "\n",
        "\n",
        "**Example**<br>\n",
        "\n",
        ">telnet data.pr4e.org 80 <br>\n",
        ">GET http://data.pr4e.org/romeo.txt HTTP/1.0\n",
        ">"
      ]
    },
    {
      "cell_type": "markdown",
      "id": "4254bd0e",
      "metadata": {
        "id": "4254bd0e"
      },
      "source": [
        "#### Characters and String\n",
        "\n",
        "1. Different data encodings like ASCII, UTF-8, UTF-16, UTF-32.\n",
        "2. Python String in Python 3 are Unicode encodings.\n",
        "\n",
        "![image.png](data:image/png;base64,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)![image.png](attachment:image.png)"
      ]
    },
    {
      "cell_type": "markdown",
      "id": "f864d8f3",
      "metadata": {
        "id": "f864d8f3"
      },
      "source": [
        "3. In python 2, string are synonymous with byte string, while in python 3, strings are synonymous with unicode string.\n",
        "4. String --> encode --> byte array\n",
        "5. Byte array --> decode --> string"
      ]
    },
    {
      "cell_type": "markdown",
      "id": "21858a7c",
      "metadata": {
        "id": "21858a7c"
      },
      "source": [
        "### urllib - not even need socket library"
      ]
    },
    {
      "cell_type": "code",
      "execution_count": null,
      "id": "10053600",
      "metadata": {
        "id": "10053600",
        "outputId": "e9350411-a6c3-483f-a160-aa3f039ff0dd"
      },
      "outputs": [
        {
          "name": "stdout",
          "output_type": "stream",
          "text": [
            "<h1>The First Page</h1>\n",
            "<p>\n",
            "If you like, you can switch to the\n",
            "<a href=\"http://www.dr-chuck.com/page2.htm\">\n",
            "Second Page</a>.\n",
            "</p>\n"
          ]
        }
      ],
      "source": [
        "import urllib.request, urllib.parse, urllib.error\n",
        "\n",
        "fhand = urllib.request.urlopen('http://www.dr-chuck.com/page1.htm')\n",
        "for line in fhand:\n",
        "    print(line.decode().strip())\n"
      ]
    },
    {
      "cell_type": "markdown",
      "id": "05ed0ed6",
      "metadata": {
        "id": "05ed0ed6"
      },
      "source": [
        "### Web Scraping - doing things after retrieving a web page"
      ]
    },
    {
      "cell_type": "code",
      "execution_count": null,
      "id": "47b80c81",
      "metadata": {
        "id": "47b80c81"
      },
      "outputs": [],
      "source": [
        "## Beautiful-soup module: finding data with html tags in web pages.\n",
        "## Gathering relevant information.\n",
        "\n",
        "## Skipping currently - will revisit in end"
      ]
    },
    {
      "cell_type": "markdown",
      "id": "c1438b60",
      "metadata": {
        "id": "c1438b60"
      },
      "source": [
        "### Handling and parsing XML, JSON Files"
      ]
    },
    {
      "cell_type": "code",
      "execution_count": null,
      "id": "a65bbc86",
      "metadata": {
        "id": "a65bbc86"
      },
      "outputs": [],
      "source": [
        ""
      ]
    },
    {
      "cell_type": "code",
      "execution_count": null,
      "id": "e6e41756",
      "metadata": {
        "id": "e6e41756"
      },
      "outputs": [],
      "source": [
        ""
      ]
    },
    {
      "cell_type": "markdown",
      "id": "7bcf257c",
      "metadata": {
        "id": "7bcf257c"
      },
      "source": [
        "### API Security and Rate Limiting"
      ]
    },
    {
      "cell_type": "code",
      "execution_count": null,
      "id": "821c7483",
      "metadata": {
        "id": "821c7483"
      },
      "outputs": [],
      "source": [
        ""
      ]
    }
  ],
  "metadata": {
    "colab": {
      "name": "Advanced Python Programming.ipynb",
      "provenance": [],
      "collapsed_sections": [
        "6b187afb",
        "28c44bb5",
        "rzWv0-OSuYoF",
        "FIkEJQli_QOg",
        "50bf2fc1",
        "4ca8f87a",
        "44b9204c",
        "65b913fb",
        "0c4abfb6",
        "552c338e",
        "0c45eef1",
        "2708862e",
        "83a79686",
        "7bcf257c"
      ],
      "toc_visible": true,
      "include_colab_link": true
    },
    "kernelspec": {
      "display_name": "Python 3 (ipykernel)",
      "language": "python",
      "name": "python3"
    },
    "language_info": {
      "codemirror_mode": {
        "name": "ipython",
        "version": 3
      },
      "file_extension": ".py",
      "mimetype": "text/x-python",
      "name": "python",
      "nbconvert_exporter": "python",
      "pygments_lexer": "ipython3",
      "version": "3.9.7"
    }
  },
  "nbformat": 4,
  "nbformat_minor": 5
}