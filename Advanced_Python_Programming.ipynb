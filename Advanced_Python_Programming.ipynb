{
  "cells": [
    {
      "cell_type": "markdown",
      "metadata": {
        "id": "view-in-github",
        "colab_type": "text"
      },
      "source": [
        "<a href=\"https://colab.research.google.com/github/BRajat/Advanced-Python-Programming/blob/main/Advanced_Python_Programming.ipynb\" target=\"_parent\"><img src=\"https://colab.research.google.com/assets/colab-badge.svg\" alt=\"Open In Colab\"/></a>"
      ]
    },
    {
      "cell_type": "markdown",
      "id": "c93f6caf",
      "metadata": {
        "id": "c93f6caf"
      },
      "source": [
        "## [Advanced Python Programming](https://www.youtube.com/watch?v=HGOBQPFzWKo&list=PLWKjhJtqVAbnqBxcdjVGgT3uVR10bzTEB&index=27)\n",
        "\n"
      ]
    },
    {
      "cell_type": "markdown",
      "id": "e8ab109c",
      "metadata": {
        "id": "e8ab109c"
      },
      "source": [
        "⭐️ Course Contents ⭐️ <br>\n",
        "⌨️ (0:00:00) Intro <br>\n",
        "⌨️ (0:00:56) Lists <br>\n",
        "⌨️ (0:16:30) Tuples <br>\n",
        "⌨️ (0:29:49) Dictionaries <br>\n",
        "⌨️ (0:42:40) Sets <br>\n",
        "⌨️ (0:58:44) Strings <br>\n",
        "⌨️ (1:22:50) Collections <br>\n",
        "⌨️ (1:36:43) Itertools <br>\n",
        "⌨️ (1:51:50) Lambda Functions <br>\n",
        "⌨️ (2:04:03) Exceptions and Errors <br>\n",
        "⌨️ (2:20:10) Logging <br>\n",
        "⌨️ (2:42:20) JSON <br>\n",
        "⌨️ (2:59:42) Random Numbers <br>\n",
        "⌨️ (3:14:23) Decorators <br>\n",
        "⌨️ (3:35:32) Generators <br>\n",
        "⌨️ (3:53:29) Threading vs Multiprocessing <br>\n",
        "⌨️ (4:07:59) Multithreading <br>\n",
        "⌨️ (4:31:05) Multiprocessing <br>\n",
        "⌨️ (4:53:26) Function Arguments <br>\n",
        "⌨️ (5:17:28) The Asterisk (*) Operator <br>\n",
        "⌨️ (5:30:19) Shallow vs Deep Copying  <br>\n",
        "⌨️ (5:40:07) Context Managers"
      ]
    },
    {
      "cell_type": "code",
      "execution_count": null,
      "id": "9903e8bd",
      "metadata": {
        "id": "9903e8bd",
        "outputId": "7335ac10-a006-467b-e8aa-210e65e49a31"
      },
      "outputs": [
        {
          "data": {
            "text/plain": [
              "Counter({'cat': 3, 'dog': 2, 'fish': 1})"
            ]
          },
          "execution_count": 19,
          "metadata": {},
          "output_type": "execute_result"
        }
      ],
      "source": [
        "# Collections - Counter, namedtuple, OrderedDict, defaultdict, deque\n",
        "\n",
        "from collections import *\n",
        "\n",
        "list1 = [ 'cat', 'dog', 'dog','cat','cat','fish']\n",
        "Counter(list1)"
      ]
    },
    {
      "cell_type": "code",
      "execution_count": null,
      "id": "2bc975aa",
      "metadata": {
        "id": "2bc975aa",
        "outputId": "2ca80927-dea9-4bd8-95cd-11553a3d290a"
      },
      "outputs": [
        {
          "name": "stdout",
          "output_type": "stream",
          "text": [
            "Counter({' ': 8, 'o': 4, 'e': 3, 'h': 2, 'u': 2, 'r': 2, 'T': 1, 'q': 1, 'i': 1, 'c': 1, 'k': 1, 'b': 1, 'w': 1, 'n': 1, 'f': 1, 'x': 1, 'j': 1, 'm': 1, 'p': 1, 's': 1, 'v': 1, 't': 1, 'l': 1, 'a': 1, 'z': 1, 'y': 1, 'd': 1, 'g': 1})\n"
          ]
        }
      ],
      "source": [
        "string1 = 'The quick brown fox jumps over the lazy dog'\n",
        "print(Counter(string1))"
      ]
    },
    {
      "cell_type": "code",
      "execution_count": null,
      "id": "38f00b5c",
      "metadata": {
        "id": "38f00b5c",
        "outputId": "1f61886e-09dd-4b3c-abc5-aa1967f44fe7"
      },
      "outputs": [
        {
          "name": "stdout",
          "output_type": "stream",
          "text": [
            "dict_keys(['cat', 'dog', 'fish'])\n"
          ]
        }
      ],
      "source": [
        "tmp = Counter(list1)\n",
        "\n",
        "print(tmp.keys())"
      ]
    },
    {
      "cell_type": "code",
      "execution_count": null,
      "id": "426b009f",
      "metadata": {
        "id": "426b009f",
        "outputId": "99ff687d-aa3b-46ef-b5e6-4a4888e2a5e4"
      },
      "outputs": [
        {
          "name": "stdout",
          "output_type": "stream",
          "text": [
            "Counter({'fish': 1, 'dog': 1, 'cat': 1})\n"
          ]
        }
      ],
      "source": [
        "set1 = set(list1)\n",
        "tmp = Counter(set1)\n",
        "print(tmp)"
      ]
    },
    {
      "cell_type": "code",
      "execution_count": null,
      "id": "6341f052",
      "metadata": {
        "id": "6341f052",
        "outputId": "d73e90ae-99f7-4ef6-f470-7548c9da435d"
      },
      "outputs": [
        {
          "data": {
            "text/plain": [
              "0"
            ]
          },
          "execution_count": 6,
          "metadata": {},
          "output_type": "execute_result"
        }
      ],
      "source": [
        "tmp['fox']"
      ]
    },
    {
      "cell_type": "code",
      "execution_count": null,
      "id": "ae2c16ad",
      "metadata": {
        "id": "ae2c16ad",
        "outputId": "6336d596-a850-4a21-9197-2f8f2d1e3fbd"
      },
      "outputs": [
        {
          "data": {
            "text/plain": [
              "collections.Counter"
            ]
          },
          "execution_count": 7,
          "metadata": {},
          "output_type": "execute_result"
        }
      ],
      "source": [
        "type(tmp)"
      ]
    },
    {
      "cell_type": "code",
      "execution_count": null,
      "id": "d37ec24e",
      "metadata": {
        "id": "d37ec24e",
        "outputId": "35abf93a-08a5-4916-bd7a-ad2b2e3c6009"
      },
      "outputs": [
        {
          "data": {
            "text/plain": [
              "True"
            ]
          },
          "execution_count": 14,
          "metadata": {},
          "output_type": "execute_result"
        }
      ],
      "source": [
        "isinstance(tmp, Counter)"
      ]
    },
    {
      "cell_type": "code",
      "execution_count": null,
      "id": "0696aec0",
      "metadata": {
        "id": "0696aec0",
        "outputId": "05ea5d7b-f6d9-4386-a3e7-8b532dc5a2c4"
      },
      "outputs": [
        {
          "data": {
            "text/plain": [
              "True"
            ]
          },
          "execution_count": 21,
          "metadata": {},
          "output_type": "execute_result"
        }
      ],
      "source": [
        "isinstance(Counter(), Counter)"
      ]
    },
    {
      "cell_type": "code",
      "execution_count": null,
      "id": "9ab1ef60",
      "metadata": {
        "id": "9ab1ef60",
        "outputId": "b5a515a7-fdce-40ec-9f79-847d8feac02f"
      },
      "outputs": [
        {
          "name": "stdout",
          "output_type": "stream",
          "text": [
            "3 1 2\n"
          ]
        }
      ],
      "source": [
        "# collections - namedtuple\n",
        "\n",
        "Point = namedtuple('Point',['wins','losses','draws'])\n",
        "pt = Point(3,1,2)\n",
        "print(pt.wins, pt.losses, pt.draws)"
      ]
    },
    {
      "cell_type": "code",
      "execution_count": null,
      "id": "60879630",
      "metadata": {
        "id": "60879630",
        "outputId": "80990177-925b-4330-d28f-e9f221c34d62"
      },
      "outputs": [
        {
          "name": "stdout",
          "output_type": "stream",
          "text": [
            "Point(wins=3, losses=1, draws=2)\n"
          ]
        }
      ],
      "source": [
        "print(pt)"
      ]
    },
    {
      "cell_type": "code",
      "execution_count": null,
      "id": "36a257ca",
      "metadata": {
        "id": "36a257ca",
        "outputId": "1909a3a1-3e8e-442d-f032-a8d1aaf3c1b6"
      },
      "outputs": [
        {
          "data": {
            "text/plain": [
              "__main__.Point"
            ]
          },
          "execution_count": 26,
          "metadata": {},
          "output_type": "execute_result"
        }
      ],
      "source": [
        "type(pt)"
      ]
    },
    {
      "cell_type": "code",
      "execution_count": null,
      "id": "84428e34",
      "metadata": {
        "id": "84428e34",
        "outputId": "eaf04ca2-cca6-4070-8b04-a487d8a10ab1"
      },
      "outputs": [
        {
          "name": "stdout",
          "output_type": "stream",
          "text": [
            "{'cat': None, 'dog': None, 'fish': None}\n"
          ]
        }
      ],
      "source": [
        "d = dict.fromkeys(list1)\n",
        "print(d)"
      ]
    },
    {
      "cell_type": "code",
      "execution_count": null,
      "id": "8f4c4d05",
      "metadata": {
        "id": "8f4c4d05"
      },
      "outputs": [],
      "source": [
        "for i in range()"
      ]
    },
    {
      "cell_type": "markdown",
      "id": "6b187afb",
      "metadata": {
        "id": "6b187afb"
      },
      "source": [
        "### Shallow and deep copying"
      ]
    },
    {
      "cell_type": "code",
      "execution_count": null,
      "id": "a53af388",
      "metadata": {
        "id": "a53af388"
      },
      "outputs": [],
      "source": [
        "## shallow and deep copy\n",
        "\n",
        "# copy.copy() --> creates shallow copy of depth_1 only\n",
        "# copy.deepcopy() --> create copy at all levels of the underlying object"
      ]
    },
    {
      "cell_type": "code",
      "execution_count": null,
      "id": "bcd6db8b",
      "metadata": {
        "id": "bcd6db8b"
      },
      "outputs": [],
      "source": [
        "# copy of object of basic python datatype\n",
        "\n",
        "obj = 6\n",
        "cpy = obj\n",
        "\n",
        "cpy = 5\n",
        "print(cpy)\n",
        "print(obj)"
      ]
    },
    {
      "cell_type": "markdown",
      "id": "fb3684d1",
      "metadata": {
        "id": "fb3684d1"
      },
      "source": [
        "* Shallow copy of depth 1 works in above example because the data type is of less dimension."
      ]
    },
    {
      "cell_type": "code",
      "execution_count": null,
      "id": "c47592ea",
      "metadata": {
        "id": "c47592ea",
        "outputId": "30fa8496-17c7-441a-82bd-b2ed5b6fb562"
      },
      "outputs": [
        {
          "name": "stdout",
          "output_type": "stream",
          "text": [
            "[-100, 2, 3, 4, 5]\n",
            "[-100, 2, 3, 4, 5]\n"
          ]
        }
      ],
      "source": [
        "# shallow copy of list\n",
        "\n",
        "l1 = [1,2,3,4,5]\n",
        "l2 = l1\n",
        "\n",
        "l2[0] = -100\n",
        "\n",
        "print(l2)\n",
        "print(l1)"
      ]
    },
    {
      "cell_type": "markdown",
      "id": "660951e0",
      "metadata": {
        "id": "660951e0"
      },
      "source": [
        "* In this example of shallow copy what happened is the list object got copied at high level (depth =1) but at deep level the individual elements in list are still getting referenced to same memory location and therefore when then element is updated at the ref pointer it is changed in original list as well."
      ]
    },
    {
      "cell_type": "markdown",
      "id": "a05355e8",
      "metadata": {
        "id": "a05355e8"
      },
      "source": [
        "* We can overcome this by doing cpy = copy.deepcopy(org)"
      ]
    },
    {
      "cell_type": "code",
      "execution_count": null,
      "id": "9f87621b",
      "metadata": {
        "id": "9f87621b",
        "outputId": "eada4ce8-dd30-4eac-cc81-d0515707e4e7"
      },
      "outputs": [
        {
          "name": "stdout",
          "output_type": "stream",
          "text": [
            "[1, 2, 3, 4, 5]\n",
            "[-100, 2, 3, 4, 5]\n"
          ]
        }
      ],
      "source": [
        "import copy\n",
        "\n",
        "l1 = [1,2,3,4,5]\n",
        "l2 = copy.copy(l2)\n",
        "\n",
        "l2[0] = -100\n",
        "\n",
        "print(l1)\n",
        "print(l2)"
      ]
    },
    {
      "cell_type": "markdown",
      "id": "418ffe08",
      "metadata": {
        "id": "418ffe08"
      },
      "source": [
        "* Here also, shallow copy worked for depth + 1 level but it won't for a nested list"
      ]
    },
    {
      "cell_type": "code",
      "execution_count": null,
      "id": "9925a8ad",
      "metadata": {
        "id": "9925a8ad",
        "outputId": "aab24784-d1c8-42e7-99cf-6fae003322e9"
      },
      "outputs": [
        {
          "name": "stdout",
          "output_type": "stream",
          "text": [
            "[[-100, 2, 3, 4, 5], [5, 3, 4, 2, 1]]\n",
            "[[-100, 2, 3, 4, 5], [5, 3, 4, 2, 1]]\n"
          ]
        }
      ],
      "source": [
        "l1 = [[1,2,3,4,5],[5,3,4,2,1]]\n",
        "l2 = copy.copy(l1)\n",
        "\n",
        "l2[0][0] = -100\n",
        "\n",
        "print(l1)\n",
        "print(l2)"
      ]
    },
    {
      "cell_type": "markdown",
      "id": "8a20616e",
      "metadata": {
        "id": "8a20616e"
      },
      "source": [
        "* In this case, shallow copy failed at depth 2 (Always remember - shallow copy works till depth 1 only and so for nested elements its is better to safely copy by using copy.deepcopy()"
      ]
    },
    {
      "cell_type": "code",
      "execution_count": null,
      "id": "d5dccb9c",
      "metadata": {
        "id": "d5dccb9c",
        "outputId": "cfcd4609-c6ba-447e-f64b-8904acfad441"
      },
      "outputs": [
        {
          "name": "stdout",
          "output_type": "stream",
          "text": [
            "[[1, 2, 3, 4, 5], [5, 3, 4, 2, 1]]\n",
            "[[-100, 2, 3, 4, 5], [5, 3, 4, 2, 1]]\n"
          ]
        }
      ],
      "source": [
        "l1 = [[1,2,3,4,5],[5,3,4,2,1]]\n",
        "l2 = copy.deepcopy(l1)\n",
        "\n",
        "l2[0][0] = -100\n",
        "\n",
        "print(l1)\n",
        "print(l2)"
      ]
    },
    {
      "cell_type": "markdown",
      "id": "a4ada171",
      "metadata": {
        "id": "a4ada171"
      },
      "source": [
        "* Above code snippet worked correctly as we would have wanted."
      ]
    },
    {
      "cell_type": "code",
      "execution_count": null,
      "id": "60800822",
      "metadata": {
        "id": "60800822",
        "outputId": "a80f2b64-8741-4322-d222-c2d49eaaa35b"
      },
      "outputs": [
        {
          "name": "stdout",
          "output_type": "stream",
          "text": [
            "39 39\n"
          ]
        }
      ],
      "source": [
        "# shallow and deep copying example with objects.\n",
        "\n",
        "class person:\n",
        "    def __init__(self, name, age):\n",
        "        self.name = name\n",
        "        self.age = age\n",
        "        \n",
        "        \n",
        "p1 = person('Ronaldo', 40)\n",
        "p2 = p1\n",
        "\n",
        "p2.age = 39\n",
        "print(p1.age, p2.age)"
      ]
    },
    {
      "cell_type": "markdown",
      "id": "1dd9cdc8",
      "metadata": {
        "id": "1dd9cdc8"
      },
      "source": [
        "* Here, the instance of object is at depth 1 and the age(instance variable) is at depth 2. So, shallow copying worked at depth 1 only"
      ]
    },
    {
      "cell_type": "code",
      "execution_count": null,
      "id": "6a20a686",
      "metadata": {
        "id": "6a20a686",
        "outputId": "83015913-472a-4c43-fd87-c0fd5f4aa954"
      },
      "outputs": [
        {
          "name": "stdout",
          "output_type": "stream",
          "text": [
            "40 39\n"
          ]
        }
      ],
      "source": [
        "p1 = person('Ronaldo', 40)\n",
        "p2 = copy.copy(p1)\n",
        "\n",
        "p2.age = 39\n",
        "print(p1.age, p2.age)"
      ]
    },
    {
      "cell_type": "markdown",
      "id": "e2b488c7",
      "metadata": {
        "id": "e2b488c7"
      },
      "source": [
        "* Here the shallow copy worked with an extra depth since we used the copy.copy() method"
      ]
    },
    {
      "cell_type": "code",
      "execution_count": null,
      "id": "ad15fb8c",
      "metadata": {
        "id": "ad15fb8c",
        "outputId": "daaba4cb-9a7e-410f-a854-b684a5cb4df3"
      },
      "outputs": [
        {
          "name": "stdout",
          "output_type": "stream",
          "text": [
            "51\n",
            "51\n"
          ]
        }
      ],
      "source": [
        "class company:\n",
        "    def __init__(self, boss, employee):\n",
        "        self.boss = boss\n",
        "        self.employee = employee\n",
        "        \n",
        "p1 = person('Rohit', 35)\n",
        "p2 = person('Dravid', 50)\n",
        "c1 = company(p1, p2)             # p1 boss and p2 employee\n",
        "\n",
        "c2 = copy.copy(c1)\n",
        "c2.boss.age = 51\n",
        "\n",
        "print(c1.boss.age)\n",
        "print(c2.boss.age)"
      ]
    },
    {
      "cell_type": "markdown",
      "id": "9c65e4ce",
      "metadata": {
        "id": "9c65e4ce"
      },
      "source": [
        "* Here the shallow copy didn't work since the depth at which we are copying is 1 level less than the total depth of the instance variable. "
      ]
    },
    {
      "cell_type": "markdown",
      "id": "28c44bb5",
      "metadata": {
        "id": "28c44bb5"
      },
      "source": [
        "### Lambda function"
      ]
    },
    {
      "cell_type": "code",
      "execution_count": null,
      "id": "8a7dcb3e",
      "metadata": {
        "colab": {
          "base_uri": "https://localhost:8080/"
        },
        "id": "8a7dcb3e",
        "outputId": "5e2756b3-fa53-497c-c995-d1a5493a215b"
      },
      "outputs": [
        {
          "name": "stdout",
          "output_type": "stream",
          "text": [
            "81\n"
          ]
        }
      ],
      "source": [
        "sqr = lambda x: x**2               # function with single argument\n",
        "\n",
        "print(sqr(9))"
      ]
    },
    {
      "cell_type": "code",
      "execution_count": null,
      "id": "896b4d1d",
      "metadata": {
        "colab": {
          "base_uri": "https://localhost:8080/"
        },
        "id": "896b4d1d",
        "outputId": "3d2f5ac5-df7f-4670-f08e-c1ceadc70518"
      },
      "outputs": [
        {
          "name": "stdout",
          "output_type": "stream",
          "text": [
            "35\n"
          ]
        }
      ],
      "source": [
        "mult = lambda x,y: x*y             # function with 2 arguments\n",
        "\n",
        "a = 5\n",
        "b = 7\n",
        "print(mult(a,b))"
      ]
    },
    {
      "cell_type": "code",
      "execution_count": null,
      "id": "4713a3f2",
      "metadata": {
        "colab": {
          "base_uri": "https://localhost:8080/"
        },
        "id": "4713a3f2",
        "outputId": "db4dface-8655-4421-e26c-8eaa109cb935"
      },
      "outputs": [
        {
          "name": "stdout",
          "output_type": "stream",
          "text": [
            "9801\n",
            "35\n"
          ]
        }
      ],
      "source": [
        "# also can be written as normal function\n",
        "def sqr_func(a):\n",
        "    return a**2\n",
        "\n",
        "def mult_func(x,y):\n",
        "    return x*y\n",
        "\n",
        "print(sqr_func(99))\n",
        "\n",
        "print(mult_func(5,7))"
      ]
    },
    {
      "cell_type": "code",
      "execution_count": null,
      "id": "4be57cd1",
      "metadata": {
        "colab": {
          "base_uri": "https://localhost:8080/"
        },
        "id": "4be57cd1",
        "outputId": "1b19f3b4-7591-444a-9450-ca7561bca532"
      },
      "outputs": [
        {
          "name": "stdout",
          "output_type": "stream",
          "text": [
            "[10, 2, 1, 4, 16]\n",
            "[100, 4, 1, 16, 256]\n"
          ]
        }
      ],
      "source": [
        "# map, filter and reduce\n",
        "\n",
        "# map --> maps the elements in iterable according to the input function,\n",
        "# gives map object as output, convert that to iterable again\n",
        "\n",
        "input_list = [10,2,1,4,16]\n",
        "sqr = list(map(lambda x: x**2, input_list))\n",
        "\n",
        "print(input_list)\n",
        "print(sqr)"
      ]
    },
    {
      "cell_type": "code",
      "execution_count": null,
      "id": "aa9d02da",
      "metadata": {
        "colab": {
          "base_uri": "https://localhost:8080/"
        },
        "id": "aa9d02da",
        "outputId": "65f1e98a-7d43-4224-8814-d4fdf51cdeda"
      },
      "outputs": [
        {
          "name": "stdout",
          "output_type": "stream",
          "text": [
            "[10, 2, 1, 4, 16]\n",
            "[10, 16]\n"
          ]
        }
      ],
      "source": [
        "# filter --> evaluates conditional expression for all elements in input iteratable\n",
        "# gives filter iterator\n",
        "\n",
        "greaterthan5 = list(filter(lambda x: x>5, input_list))\n",
        "\n",
        "print(input_list)\n",
        "print(greaterthan5)"
      ]
    },
    {
      "cell_type": "code",
      "execution_count": null,
      "id": "08d50163",
      "metadata": {
        "colab": {
          "base_uri": "https://localhost:8080/"
        },
        "id": "08d50163",
        "outputId": "54052c4e-a477-4741-e82d-42e3cd8fd30f"
      },
      "outputs": [
        {
          "name": "stdout",
          "output_type": "stream",
          "text": [
            "[10, 2, 1, 4, 16]\n",
            "33\n"
          ]
        }
      ],
      "source": [
        "# reduce --> reduces the iterable to a single value, according to input function\n",
        "\n",
        "from functools import reduce\n",
        "\n",
        "red = reduce(lambda x,y : x+y, input_list)\n",
        "\n",
        "print(input_list)\n",
        "print(red)"
      ]
    },
    {
      "cell_type": "code",
      "execution_count": null,
      "id": "b96c32bc",
      "metadata": {
        "colab": {
          "base_uri": "https://localhost:8080/"
        },
        "id": "b96c32bc",
        "outputId": "6739d2b6-4fe2-45d1-907d-1294c16636a7"
      },
      "outputs": [
        {
          "name": "stdout",
          "output_type": "stream",
          "text": [
            "original: [(2, 3), (-1, 5), (7, 1), (8, 2), (3, 0)]\n",
            "sorted by first: [(-1, 5), (2, 3), (3, 0), (7, 1), (8, 2)]\n",
            "sorted by second: [(3, 0), (7, 1), (8, 2), (2, 3), (-1, 5)]\n",
            "sorted by second: [(3, 0), (7, 1), (8, 2), (2, 3), (-1, 5)]\n"
          ]
        }
      ],
      "source": [
        "# using lambda function for sorting nested lists\n",
        "\n",
        "list1 = [(2,3),(-1,5),(7,1),(8,2),(3,0)]\n",
        "\n",
        "print('original:', list1)\n",
        "print('sorted by first:',sorted(list1) )                      # sorted according to first element in tuple\n",
        "\n",
        "# if we want to sort by second element, we use argument named 'key' in sorted function\n",
        "print('sorted by second:',sorted(list1, key = lambda x:x[1] ))\n",
        "\n",
        "# we basically give a function as input to function parameter named key\n",
        "# also could be accomplished by\n",
        "def func_key(x):\n",
        "    return x[1]\n",
        "\n",
        "print('sorted by second:',sorted(list1, key = func_key ))"
      ]
    },
    {
      "cell_type": "code",
      "execution_count": null,
      "id": "6981b45f",
      "metadata": {
        "colab": {
          "base_uri": "https://localhost:8080/"
        },
        "id": "6981b45f",
        "outputId": "caf472a7-8af9-40d9-a525-c43ccfb30be6"
      },
      "outputs": [
        {
          "name": "stdout",
          "output_type": "stream",
          "text": [
            "[(2, 3), (-1, 5), (7, 1), (8, 2), (3, 0)]\n",
            "sorted by second: [(3, 0), (2, 3), (-1, 5), (7, 1), (8, 2)]\n",
            "[3.0, 3.61, 5.1, 7.07, 8.25]\n"
          ]
        }
      ],
      "source": [
        "# we can create custom key also, based on combination of elements in tuple\n",
        "# for example: lets sort the list by increasing euclidean distance of the point from the origin\n",
        "\n",
        "import math as m\n",
        "\n",
        "def func_key(x):\n",
        "    return x[0]**2 + x[1]**2\n",
        "\n",
        "\n",
        "print(list1)\n",
        "print('sorted by second:',sorted(list1, key = func_key ))\n",
        "print([round(m.sqrt(x**2 + y**2),2) for x, y in sorted(list1, key = func_key )])\n",
        "\n"
      ]
    },
    {
      "cell_type": "markdown",
      "id": "rzWv0-OSuYoF",
      "metadata": {
        "id": "rzWv0-OSuYoF"
      },
      "source": [
        "### Error and Exception"
      ]
    },
    {
      "cell_type": "code",
      "execution_count": null,
      "id": "SJrRjt0lvBaq",
      "metadata": {
        "colab": {
          "base_uri": "https://localhost:8080/",
          "height": 132
        },
        "id": "SJrRjt0lvBaq",
        "outputId": "121942d3-d0af-47c3-8995-ed29c08a29db"
      },
      "outputs": [
        {
          "ename": "SyntaxError",
          "evalue": "ignored",
          "output_type": "error",
          "traceback": [
            "\u001b[0;36m  File \u001b[0;32m\"<ipython-input-15-fed4b61d14cd>\"\u001b[0;36m, line \u001b[0;32m1\u001b[0m\n\u001b[0;31m    a = 5 print(a)\u001b[0m\n\u001b[0m              ^\u001b[0m\n\u001b[0;31mSyntaxError\u001b[0m\u001b[0;31m:\u001b[0m invalid syntax\n"
          ]
        }
      ],
      "source": [
        "a = 5 print(a)                               # syntax error"
      ]
    },
    {
      "cell_type": "code",
      "execution_count": null,
      "id": "CFEyHpbRvBHt",
      "metadata": {
        "colab": {
          "base_uri": "https://localhost:8080/",
          "height": 132
        },
        "id": "CFEyHpbRvBHt",
        "outputId": "b5aa885d-726e-42e2-fdf6-e26f74b9704a"
      },
      "outputs": [
        {
          "ename": "SyntaxError",
          "evalue": "ignored",
          "output_type": "error",
          "traceback": [
            "\u001b[0;36m  File \u001b[0;32m\"<ipython-input-16-9d41ee1d19cb>\"\u001b[0;36m, line \u001b[0;32m1\u001b[0m\n\u001b[0;31m    s = 2*(2+3\u001b[0m\n\u001b[0m              ^\u001b[0m\n\u001b[0;31mSyntaxError\u001b[0m\u001b[0;31m:\u001b[0m unexpected EOF while parsing\n"
          ]
        }
      ],
      "source": [
        "s = 2*(2+3                                   # syntax error"
      ]
    },
    {
      "cell_type": "code",
      "execution_count": null,
      "id": "ioYZTRe7vAch",
      "metadata": {
        "colab": {
          "base_uri": "https://localhost:8080/",
          "height": 202
        },
        "id": "ioYZTRe7vAch",
        "outputId": "8899af72-28a8-4cbb-ed0c-86ad790bf9e6"
      },
      "outputs": [
        {
          "ename": "TypeError",
          "evalue": "ignored",
          "output_type": "error",
          "traceback": [
            "\u001b[0;31m---------------------------------------------------------------------------\u001b[0m",
            "\u001b[0;31mTypeError\u001b[0m                                 Traceback (most recent call last)",
            "\u001b[0;32m<ipython-input-17-4ed83b9e5f47>\u001b[0m in \u001b[0;36m<module>\u001b[0;34m()\u001b[0m\n\u001b[1;32m      2\u001b[0m \u001b[0ms\u001b[0m \u001b[0;34m=\u001b[0m \u001b[0;34m'ten'\u001b[0m\u001b[0;34m\u001b[0m\u001b[0;34m\u001b[0m\u001b[0m\n\u001b[1;32m      3\u001b[0m \u001b[0;34m\u001b[0m\u001b[0m\n\u001b[0;32m----> 4\u001b[0;31m \u001b[0mprint\u001b[0m\u001b[0;34m(\u001b[0m\u001b[0ma\u001b[0m \u001b[0;34m+\u001b[0m \u001b[0ms\u001b[0m\u001b[0;34m)\u001b[0m\u001b[0;34m\u001b[0m\u001b[0;34m\u001b[0m\u001b[0m\n\u001b[0m",
            "\u001b[0;31mTypeError\u001b[0m: unsupported operand type(s) for +: 'int' and 'str'"
          ]
        }
      ],
      "source": [
        "a = 5\n",
        "s = 'ten'\n",
        "\n",
        "print(a + s)                                 # type error"
      ]
    },
    {
      "cell_type": "code",
      "execution_count": null,
      "id": "8cbb7a0b",
      "metadata": {
        "colab": {
          "base_uri": "https://localhost:8080/",
          "height": 167
        },
        "id": "8cbb7a0b",
        "outputId": "f349ad21-161c-4f58-f575-1ea087d493e2"
      },
      "outputs": [
        {
          "ename": "ZeroDivisionError",
          "evalue": "ignored",
          "output_type": "error",
          "traceback": [
            "\u001b[0;31m---------------------------------------------------------------------------\u001b[0m",
            "\u001b[0;31mZeroDivisionError\u001b[0m                         Traceback (most recent call last)",
            "\u001b[0;32m<ipython-input-19-87ac9c94a8c2>\u001b[0m in \u001b[0;36m<module>\u001b[0;34m()\u001b[0m\n\u001b[0;32m----> 1\u001b[0;31m \u001b[0;36m4\u001b[0m \u001b[0;34m/\u001b[0m \u001b[0;36m0\u001b[0m\u001b[0;34m\u001b[0m\u001b[0;34m\u001b[0m\u001b[0m\n\u001b[0m",
            "\u001b[0;31mZeroDivisionError\u001b[0m: division by zero"
          ]
        }
      ],
      "source": [
        "4 / 0                               # zero division error"
      ]
    },
    {
      "cell_type": "code",
      "execution_count": null,
      "id": "6t-XpiYhvwI2",
      "metadata": {
        "id": "6t-XpiYhvwI2"
      },
      "outputs": [],
      "source": [
        "# other errors\n",
        "\n",
        "# ValueError - Value not in object\n",
        "# IndexError - List index out of range\n",
        "# KeyError - key not in dict\n",
        "\n"
      ]
    },
    {
      "cell_type": "code",
      "execution_count": null,
      "id": "ujQZIxUiwhjL",
      "metadata": {
        "colab": {
          "base_uri": "https://localhost:8080/",
          "height": 202
        },
        "id": "ujQZIxUiwhjL",
        "outputId": "e58fc078-4c3f-441a-b89d-3b5cb474da48"
      },
      "outputs": [
        {
          "ename": "Exception",
          "evalue": "ignored",
          "output_type": "error",
          "traceback": [
            "\u001b[0;31m---------------------------------------------------------------------------\u001b[0m",
            "\u001b[0;31mException\u001b[0m                                 Traceback (most recent call last)",
            "\u001b[0;32m<ipython-input-21-90c60f61f770>\u001b[0m in \u001b[0;36m<module>\u001b[0;34m()\u001b[0m\n\u001b[1;32m      3\u001b[0m \u001b[0mx\u001b[0m \u001b[0;34m=\u001b[0m \u001b[0;34m-\u001b[0m\u001b[0;36m10\u001b[0m\u001b[0;34m\u001b[0m\u001b[0;34m\u001b[0m\u001b[0m\n\u001b[1;32m      4\u001b[0m \u001b[0;32mif\u001b[0m \u001b[0mx\u001b[0m \u001b[0;34m<\u001b[0m \u001b[0;36m0\u001b[0m\u001b[0;34m:\u001b[0m\u001b[0;34m\u001b[0m\u001b[0;34m\u001b[0m\u001b[0m\n\u001b[0;32m----> 5\u001b[0;31m   \u001b[0;32mraise\u001b[0m \u001b[0mException\u001b[0m\u001b[0;34m(\u001b[0m\u001b[0;34m'x should be positive'\u001b[0m\u001b[0;34m)\u001b[0m\u001b[0;34m\u001b[0m\u001b[0;34m\u001b[0m\u001b[0m\n\u001b[0m",
            "\u001b[0;31mException\u001b[0m: x should be positive"
          ]
        }
      ],
      "source": [
        "# Raising exceptions by code logic example\n",
        "\n",
        "x = -10\n",
        "if x < 0:\n",
        "  raise Exception('x should be positive')"
      ]
    },
    {
      "cell_type": "code",
      "execution_count": null,
      "id": "T9lESoU049JT",
      "metadata": {
        "colab": {
          "base_uri": "https://localhost:8080/",
          "height": 185
        },
        "id": "T9lESoU049JT",
        "outputId": "aaa2aa8f-1c04-4138-8b64-b2de9ec6a1fc"
      },
      "outputs": [
        {
          "ename": "AssertionError",
          "evalue": "ignored",
          "output_type": "error",
          "traceback": [
            "\u001b[0;31m---------------------------------------------------------------------------\u001b[0m",
            "\u001b[0;31mAssertionError\u001b[0m                            Traceback (most recent call last)",
            "\u001b[0;32m<ipython-input-23-d106f361ace6>\u001b[0m in \u001b[0;36m<module>\u001b[0;34m()\u001b[0m\n\u001b[1;32m      1\u001b[0m \u001b[0mx\u001b[0m \u001b[0;34m=\u001b[0m \u001b[0;34m-\u001b[0m\u001b[0;36m5\u001b[0m\u001b[0;34m\u001b[0m\u001b[0;34m\u001b[0m\u001b[0m\n\u001b[0;32m----> 2\u001b[0;31m \u001b[0;32massert\u001b[0m\u001b[0;34m(\u001b[0m\u001b[0mx\u001b[0m\u001b[0;34m>\u001b[0m\u001b[0;36m0\u001b[0m\u001b[0;34m)\u001b[0m\u001b[0;34m,\u001b[0m \u001b[0;34m'x is not positive'\u001b[0m\u001b[0;34m\u001b[0m\u001b[0;34m\u001b[0m\u001b[0m\n\u001b[0m",
            "\u001b[0;31mAssertionError\u001b[0m: x is not positive"
          ]
        }
      ],
      "source": [
        "x = -5\n",
        "assert(x>0), 'x is not positive'"
      ]
    },
    {
      "cell_type": "code",
      "execution_count": null,
      "id": "-oGl38uQ5IgB",
      "metadata": {
        "colab": {
          "base_uri": "https://localhost:8080/"
        },
        "id": "-oGl38uQ5IgB",
        "outputId": "e5c6665b-5b41-400e-d89c-a11368e7f148"
      },
      "outputs": [
        {
          "name": "stdout",
          "output_type": "stream",
          "text": [
            "unsupported operand type(s) for +: 'int' and 'str'\n",
            "Done\n"
          ]
        }
      ],
      "source": [
        "# try, except and finally\n",
        "import random\n",
        "\n",
        "try:\n",
        "  x = 4 / 1\n",
        "  y = 4 + 'string'\n",
        "except ZeroDivisionError as e:\n",
        "    print(e)\n",
        "except Exception as e:\n",
        "    print(e)\n",
        "else:\n",
        "    print('Everything is fine')                   # else block executes if no exception in try block\n",
        "finally:\n",
        "    print('Done')                                 # finally always runs"
      ]
    },
    {
      "cell_type": "code",
      "execution_count": null,
      "id": "ZOUmBT3j7cRX",
      "metadata": {
        "colab": {
          "base_uri": "https://localhost:8080/"
        },
        "id": "ZOUmBT3j7cRX",
        "outputId": "3697d1f3-e397-4104-852a-1bf0ce241ed5"
      },
      "outputs": [
        {
          "name": "stdout",
          "output_type": "stream",
          "text": [
            "value is too high\n"
          ]
        }
      ],
      "source": [
        "# writing custom exception classes\n",
        "\n",
        "class ValueTooHigh(Exception):\n",
        "    pass\n",
        "\n",
        "def test_value(x):\n",
        "    if x >100:\n",
        "        raise ValueTooHigh('Value is too high')\n",
        "  \n",
        "    try:\n",
        "        test_value(200)\n",
        "    except ValueTooHigh as e:\n",
        "        print(e)"
      ]
    },
    {
      "cell_type": "code",
      "execution_count": null,
      "id": "gKmRdGbf8Yk_",
      "metadata": {
        "colab": {
          "base_uri": "https://localhost:8080/"
        },
        "id": "gKmRdGbf8Yk_",
        "outputId": "0e51661f-cb0d-41a9-b62a-1920397ba98c"
      },
      "outputs": [
        {
          "name": "stdout",
          "output_type": "stream",
          "text": [
            "Value is High\n"
          ]
        }
      ],
      "source": [
        "class ValueTooLow(Exception):\n",
        "    def __init__(self, message, value):                 # defining constructor method for exception class\n",
        "        self.message = message\n",
        "        self.value = value\n",
        "\n",
        "def test_value(x):\n",
        "    if x<5:\n",
        "        raise ValueTooLow('Value is low', x)\n",
        "    if x>100:\n",
        "        raise ValueTooHigh('Value is High')\n",
        "\n",
        "    try:\n",
        "        test_value(1000)\n",
        "    except ValueTooHigh as e:\n",
        "        print(e)\n",
        "    except ValueTooLow as e:\n",
        "        print(e.message, e.value)\n"
      ]
    },
    {
      "cell_type": "markdown",
      "id": "FIkEJQli_QOg",
      "metadata": {
        "id": "FIkEJQli_QOg"
      },
      "source": [
        "### Logging (Incomplete)"
      ]
    },
    {
      "cell_type": "markdown",
      "id": "EoyO2xmo_avj",
      "metadata": {
        "id": "EoyO2xmo_avj"
      },
      "source": [
        "* Python has a built in log module\n",
        "* Logging is possible to 5 differenet log levels - debug, info, warning, error, critical\n",
        "* Reference Doc -\n",
        "  1. [Logging HOWTO](https://docs.python.org/3/howto/logging.html)\n",
        "  2. [Logging Cookbook](https://docs.python.org/3/howto/logging-cookbook.html)\n",
        "\n",
        "* Logging to generate logs. To understand if code is working as is supposed to work. To understand the execution and limitation of code."
      ]
    },
    {
      "cell_type": "markdown",
      "id": "50bf2fc1",
      "metadata": {
        "id": "50bf2fc1"
      },
      "source": [
        "### Running python file from jupyter"
      ]
    },
    {
      "cell_type": "code",
      "execution_count": null,
      "id": "a71b3c98",
      "metadata": {
        "id": "a71b3c98",
        "outputId": "3d77b321-e43d-4147-b5ff-89571a70987a"
      },
      "outputs": [
        {
          "name": "stdout",
          "output_type": "stream",
          "text": [
            "Sum: 44\n"
          ]
        }
      ],
      "source": [
        "%run add.py"
      ]
    },
    {
      "cell_type": "markdown",
      "id": "4ca8f87a",
      "metadata": {
        "id": "4ca8f87a"
      },
      "source": [
        "### Propogation set to True or False"
      ]
    },
    {
      "cell_type": "code",
      "execution_count": null,
      "id": "512c3a97",
      "metadata": {
        "id": "512c3a97"
      },
      "outputs": [],
      "source": [
        "# helper.py\n",
        "# -------------------------------------\n",
        "import logging\n",
        "logger = logging.getLogger(__name__)\n",
        "logger.propagate = False\n",
        "logger.info('HELLO')\n",
        "\n",
        "# main.py\n",
        "# -------------------------------------\n",
        "import logging\n",
        "logging.basicConfig(level=logginga.INFO, format='%(name)s - %(levelname)s - %(message)s')\n",
        "import helper\n",
        "\n",
        "# --> No output when running main.py since the helper module logger does not propagate its messages to the root logger"
      ]
    },
    {
      "cell_type": "markdown",
      "id": "44b9204c",
      "metadata": {
        "id": "44b9204c"
      },
      "source": [
        "### Threading"
      ]
    },
    {
      "cell_type": "code",
      "execution_count": null,
      "id": "0bddec94",
      "metadata": {
        "id": "0bddec94",
        "outputId": "f93760ab-a0f1-4e0b-f8e1-79105a1e199d"
      },
      "outputs": [
        {
          "name": "stdout",
          "output_type": "stream",
          "text": [
            "Start value:  0\n",
            "End value: 1\n",
            "end main\n"
          ]
        }
      ],
      "source": [
        "from threading import Thread\n",
        "import time\n",
        "\n",
        "\n",
        "# all threads can access this global variable\n",
        "database_value = 0\n",
        "\n",
        "def increase():\n",
        "    global database_value # needed to modify the global value\n",
        "    \n",
        "    # get a local copy (simulate data retrieving)\n",
        "    local_copy = database_value\n",
        "        \n",
        "    # simulate some modifying operation\n",
        "    local_copy += 1\n",
        "    time.sleep(0.1)\n",
        "        \n",
        "    # write the calculated new value into the global variable\n",
        "    database_value = local_copy\n",
        "\n",
        "\n",
        "if __name__ == \"__main__\":\n",
        "\n",
        "    print('Start value: ', database_value)\n",
        "\n",
        "    t1 = Thread(target=increase)\n",
        "    t2 = Thread(target=increase)\n",
        "\n",
        "    t1.start()\n",
        "    t2.start()\n",
        "\n",
        "    t1.join()\n",
        "    t2.join()\n",
        "\n",
        "    print('End value:', database_value)\n",
        "\n",
        "    print('end main')"
      ]
    },
    {
      "cell_type": "code",
      "execution_count": null,
      "id": "2ade2d9d",
      "metadata": {
        "id": "2ade2d9d",
        "outputId": "44ef1f11-dc30-418c-9bce-b07de97d6e49"
      },
      "outputs": [
        {
          "name": "stdout",
          "output_type": "stream",
          "text": [
            "Start value:  0\n",
            "End value: 2\n",
            "end main\n"
          ]
        }
      ],
      "source": [
        "from threading import Thread, Lock\n",
        "import time\n",
        "\n",
        "\n",
        "# all threads can access this global variable\n",
        "database_value = 0\n",
        "\n",
        "def increase(lock):\n",
        "    global database_value # needed to modify the global value\n",
        "    \n",
        "    with lock:\n",
        "        # get a local copy (simulate data retrieving)\n",
        "        local_copy = database_value\n",
        "        # simulate some modifying operation\n",
        "        local_copy += 1\n",
        "        time.sleep(0.1)\n",
        "        \n",
        "        # write the calculated new value into the global variable\n",
        "        database_value = local_copy\n",
        "\n",
        "\n",
        "if __name__ == \"__main__\":\n",
        "    \n",
        "    lock = Lock()\n",
        "\n",
        "    print('Start value: ', database_value)\n",
        "\n",
        "    t1 = Thread(target=increase, args = (lock,))\n",
        "    t2 = Thread(target=increase, args = (lock,))\n",
        "\n",
        "    t1.start()\n",
        "    t2.start()\n",
        "\n",
        "    t1.join()\n",
        "    t2.join()\n",
        "\n",
        "    print('End value:', database_value)\n",
        "\n",
        "    print('end main')"
      ]
    },
    {
      "cell_type": "markdown",
      "id": "34966465",
      "metadata": {
        "id": "34966465"
      },
      "source": [
        "1. **Without lock only 1 thread got executed, with lock the thread executed in synchonized way** <br>\n",
        "2. `time.sleep(0.1)` **is very important to understand race condition**"
      ]
    },
    {
      "cell_type": "code",
      "execution_count": null,
      "id": "3a61ea05",
      "metadata": {
        "id": "3a61ea05",
        "outputId": "41c80da8-215c-4887-be06-417c3b369796"
      },
      "outputs": [
        {
          "name": "stdout",
          "output_type": "stream",
          "text": [
            "in Thread2 got 0\n",
            "in Thread2 got 1\n",
            "in Thread2 got 2\n",
            "in Thread2 got 3\n",
            "in Thread2 got 4\n",
            "in Thread2 got 5\n",
            "in Thread2 got 6\n",
            "in Thread2 got 7\n",
            "in Thread2 got 8\n",
            "in Thread5 got 9\n",
            "in Thread4 got 10\n",
            "in Thread6 got 11\n",
            "in Thread7 got 12\n",
            "in Thread9 got 13\n",
            "in Thread10 got 14\n",
            "in Thread3 got 15\n",
            "in Thread8 got 16\n",
            "in Thread1 got 17\n",
            "in Thread2 got 18\n",
            "in Thread5 got 19\n",
            "main done\n"
          ]
        }
      ],
      "source": [
        "from threading import Thread, Lock, current_thread\n",
        "from queue import Queue\n",
        "\n",
        "def worker(q, lock):\n",
        "    while True:\n",
        "        value = q.get()  # blocks until the item is available\n",
        "\n",
        "        # do stuff...\n",
        "        with lock:\n",
        "            # prevent printing at the same time with this lock\n",
        "            print(f\"in {current_thread().name} got {value}\")\n",
        "        # ...\n",
        "\n",
        "        # For each get(), a subsequent call to task_done() tells the queue\n",
        "        # that the processing on this item is complete.\n",
        "        # If all tasks are done, q.join() can unblock\n",
        "        q.task_done()\n",
        "\n",
        "\n",
        "if __name__ == '__main__':\n",
        "    q = Queue()\n",
        "    num_threads = 10\n",
        "    lock = Lock()\n",
        "\n",
        "    for i in range(num_threads):\n",
        "        t = Thread(name=f\"Thread{i+1}\", target=worker, args=(q, lock))\n",
        "        t.daemon = True  # dies when the main thread dies\n",
        "        t.start()\n",
        "    \n",
        "    # fill the queue with items\n",
        "    for x in range(20):\n",
        "        q.put(x)\n",
        "\n",
        "    q.join()  # Blocks until all items in the queue have been gotten and processed.\n",
        "\n",
        "    print('main done')"
      ]
    },
    {
      "cell_type": "markdown",
      "id": "65b913fb",
      "metadata": {
        "id": "65b913fb"
      },
      "source": [
        "### Multiprocessing"
      ]
    },
    {
      "cell_type": "code",
      "execution_count": null,
      "id": "ebe28f08",
      "metadata": {
        "id": "ebe28f08",
        "outputId": "34d3324a-47be-4cd5-d6e0-338e6386fcd5"
      },
      "outputs": [
        {
          "name": "stdout",
          "output_type": "stream",
          "text": [
            "Value at beginning: 0\n",
            "Array at beginning: [0.0, 100.0, 200.0]\n",
            "Value at end: 200\n",
            "Array at end: [198.0, 299.0, 399.0]\n",
            "end main\n",
            "Total multiprocess time 10.038383960723877\n"
          ]
        }
      ],
      "source": [
        "from multiprocessing import Process, Value, Array\n",
        "import time\n",
        "\n",
        "def add_100(number):\n",
        "    for _ in range(100):\n",
        "        time.sleep(0.01)\n",
        "        number.value += 1\n",
        "\n",
        "def add_100_array(numbers):\n",
        "    for _ in range(100):\n",
        "        time.sleep(0.1)\n",
        "        for i in range(len(numbers)):\n",
        "            numbers[i] += 1\n",
        "\n",
        "\n",
        "if __name__ == \"__main__\":\n",
        "\n",
        "    shared_number = Value('i', 0) \n",
        "    print('Value at beginning:', shared_number.value)\n",
        "\n",
        "    shared_array = Array('d', [0.0, 100.0, 200.0])\n",
        "    print('Array at beginning:', shared_array[:])\n",
        "\n",
        "    process1 = Process(target=add_100, args=(shared_number,))\n",
        "    process2 = Process(target=add_100, args=(shared_number,))\n",
        "\n",
        "    process3 = Process(target=add_100_array, args=(shared_array,))\n",
        "    process4 = Process(target=add_100_array, args=(shared_array,))\n",
        "\n",
        "    start_time = time.time()\n",
        "    process1.start()\n",
        "    process2.start()\n",
        "    process3.start()\n",
        "    process4.start()\n",
        "\n",
        "    process1.join()\n",
        "    process2.join()\n",
        "    process3.join()\n",
        "    process4.join()\n",
        "    end_time = time.time()\n",
        "\n",
        "    print('Value at end:', shared_number.value)\n",
        "    print('Array at end:', shared_array[:])\n",
        "\n",
        "    print('end main')\n",
        "    print('Total multiprocess time', (end_time - start_time))"
      ]
    },
    {
      "cell_type": "markdown",
      "id": "69b19757",
      "metadata": {
        "id": "69b19757"
      },
      "source": [
        "**Observations -**\n",
        "1. The race condition is more probable, for longer processes.\n",
        "2. The race condition can only be avoided by use of locks or queue."
      ]
    },
    {
      "cell_type": "markdown",
      "id": "0c4abfb6",
      "metadata": {
        "id": "0c4abfb6"
      },
      "source": [
        "### How to use `Locks`\n",
        "Notice that in the above example, the 2 processes should increment the shared value by 1 for 100 times. This results in 200 total operations. But why is the end value not 200?\n",
        "\n",
        "#### Race condition\n",
        "A race condition happened here. A race condition occurs when two or more processes or threads can access shared data and they try to change it at the same time. In our example the two processes have to read the shared value, increase it by 1, and write it back into the shared variable. If this happens at the same time, the two processes read the same value, increase it and write it back. Thus, both processes write the same increased value back into the shared object, and the value was not increased by 2. See https://www.python-engineer.com/learn/advancedpython16_threading/ for a detailed explanation of race conditions.\n",
        "\n",
        "#### Avoid race conditions with `Locks`\n",
        "A lock (also known as mutex) is a synchronization mechanism for enforcing limits on access to a resource in an environment where there are many processes/threads of execution. A Lock has two states: **locked** and **unlocked**. \n",
        "If the state is locked, it does not allow other concurrent processes/threads to enter this code section until the state is unlocked again.\n",
        "\n",
        "Two functions are important:\n",
        "- `lock.acquire()` : This will lock the state and block\n",
        "- `lock.release()` : This will unlock the state again.\n",
        "\n",
        "Important: You should always release the block again after it was acquired!\n",
        "\n",
        "In our example the critical code section where the shared variable is read and increased is now locked. This prevents the second process from modyfing the shared object at the same time. Not much has changed in our code. All new changes are commented in the code below."
      ]
    },
    {
      "cell_type": "code",
      "execution_count": null,
      "id": "d56fbcfb",
      "metadata": {
        "id": "d56fbcfb",
        "outputId": "80a0d6a5-51fb-45b5-a608-0c59ee79a48b"
      },
      "outputs": [
        {
          "name": "stdout",
          "output_type": "stream",
          "text": [
            "Value at beginning: 0\n",
            "Array at beginning: [0.0, 100.0, 200.0]\n",
            "Value at end: 200\n",
            "Array at end: [200.0, 300.0, 400.0]\n",
            "end main\n",
            "Total multiprocess time 1.0320227146148682\n"
          ]
        }
      ],
      "source": [
        "# import Lock\n",
        "from multiprocessing import Lock\n",
        "from multiprocessing import Process, Value, Array\n",
        "import time\n",
        "\n",
        "def add_100(number, lock):\n",
        "    for _ in range(100):\n",
        "        time.sleep(0.01)\n",
        "        # lock the state\n",
        "        lock.acquire()\n",
        "        \n",
        "        number.value += 1\n",
        "        \n",
        "        # unlock the state\n",
        "        lock.release()\n",
        "\n",
        "def add_100_array(numbers, lock):\n",
        "    for _ in range(100):\n",
        "        time.sleep(0.01)\n",
        "        for i in range(len(numbers)):\n",
        "            lock.acquire()\n",
        "            numbers[i] += 1\n",
        "            lock.release()\n",
        "\n",
        "\n",
        "if __name__ == \"__main__\":\n",
        "\n",
        "    # create a lock\n",
        "    lock = Lock()\n",
        "    \n",
        "    shared_number = Value('i', 0) \n",
        "    print('Value at beginning:', shared_number.value)\n",
        "\n",
        "    shared_array = Array('d', [0.0, 100.0, 200.0])\n",
        "    print('Array at beginning:', shared_array[:])\n",
        "\n",
        "    # pass the lock to the target function\n",
        "    process1 = Process(target=add_100, args=(shared_number, lock))\n",
        "    process2 = Process(target=add_100, args=(shared_number, lock))\n",
        "\n",
        "    process3 = Process(target=add_100_array, args=(shared_array, lock))\n",
        "    process4 = Process(target=add_100_array, args=(shared_array, lock))\n",
        "\n",
        "    start_time = time.time()\n",
        "    process1.start()\n",
        "    process2.start()\n",
        "    process3.start()\n",
        "    process4.start()\n",
        "\n",
        "    process1.join()\n",
        "    process2.join()\n",
        "    process3.join()\n",
        "    process4.join()\n",
        "    end_time = time.time()\n",
        "\n",
        "    print('Value at end:', shared_number.value)\n",
        "    print('Array at end:', shared_array[:])\n",
        "\n",
        "    print('end main')\n",
        "    print('Total multiprocess time', (end_time - start_time))"
      ]
    },
    {
      "cell_type": "markdown",
      "id": "552c338e",
      "metadata": {
        "id": "552c338e"
      },
      "source": [
        "#### Use the lock as a context manager\n",
        "After `lock.acquire()` you should never forget to call `lock.release()` to unblock the code. You can also use a lock as a context manager, wich will safely lock and unlock your code. It is recommended to use a lock this way:"
      ]
    },
    {
      "cell_type": "markdown",
      "id": "0c45eef1",
      "metadata": {
        "id": "0c45eef1"
      },
      "source": [
        "### Context Managers"
      ]
    },
    {
      "cell_type": "code",
      "execution_count": null,
      "id": "68cd5f29",
      "metadata": {
        "colab": {
          "base_uri": "https://localhost:8080/"
        },
        "id": "68cd5f29",
        "outputId": "2a390313-eb22-44ac-d29d-1da641eea96d"
      },
      "outputs": [
        {
          "name": "stdout",
          "output_type": "stream",
          "text": [
            "True\n"
          ]
        }
      ],
      "source": [
        "with open('testfile.txt','w') as f:\n",
        "    f.write('This is first line')\n",
        "    f.write('This is second line')\n",
        "\n",
        "print(f.closed)\n",
        "\n",
        "# with context manager we don't need to close file explicitly incase an exception occurs. \n",
        "# it is equivalent to writing a try-except-finally block of code"
      ]
    },
    {
      "cell_type": "code",
      "execution_count": null,
      "id": "eC4aOP30syKo",
      "metadata": {
        "colab": {
          "base_uri": "https://localhost:8080/"
        },
        "id": "eC4aOP30syKo",
        "outputId": "9793ac87-39c7-4bb6-a73a-ed2939f12a00"
      },
      "outputs": [
        {
          "data": {
            "text/plain": [
              "True"
            ]
          },
          "execution_count": 38,
          "metadata": {},
          "output_type": "execute_result"
        }
      ],
      "source": [
        "try:\n",
        "    f = open('testfile1.txt','w')\n",
        "    f.write('Something')\n",
        "finally:\n",
        "    f.close()                          # in case of context manager, we don't have to write f.close()\n",
        "\n",
        "f.closed\n"
      ]
    },
    {
      "cell_type": "code",
      "execution_count": null,
      "id": "vnAC_pocxR68",
      "metadata": {
        "colab": {
          "base_uri": "https://localhost:8080/"
        },
        "id": "vnAC_pocxR68",
        "outputId": "889430ea-26fd-43dc-86dd-e889879a6f79"
      },
      "outputs": [
        {
          "name": "stdout",
          "output_type": "stream",
          "text": [
            "division by zero\n"
          ]
        },
        {
          "data": {
            "text/plain": [
              "True"
            ]
          },
          "execution_count": 40,
          "metadata": {},
          "output_type": "execute_result"
        }
      ],
      "source": [
        "try:\n",
        "    f = open('testfile1.txt','w')\n",
        "    f.write('Something')\n",
        "    x = 4 / 0\n",
        "    f.write(x)\n",
        "except Exception as e:\n",
        "    print(e)\n",
        "finally:\n",
        "    f.close()                # in case of context manager, we don't have to write f.close()\n",
        "\n",
        "f.closed"
      ]
    },
    {
      "cell_type": "code",
      "execution_count": null,
      "id": "nt2bG_V7xvgW",
      "metadata": {
        "colab": {
          "base_uri": "https://localhost:8080/"
        },
        "id": "nt2bG_V7xvgW",
        "outputId": "2f74e983-6ad4-474e-95b1-0191b88ee92c"
      },
      "outputs": [
        {
          "name": "stdout",
          "output_type": "stream",
          "text": [
            "division by zero\n"
          ]
        },
        {
          "data": {
            "text/plain": [
              "False"
            ]
          },
          "execution_count": 41,
          "metadata": {},
          "output_type": "execute_result"
        }
      ],
      "source": [
        "try:\n",
        "    f = open('testfile1.txt','w')\n",
        "    f.write('Something')\n",
        "    x = 4 / 0\n",
        "    f.write(x)\n",
        "except Exception as e:\n",
        "    print(e)                # in case of context manager, we don't have to write f.close()\n",
        "\n",
        "f.closed                  # here file not closed because of exception"
      ]
    },
    {
      "cell_type": "code",
      "execution_count": null,
      "id": "V6EPGbepyAAE",
      "metadata": {
        "id": "V6EPGbepyAAE"
      },
      "outputs": [],
      "source": [
        "# revisit context manager for example of multi-threading"
      ]
    },
    {
      "cell_type": "markdown",
      "id": "2708862e",
      "metadata": {
        "id": "2708862e"
      },
      "source": [
        "### Network Programming"
      ]
    },
    {
      "cell_type": "code",
      "execution_count": null,
      "id": "433f7d66",
      "metadata": {
        "id": "433f7d66",
        "outputId": "d2b30db9-1ac6-4f37-df1f-183cbef415c8"
      },
      "outputs": [
        {
          "name": "stdout",
          "output_type": "stream",
          "text": [
            "HTTP/1.1 200 OK\r\n",
            "Date: Tue, 22 Feb 2022 10:22:17 GMT\r\n",
            "Server: Apache/2.4.18 (Ubuntu)\r\n",
            "Last-Modified: Sat, 13 May 2017 11:22:22 GMT\r\n",
            "ETag: \"a7-54f6609245537\"\r\n",
            "Accept-Ranges: bytes\r\n",
            "Content-Length: 167\r\n",
            "Cache-Control: max-age=0, no-cache, no-store, must-revalidate\r\n",
            "Pragma: no-cache\r\n",
            "Expires: Wed, 11 Jan 1984 05:00:00 GMT\r\n",
            "Connection: close\r\n",
            "Content-Type: text/plain\r\n",
            "\r\n",
            "But soft what light through yonder window breaks\n",
            "It is the east and Juliet is the sun\n",
            "Arise fair sun and kill the envious moon\n",
            "Who is already sick and pale with grief\n"
          ]
        }
      ],
      "source": [
        "# A simple web browser application\n",
        "import socket\n",
        "\n",
        "mysock = socket.socket(socket.AF_INET, socket.SOCK_STREAM)  # creating a socket named mysock\n",
        "mysock.connect(('data.pr4e.org', 80))                       # connecting to the web server at it's port 80\n",
        "cmd = 'GET http://data.pr4e.org/romeo.txt HTTP/1.0\\r\\n\\r\\n'.encode()  \n",
        "mysock.send(cmd)                                            # sending the message to web server\n",
        "\n",
        "\n",
        "while True:\n",
        "    data = mysock.recv(512)                                 # recieve data in len of 512 characters      \n",
        "    if len(data) < 1:                                       # if no data is coming break the loop and close socket conn\n",
        "        break\n",
        "    print(data.decode(),end='')                             # decode and print\n",
        "\n",
        "mysock.close()                                              # close \n",
        "\n",
        "\n",
        "\n"
      ]
    },
    {
      "cell_type": "markdown",
      "id": "83a79686",
      "metadata": {
        "id": "83a79686"
      },
      "source": [
        "### various protocols are configured to connect at various port\n",
        "![image.png](attachment:image.png)\n"
      ]
    },
    {
      "cell_type": "markdown",
      "id": "0ac4ab7b",
      "metadata": {
        "id": "0ac4ab7b"
      },
      "source": [
        "### in terminal -\n",
        "\n",
        ">telnet web_server_name port_number <br>\n",
        ">GET http://data.pr4e.org/romeo.txt HTTP/1.0\n",
        ">\n",
        "\n",
        "\n",
        "**Example**<br>\n",
        "\n",
        ">telnet data.pr4e.org 80 <br>\n",
        ">GET http://data.pr4e.org/romeo.txt HTTP/1.0\n",
        ">"
      ]
    },
    {
      "cell_type": "markdown",
      "id": "4254bd0e",
      "metadata": {
        "id": "4254bd0e"
      },
      "source": [
        "#### Characters and String\n",
        "\n",
        "1. Different data encodings like ASCII, UTF-8, UTF-16, UTF-32.\n",
        "2. Python String in Python 3 are Unicode encodings."
      ]
    },
    {
      "cell_type": "markdown",
      "id": "f864d8f3",
      "metadata": {
        "id": "f864d8f3"
      },
      "source": [
        "3. In python 2, string are synonymous with byte string, while in python 3, strings are synonymous with unicode string.\n",
        "4. String --> encode --> byte array\n",
        "5. Byte array --> decode --> string"
      ]
    },
    {
      "cell_type": "markdown",
      "id": "21858a7c",
      "metadata": {
        "id": "21858a7c"
      },
      "source": [
        "### urllib - not even need socket library"
      ]
    },
    {
      "cell_type": "code",
      "execution_count": null,
      "id": "10053600",
      "metadata": {
        "id": "10053600",
        "outputId": "e9350411-a6c3-483f-a160-aa3f039ff0dd"
      },
      "outputs": [
        {
          "name": "stdout",
          "output_type": "stream",
          "text": [
            "<h1>The First Page</h1>\n",
            "<p>\n",
            "If you like, you can switch to the\n",
            "<a href=\"http://www.dr-chuck.com/page2.htm\">\n",
            "Second Page</a>.\n",
            "</p>\n"
          ]
        }
      ],
      "source": [
        "import urllib.request, urllib.parse, urllib.error\n",
        "\n",
        "fhand = urllib.request.urlopen('http://www.dr-chuck.com/page1.htm')\n",
        "for line in fhand:\n",
        "    print(line.decode().strip())\n"
      ]
    },
    {
      "cell_type": "markdown",
      "id": "05ed0ed6",
      "metadata": {
        "id": "05ed0ed6"
      },
      "source": [
        "### Web Scraping - doing things after retrieving a web page"
      ]
    },
    {
      "cell_type": "code",
      "execution_count": null,
      "id": "47b80c81",
      "metadata": {
        "id": "47b80c81"
      },
      "outputs": [],
      "source": [
        "## Beautiful-soup module: finding data with html tags in web pages.\n",
        "## Gathering relevant information.\n",
        "\n",
        "## Skipping currently - will revisit in end"
      ]
    },
    {
      "cell_type": "markdown",
      "id": "c1438b60",
      "metadata": {
        "id": "c1438b60"
      },
      "source": [
        "### Handling and parsing XML, JSON Files"
      ]
    },
    {
      "cell_type": "code",
      "execution_count": null,
      "id": "a65bbc86",
      "metadata": {
        "id": "a65bbc86"
      },
      "outputs": [],
      "source": [
        ""
      ]
    },
    {
      "cell_type": "code",
      "execution_count": null,
      "id": "e6e41756",
      "metadata": {
        "id": "e6e41756"
      },
      "outputs": [],
      "source": [
        ""
      ]
    },
    {
      "cell_type": "markdown",
      "id": "7bcf257c",
      "metadata": {
        "id": "7bcf257c"
      },
      "source": [
        "### API Security and Rate Limiting"
      ]
    },
    {
      "cell_type": "code",
      "execution_count": null,
      "id": "821c7483",
      "metadata": {
        "id": "821c7483"
      },
      "outputs": [],
      "source": [
        ""
      ]
    }
  ],
  "metadata": {
    "colab": {
      "name": "Advanced Python Programming.ipynb",
      "provenance": [],
      "collapsed_sections": [
        "6b187afb",
        "28c44bb5",
        "rzWv0-OSuYoF",
        "FIkEJQli_QOg",
        "50bf2fc1",
        "4ca8f87a",
        "44b9204c",
        "65b913fb",
        "0c4abfb6",
        "552c338e",
        "0c45eef1",
        "2708862e",
        "83a79686",
        "7bcf257c"
      ],
      "toc_visible": true,
      "include_colab_link": true
    },
    "kernelspec": {
      "display_name": "Python 3 (ipykernel)",
      "language": "python",
      "name": "python3"
    },
    "language_info": {
      "codemirror_mode": {
        "name": "ipython",
        "version": 3
      },
      "file_extension": ".py",
      "mimetype": "text/x-python",
      "name": "python",
      "nbconvert_exporter": "python",
      "pygments_lexer": "ipython3",
      "version": "3.9.7"
    }
  },
  "nbformat": 4,
  "nbformat_minor": 5
}