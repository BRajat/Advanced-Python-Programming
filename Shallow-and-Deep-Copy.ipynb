{
 "cells": [
  {
   "cell_type": "markdown",
   "id": "6b187afb",
   "metadata": {
    "id": "6b187afb"
   },
   "source": [
    "### Shallow and deep copying"
   ]
  },
  {
   "cell_type": "code",
   "execution_count": null,
   "id": "a53af388",
   "metadata": {
    "id": "a53af388"
   },
   "outputs": [],
   "source": [
    "## shallow and deep copy\n",
    "\n",
    "# copy.copy() --> creates shallow copy of depth_1 only\n",
    "# copy.deepcopy() --> create copy at all levels of the underlying object"
   ]
  },
  {
   "cell_type": "code",
   "execution_count": null,
   "id": "bcd6db8b",
   "metadata": {
    "id": "bcd6db8b"
   },
   "outputs": [],
   "source": [
    "# copy of object of basic python datatype\n",
    "\n",
    "obj = 6\n",
    "cpy = obj\n",
    "\n",
    "cpy = 5\n",
    "print(cpy)\n",
    "print(obj)"
   ]
  },
  {
   "cell_type": "markdown",
   "id": "fb3684d1",
   "metadata": {
    "id": "fb3684d1"
   },
   "source": [
    "* Shallow copy of depth 1 works in above example because the data type is of less dimension."
   ]
  },
  {
   "cell_type": "code",
   "execution_count": null,
   "id": "c47592ea",
   "metadata": {
    "id": "c47592ea",
    "outputId": "30fa8496-17c7-441a-82bd-b2ed5b6fb562"
   },
   "outputs": [
    {
     "name": "stdout",
     "output_type": "stream",
     "text": [
      "[-100, 2, 3, 4, 5]\n",
      "[-100, 2, 3, 4, 5]\n"
     ]
    }
   ],
   "source": [
    "# shallow copy of list\n",
    "\n",
    "l1 = [1,2,3,4,5]\n",
    "l2 = l1\n",
    "\n",
    "l2[0] = -100\n",
    "\n",
    "print(l2)\n",
    "print(l1)"
   ]
  },
  {
   "cell_type": "markdown",
   "id": "660951e0",
   "metadata": {
    "id": "660951e0"
   },
   "source": [
    "* In this example of shallow copy what happened is the list object got copied at high level (depth =1) but at deep level the individual elements in list are still getting referenced to same memory location and therefore when then element is updated at the ref pointer it is changed in original list as well."
   ]
  },
  {
   "cell_type": "markdown",
   "id": "a05355e8",
   "metadata": {
    "id": "a05355e8"
   },
   "source": [
    "* We can overcome this by doing cpy = copy.deepcopy(org)"
   ]
  },
  {
   "cell_type": "code",
   "execution_count": null,
   "id": "9f87621b",
   "metadata": {
    "id": "9f87621b",
    "outputId": "eada4ce8-dd30-4eac-cc81-d0515707e4e7"
   },
   "outputs": [
    {
     "name": "stdout",
     "output_type": "stream",
     "text": [
      "[1, 2, 3, 4, 5]\n",
      "[-100, 2, 3, 4, 5]\n"
     ]
    }
   ],
   "source": [
    "import copy\n",
    "\n",
    "l1 = [1,2,3,4,5]\n",
    "l2 = copy.copy(l2)\n",
    "\n",
    "l2[0] = -100\n",
    "\n",
    "print(l1)\n",
    "print(l2)"
   ]
  },
  {
   "cell_type": "markdown",
   "id": "418ffe08",
   "metadata": {
    "id": "418ffe08"
   },
   "source": [
    "* Here also, shallow copy worked for depth + 1 level but it won't for a nested list"
   ]
  },
  {
   "cell_type": "code",
   "execution_count": null,
   "id": "9925a8ad",
   "metadata": {
    "id": "9925a8ad",
    "outputId": "aab24784-d1c8-42e7-99cf-6fae003322e9"
   },
   "outputs": [
    {
     "name": "stdout",
     "output_type": "stream",
     "text": [
      "[[-100, 2, 3, 4, 5], [5, 3, 4, 2, 1]]\n",
      "[[-100, 2, 3, 4, 5], [5, 3, 4, 2, 1]]\n"
     ]
    }
   ],
   "source": [
    "l1 = [[1,2,3,4,5],[5,3,4,2,1]]\n",
    "l2 = copy.copy(l1)\n",
    "\n",
    "l2[0][0] = -100\n",
    "\n",
    "print(l1)\n",
    "print(l2)"
   ]
  },
  {
   "cell_type": "markdown",
   "id": "8a20616e",
   "metadata": {
    "id": "8a20616e"
   },
   "source": [
    "* In this case, shallow copy failed at depth 2 (Always remember - shallow copy works till depth 1 only and so for nested elements its is better to safely copy by using copy.deepcopy()"
   ]
  },
  {
   "cell_type": "code",
   "execution_count": null,
   "id": "d5dccb9c",
   "metadata": {
    "id": "d5dccb9c",
    "outputId": "cfcd4609-c6ba-447e-f64b-8904acfad441"
   },
   "outputs": [
    {
     "name": "stdout",
     "output_type": "stream",
     "text": [
      "[[1, 2, 3, 4, 5], [5, 3, 4, 2, 1]]\n",
      "[[-100, 2, 3, 4, 5], [5, 3, 4, 2, 1]]\n"
     ]
    }
   ],
   "source": [
    "l1 = [[1,2,3,4,5],[5,3,4,2,1]]\n",
    "l2 = copy.deepcopy(l1)\n",
    "\n",
    "l2[0][0] = -100\n",
    "\n",
    "print(l1)\n",
    "print(l2)"
   ]
  },
  {
   "cell_type": "markdown",
   "id": "a4ada171",
   "metadata": {
    "id": "a4ada171"
   },
   "source": [
    "* Above code snippet worked correctly as we would have wanted."
   ]
  },
  {
   "cell_type": "code",
   "execution_count": null,
   "id": "60800822",
   "metadata": {
    "id": "60800822",
    "outputId": "a80f2b64-8741-4322-d222-c2d49eaaa35b"
   },
   "outputs": [
    {
     "name": "stdout",
     "output_type": "stream",
     "text": [
      "39 39\n"
     ]
    }
   ],
   "source": [
    "# shallow and deep copying example with objects.\n",
    "\n",
    "class person:\n",
    "    def __init__(self, name, age):\n",
    "        self.name = name\n",
    "        self.age = age\n",
    "        \n",
    "        \n",
    "p1 = person('Ronaldo', 40)\n",
    "p2 = p1\n",
    "\n",
    "p2.age = 39\n",
    "print(p1.age, p2.age)"
   ]
  },
  {
   "cell_type": "markdown",
   "id": "1dd9cdc8",
   "metadata": {
    "id": "1dd9cdc8"
   },
   "source": [
    "* Here, the instance of object is at depth 1 and the age(instance variable) is at depth 2. So, shallow copying worked at depth 1 only"
   ]
  },
  {
   "cell_type": "code",
   "execution_count": null,
   "id": "6a20a686",
   "metadata": {
    "id": "6a20a686",
    "outputId": "83015913-472a-4c43-fd87-c0fd5f4aa954"
   },
   "outputs": [
    {
     "name": "stdout",
     "output_type": "stream",
     "text": [
      "40 39\n"
     ]
    }
   ],
   "source": [
    "p1 = person('Ronaldo', 40)\n",
    "p2 = copy.copy(p1)\n",
    "\n",
    "p2.age = 39\n",
    "print(p1.age, p2.age)"
   ]
  },
  {
   "cell_type": "markdown",
   "id": "e2b488c7",
   "metadata": {
    "id": "e2b488c7"
   },
   "source": [
    "* Here the shallow copy worked with an extra depth since we used the copy.copy() method"
   ]
  },
  {
   "cell_type": "code",
   "execution_count": null,
   "id": "ad15fb8c",
   "metadata": {
    "id": "ad15fb8c",
    "outputId": "daaba4cb-9a7e-410f-a854-b684a5cb4df3"
   },
   "outputs": [
    {
     "name": "stdout",
     "output_type": "stream",
     "text": [
      "51\n",
      "51\n"
     ]
    }
   ],
   "source": [
    "class company:\n",
    "    def __init__(self, boss, employee):\n",
    "        self.boss = boss\n",
    "        self.employee = employee\n",
    "        \n",
    "p1 = person('Rohit', 35)\n",
    "p2 = person('Dravid', 50)\n",
    "c1 = company(p1, p2)             # p1 boss and p2 employee\n",
    "\n",
    "c2 = copy.copy(c1)\n",
    "c2.boss.age = 51\n",
    "\n",
    "print(c1.boss.age)\n",
    "print(c2.boss.age)"
   ]
  },
  {
   "cell_type": "markdown",
   "id": "9c65e4ce",
   "metadata": {
    "id": "9c65e4ce"
   },
   "source": [
    "* Here the shallow copy didn't work since the depth at which we are copying is 1 level less than the total depth of the instance variable. "
   ]
  }
 ],
 "metadata": {
  "kernelspec": {
   "display_name": "Python 3 (ipykernel)",
   "language": "python",
   "name": "python3"
  },
  "language_info": {
   "codemirror_mode": {
    "name": "ipython",
    "version": 3
   },
   "file_extension": ".py",
   "mimetype": "text/x-python",
   "name": "python",
   "nbconvert_exporter": "python",
   "pygments_lexer": "ipython3",
   "version": "3.9.7"
  }
 },
 "nbformat": 4,
 "nbformat_minor": 5
}
