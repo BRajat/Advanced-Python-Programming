{
  "cells": [
    {
      "cell_type": "markdown",
      "metadata": {
        "id": "view-in-github",
        "colab_type": "text"
      },
      "source": [
        "<a href=\"https://colab.research.google.com/github/BRajat/advance-python/blob/main/Advanced_Python_Programming_CLP.ipynb\" target=\"_parent\"><img src=\"https://colab.research.google.com/assets/colab-badge.svg\" alt=\"Open In Colab\"/></a>"
      ]
    },
    {
      "cell_type": "markdown",
      "id": "c93f6caf",
      "metadata": {
        "id": "c93f6caf"
      },
      "source": [
        "## [Advanced Python Programming](https://www.youtube.com/watch?v=HGOBQPFzWKo&list=PLWKjhJtqVAbnqBxcdjVGgT3uVR10bzTEB&index=27)\n",
        "\n"
      ]
    },
    {
      "cell_type": "markdown",
      "id": "e8ab109c",
      "metadata": {
        "id": "e8ab109c"
      },
      "source": [
        "⭐️ Course Contents ⭐️ <br>\n",
        "⌨️ (0:00:00) Intro <br>\n",
        "⌨️ (0:00:56) Lists <br>\n",
        "⌨️ (0:16:30) Tuples <br>\n",
        "⌨️ (0:29:49) Dictionaries <br>\n",
        "⌨️ (0:42:40) Sets <br>\n",
        "⌨️ (0:58:44) Strings <br>\n",
        "⌨️ (1:22:50) Collections <br>\n",
        "⌨️ (1:36:43) Itertools <br>\n",
        "⌨️ (1:51:50) Lambda Functions <br>\n",
        "⌨️ (2:04:03) Exceptions and Errors <br>\n",
        "⌨️ (2:20:10) Logging <br>\n",
        "⌨️ (2:42:20) JSON <br>\n",
        "⌨️ (2:59:42) Random Numbers <br>\n",
        "⌨️ (3:14:23) Decorators <br>\n",
        "⌨️ (3:35:32) Generators <br>\n",
        "⌨️ (3:53:29) Threading vs Multiprocessing <br>\n",
        "⌨️ (4:07:59) Multithreading <br>\n",
        "⌨️ (4:31:05) Multiprocessing <br>\n",
        "⌨️ (4:53:26) Function Arguments <br>\n",
        "⌨️ (5:17:28) The Asterisk (*) Operator <br>\n",
        "⌨️ (5:30:19) Shallow vs Deep Copying  <br>\n",
        "⌨️ (5:40:07) Context Managers"
      ]
    },
    {
      "cell_type": "code",
      "execution_count": null,
      "id": "9903e8bd",
      "metadata": {
        "id": "9903e8bd",
        "outputId": "7335ac10-a006-467b-e8aa-210e65e49a31"
      },
      "outputs": [
        {
          "data": {
            "text/plain": [
              "Counter({'cat': 3, 'dog': 2, 'fish': 1})"
            ]
          },
          "execution_count": 19,
          "metadata": {},
          "output_type": "execute_result"
        }
      ],
      "source": [
        "# Collections - Counter, namedtuple, OrderedDict, defaultdict, deque\n",
        "\n",
        "from collections import *\n",
        "\n",
        "list1 = [ 'cat', 'dog', 'dog','cat','cat','fish']\n",
        "Counter(list1)"
      ]
    },
    {
      "cell_type": "code",
      "execution_count": null,
      "id": "2bc975aa",
      "metadata": {
        "id": "2bc975aa",
        "outputId": "2ca80927-dea9-4bd8-95cd-11553a3d290a"
      },
      "outputs": [
        {
          "name": "stdout",
          "output_type": "stream",
          "text": [
            "Counter({' ': 8, 'o': 4, 'e': 3, 'h': 2, 'u': 2, 'r': 2, 'T': 1, 'q': 1, 'i': 1, 'c': 1, 'k': 1, 'b': 1, 'w': 1, 'n': 1, 'f': 1, 'x': 1, 'j': 1, 'm': 1, 'p': 1, 's': 1, 'v': 1, 't': 1, 'l': 1, 'a': 1, 'z': 1, 'y': 1, 'd': 1, 'g': 1})\n"
          ]
        }
      ],
      "source": [
        "string1 = 'The quick brown fox jumps over the lazy dog'\n",
        "print(Counter(string1))"
      ]
    },
    {
      "cell_type": "code",
      "execution_count": null,
      "id": "38f00b5c",
      "metadata": {
        "id": "38f00b5c",
        "outputId": "1f61886e-09dd-4b3c-abc5-aa1967f44fe7"
      },
      "outputs": [
        {
          "name": "stdout",
          "output_type": "stream",
          "text": [
            "dict_keys(['cat', 'dog', 'fish'])\n"
          ]
        }
      ],
      "source": [
        "tmp = Counter(list1)\n",
        "\n",
        "print(tmp.keys())"
      ]
    },
    {
      "cell_type": "code",
      "execution_count": null,
      "id": "426b009f",
      "metadata": {
        "id": "426b009f",
        "outputId": "99ff687d-aa3b-46ef-b5e6-4a4888e2a5e4"
      },
      "outputs": [
        {
          "name": "stdout",
          "output_type": "stream",
          "text": [
            "Counter({'fish': 1, 'dog': 1, 'cat': 1})\n"
          ]
        }
      ],
      "source": [
        "set1 = set(list1)\n",
        "tmp = Counter(set1)\n",
        "print(tmp)"
      ]
    },
    {
      "cell_type": "code",
      "execution_count": null,
      "id": "6341f052",
      "metadata": {
        "id": "6341f052",
        "outputId": "d73e90ae-99f7-4ef6-f470-7548c9da435d"
      },
      "outputs": [
        {
          "data": {
            "text/plain": [
              "0"
            ]
          },
          "execution_count": 6,
          "metadata": {},
          "output_type": "execute_result"
        }
      ],
      "source": [
        "tmp['fox']"
      ]
    },
    {
      "cell_type": "code",
      "execution_count": null,
      "id": "ae2c16ad",
      "metadata": {
        "id": "ae2c16ad",
        "outputId": "6336d596-a850-4a21-9197-2f8f2d1e3fbd"
      },
      "outputs": [
        {
          "data": {
            "text/plain": [
              "collections.Counter"
            ]
          },
          "execution_count": 7,
          "metadata": {},
          "output_type": "execute_result"
        }
      ],
      "source": [
        "type(tmp)"
      ]
    },
    {
      "cell_type": "code",
      "execution_count": null,
      "id": "d37ec24e",
      "metadata": {
        "id": "d37ec24e",
        "outputId": "35abf93a-08a5-4916-bd7a-ad2b2e3c6009"
      },
      "outputs": [
        {
          "data": {
            "text/plain": [
              "True"
            ]
          },
          "execution_count": 14,
          "metadata": {},
          "output_type": "execute_result"
        }
      ],
      "source": [
        "isinstance(tmp, Counter)"
      ]
    },
    {
      "cell_type": "code",
      "execution_count": null,
      "id": "0696aec0",
      "metadata": {
        "id": "0696aec0",
        "outputId": "05ea5d7b-f6d9-4386-a3e7-8b532dc5a2c4"
      },
      "outputs": [
        {
          "data": {
            "text/plain": [
              "True"
            ]
          },
          "execution_count": 21,
          "metadata": {},
          "output_type": "execute_result"
        }
      ],
      "source": [
        "isinstance(Counter(), Counter)"
      ]
    },
    {
      "cell_type": "code",
      "execution_count": null,
      "id": "9ab1ef60",
      "metadata": {
        "id": "9ab1ef60",
        "outputId": "b5a515a7-fdce-40ec-9f79-847d8feac02f"
      },
      "outputs": [
        {
          "name": "stdout",
          "output_type": "stream",
          "text": [
            "3 1 2\n"
          ]
        }
      ],
      "source": [
        "# collections - namedtuple\n",
        "\n",
        "Point = namedtuple('Point',['wins','losses','draws'])\n",
        "pt = Point(3,1,2)\n",
        "print(pt.wins, pt.losses, pt.draws)"
      ]
    },
    {
      "cell_type": "code",
      "execution_count": null,
      "id": "60879630",
      "metadata": {
        "id": "60879630",
        "outputId": "80990177-925b-4330-d28f-e9f221c34d62"
      },
      "outputs": [
        {
          "name": "stdout",
          "output_type": "stream",
          "text": [
            "Point(wins=3, losses=1, draws=2)\n"
          ]
        }
      ],
      "source": [
        "print(pt)"
      ]
    },
    {
      "cell_type": "code",
      "execution_count": null,
      "id": "36a257ca",
      "metadata": {
        "id": "36a257ca",
        "outputId": "1909a3a1-3e8e-442d-f032-a8d1aaf3c1b6"
      },
      "outputs": [
        {
          "data": {
            "text/plain": [
              "__main__.Point"
            ]
          },
          "execution_count": 26,
          "metadata": {},
          "output_type": "execute_result"
        }
      ],
      "source": [
        "type(pt)"
      ]
    },
    {
      "cell_type": "code",
      "execution_count": null,
      "id": "84428e34",
      "metadata": {
        "id": "84428e34",
        "outputId": "eaf04ca2-cca6-4070-8b04-a487d8a10ab1"
      },
      "outputs": [
        {
          "name": "stdout",
          "output_type": "stream",
          "text": [
            "{'cat': None, 'dog': None, 'fish': None}\n"
          ]
        }
      ],
      "source": [
        "d = dict.fromkeys(list1)\n",
        "print(d)"
      ]
    },
    {
      "cell_type": "code",
      "execution_count": null,
      "id": "8f4c4d05",
      "metadata": {
        "id": "8f4c4d05"
      },
      "outputs": [],
      "source": [
        "for i in range()"
      ]
    },
    {
      "cell_type": "markdown",
      "id": "6b187afb",
      "metadata": {
        "id": "6b187afb"
      },
      "source": [
        "### Shallow and deep copying"
      ]
    },
    {
      "cell_type": "code",
      "execution_count": null,
      "id": "a53af388",
      "metadata": {
        "id": "a53af388"
      },
      "outputs": [],
      "source": [
        "## shallow and deep copy\n",
        "\n",
        "# copy.copy() --> creates shallow copy of depth_1 only\n",
        "# copy.deepcopy() --> create copy at all levels of the underlying object"
      ]
    },
    {
      "cell_type": "code",
      "execution_count": null,
      "id": "bcd6db8b",
      "metadata": {
        "id": "bcd6db8b"
      },
      "outputs": [],
      "source": [
        "# copy of object of basic python datatype\n",
        "\n",
        "obj = 6\n",
        "cpy = obj\n",
        "\n",
        "cpy = 5\n",
        "print(cpy)\n",
        "print(obj)"
      ]
    },
    {
      "cell_type": "markdown",
      "id": "fb3684d1",
      "metadata": {
        "id": "fb3684d1"
      },
      "source": [
        "* Shallow copy of depth 1 works in above example because the data type is of less dimension."
      ]
    },
    {
      "cell_type": "code",
      "execution_count": null,
      "id": "c47592ea",
      "metadata": {
        "id": "c47592ea",
        "outputId": "30fa8496-17c7-441a-82bd-b2ed5b6fb562"
      },
      "outputs": [
        {
          "name": "stdout",
          "output_type": "stream",
          "text": [
            "[-100, 2, 3, 4, 5]\n",
            "[-100, 2, 3, 4, 5]\n"
          ]
        }
      ],
      "source": [
        "# shallow copy of list\n",
        "\n",
        "l1 = [1,2,3,4,5]\n",
        "l2 = l1\n",
        "\n",
        "l2[0] = -100\n",
        "\n",
        "print(l2)\n",
        "print(l1)"
      ]
    },
    {
      "cell_type": "markdown",
      "id": "660951e0",
      "metadata": {
        "id": "660951e0"
      },
      "source": [
        "* In this example of shallow copy what happened is the list object got copied at high level (depth =1) but at deep level the individual elements in list are still getting referenced to same memory location and therefore when then element is updated at the ref pointer it is changed in original list as well."
      ]
    },
    {
      "cell_type": "markdown",
      "id": "a05355e8",
      "metadata": {
        "id": "a05355e8"
      },
      "source": [
        "* We can overcome this by doing cpy = copy.deepcopy(org)"
      ]
    },
    {
      "cell_type": "code",
      "execution_count": null,
      "id": "9f87621b",
      "metadata": {
        "id": "9f87621b",
        "outputId": "eada4ce8-dd30-4eac-cc81-d0515707e4e7"
      },
      "outputs": [
        {
          "name": "stdout",
          "output_type": "stream",
          "text": [
            "[1, 2, 3, 4, 5]\n",
            "[-100, 2, 3, 4, 5]\n"
          ]
        }
      ],
      "source": [
        "import copy\n",
        "\n",
        "l1 = [1,2,3,4,5]\n",
        "l2 = copy.copy(l2)\n",
        "\n",
        "l2[0] = -100\n",
        "\n",
        "print(l1)\n",
        "print(l2)"
      ]
    },
    {
      "cell_type": "markdown",
      "id": "418ffe08",
      "metadata": {
        "id": "418ffe08"
      },
      "source": [
        "* Here also, shallow copy worked for depth + 1 level but it won't for a nested list"
      ]
    },
    {
      "cell_type": "code",
      "execution_count": null,
      "id": "9925a8ad",
      "metadata": {
        "id": "9925a8ad",
        "outputId": "aab24784-d1c8-42e7-99cf-6fae003322e9"
      },
      "outputs": [
        {
          "name": "stdout",
          "output_type": "stream",
          "text": [
            "[[-100, 2, 3, 4, 5], [5, 3, 4, 2, 1]]\n",
            "[[-100, 2, 3, 4, 5], [5, 3, 4, 2, 1]]\n"
          ]
        }
      ],
      "source": [
        "l1 = [[1,2,3,4,5],[5,3,4,2,1]]\n",
        "l2 = copy.copy(l1)\n",
        "\n",
        "l2[0][0] = -100\n",
        "\n",
        "print(l1)\n",
        "print(l2)"
      ]
    },
    {
      "cell_type": "markdown",
      "id": "8a20616e",
      "metadata": {
        "id": "8a20616e"
      },
      "source": [
        "* In this case, shallow copy failed at depth 2 (Always remember - shallow copy works till depth 1 only and so for nested elements its is better to safely copy by using copy.deepcopy()"
      ]
    },
    {
      "cell_type": "code",
      "execution_count": null,
      "id": "d5dccb9c",
      "metadata": {
        "id": "d5dccb9c",
        "outputId": "cfcd4609-c6ba-447e-f64b-8904acfad441"
      },
      "outputs": [
        {
          "name": "stdout",
          "output_type": "stream",
          "text": [
            "[[1, 2, 3, 4, 5], [5, 3, 4, 2, 1]]\n",
            "[[-100, 2, 3, 4, 5], [5, 3, 4, 2, 1]]\n"
          ]
        }
      ],
      "source": [
        "l1 = [[1,2,3,4,5],[5,3,4,2,1]]\n",
        "l2 = copy.deepcopy(l1)\n",
        "\n",
        "l2[0][0] = -100\n",
        "\n",
        "print(l1)\n",
        "print(l2)"
      ]
    },
    {
      "cell_type": "markdown",
      "id": "a4ada171",
      "metadata": {
        "id": "a4ada171"
      },
      "source": [
        "* Above code snippet worked correctly as we would have wanted."
      ]
    },
    {
      "cell_type": "code",
      "execution_count": null,
      "id": "60800822",
      "metadata": {
        "id": "60800822",
        "outputId": "a80f2b64-8741-4322-d222-c2d49eaaa35b"
      },
      "outputs": [
        {
          "name": "stdout",
          "output_type": "stream",
          "text": [
            "39 39\n"
          ]
        }
      ],
      "source": [
        "# shallow and deep copying example with objects.\n",
        "\n",
        "class person:\n",
        "    def __init__(self, name, age):\n",
        "        self.name = name\n",
        "        self.age = age\n",
        "        \n",
        "        \n",
        "p1 = person('Ronaldo', 40)\n",
        "p2 = p1\n",
        "\n",
        "p2.age = 39\n",
        "print(p1.age, p2.age)"
      ]
    },
    {
      "cell_type": "markdown",
      "id": "1dd9cdc8",
      "metadata": {
        "id": "1dd9cdc8"
      },
      "source": [
        "* Here, the instance of object is at depth 1 and the age(instance variable) is at depth 2. So, shallow copying worked at depth 1 only"
      ]
    },
    {
      "cell_type": "code",
      "execution_count": null,
      "id": "6a20a686",
      "metadata": {
        "id": "6a20a686",
        "outputId": "83015913-472a-4c43-fd87-c0fd5f4aa954"
      },
      "outputs": [
        {
          "name": "stdout",
          "output_type": "stream",
          "text": [
            "40 39\n"
          ]
        }
      ],
      "source": [
        "p1 = person('Ronaldo', 40)\n",
        "p2 = copy.copy(p1)\n",
        "\n",
        "p2.age = 39\n",
        "print(p1.age, p2.age)"
      ]
    },
    {
      "cell_type": "markdown",
      "id": "e2b488c7",
      "metadata": {
        "id": "e2b488c7"
      },
      "source": [
        "* Here the shallow copy worked with an extra depth since we used the copy.copy() method"
      ]
    },
    {
      "cell_type": "code",
      "execution_count": null,
      "id": "ad15fb8c",
      "metadata": {
        "id": "ad15fb8c",
        "outputId": "daaba4cb-9a7e-410f-a854-b684a5cb4df3"
      },
      "outputs": [
        {
          "name": "stdout",
          "output_type": "stream",
          "text": [
            "51\n",
            "51\n"
          ]
        }
      ],
      "source": [
        "class company:\n",
        "    def __init__(self, boss, employee):\n",
        "        self.boss = boss\n",
        "        self.employee = employee\n",
        "        \n",
        "p1 = person('Rohit', 35)\n",
        "p2 = person('Dravid', 50)\n",
        "c1 = company(p1, p2)             # p1 boss and p2 employee\n",
        "\n",
        "c2 = copy.copy(c1)\n",
        "c2.boss.age = 51\n",
        "\n",
        "print(c1.boss.age)\n",
        "print(c2.boss.age)"
      ]
    },
    {
      "cell_type": "markdown",
      "id": "9c65e4ce",
      "metadata": {
        "id": "9c65e4ce"
      },
      "source": [
        "* Here the shallow copy didn't work since the depth at which we are copying is 1 level less than the total depth of the instance variable. "
      ]
    },
    {
      "cell_type": "markdown",
      "id": "28c44bb5",
      "metadata": {
        "id": "28c44bb5"
      },
      "source": [
        "### Lambda function"
      ]
    },
    {
      "cell_type": "code",
      "execution_count": 2,
      "id": "8a7dcb3e",
      "metadata": {
        "colab": {
          "base_uri": "https://localhost:8080/"
        },
        "id": "8a7dcb3e",
        "outputId": "5e2756b3-fa53-497c-c995-d1a5493a215b"
      },
      "outputs": [
        {
          "output_type": "stream",
          "name": "stdout",
          "text": [
            "81\n"
          ]
        }
      ],
      "source": [
        "sqr = lambda x: x**2               # function with single argument\n",
        "\n",
        "print(sqr(9))"
      ]
    },
    {
      "cell_type": "code",
      "execution_count": 3,
      "id": "896b4d1d",
      "metadata": {
        "colab": {
          "base_uri": "https://localhost:8080/"
        },
        "id": "896b4d1d",
        "outputId": "3d2f5ac5-df7f-4670-f08e-c1ceadc70518"
      },
      "outputs": [
        {
          "output_type": "stream",
          "name": "stdout",
          "text": [
            "35\n"
          ]
        }
      ],
      "source": [
        "mult = lambda x,y: x*y             # function with 2 arguments\n",
        "\n",
        "a = 5\n",
        "b = 7\n",
        "print(mult(a,b))"
      ]
    },
    {
      "cell_type": "code",
      "execution_count": 4,
      "id": "4713a3f2",
      "metadata": {
        "colab": {
          "base_uri": "https://localhost:8080/"
        },
        "id": "4713a3f2",
        "outputId": "db4dface-8655-4421-e26c-8eaa109cb935"
      },
      "outputs": [
        {
          "output_type": "stream",
          "name": "stdout",
          "text": [
            "9801\n",
            "35\n"
          ]
        }
      ],
      "source": [
        "# also can be written as normal function\n",
        "def sqr_func(a):\n",
        "    return a**2\n",
        "\n",
        "def mult_func(x,y):\n",
        "    return x*y\n",
        "\n",
        "print(sqr_func(99))\n",
        "\n",
        "print(mult_func(5,7))"
      ]
    },
    {
      "cell_type": "code",
      "execution_count": 5,
      "id": "4be57cd1",
      "metadata": {
        "colab": {
          "base_uri": "https://localhost:8080/"
        },
        "id": "4be57cd1",
        "outputId": "1b19f3b4-7591-444a-9450-ca7561bca532"
      },
      "outputs": [
        {
          "output_type": "stream",
          "name": "stdout",
          "text": [
            "[10, 2, 1, 4, 16]\n",
            "[100, 4, 1, 16, 256]\n"
          ]
        }
      ],
      "source": [
        "# map, filter and reduce\n",
        "\n",
        "# map --> maps the elements in iterable according to the input function,\n",
        "# gives map object as output, convert that to iterable again\n",
        "\n",
        "input_list = [10,2,1,4,16]\n",
        "sqr = list(map(lambda x: x**2, input_list))\n",
        "\n",
        "print(input_list)\n",
        "print(sqr)"
      ]
    },
    {
      "cell_type": "code",
      "execution_count": 6,
      "id": "aa9d02da",
      "metadata": {
        "colab": {
          "base_uri": "https://localhost:8080/"
        },
        "id": "aa9d02da",
        "outputId": "65f1e98a-7d43-4224-8814-d4fdf51cdeda"
      },
      "outputs": [
        {
          "output_type": "stream",
          "name": "stdout",
          "text": [
            "[10, 2, 1, 4, 16]\n",
            "[10, 16]\n"
          ]
        }
      ],
      "source": [
        "# filter --> evaluates conditional expression for all elements in input iteratable\n",
        "# gives filter iterator\n",
        "\n",
        "greaterthan5 = list(filter(lambda x: x>5, input_list))\n",
        "\n",
        "print(input_list)\n",
        "print(greaterthan5)"
      ]
    },
    {
      "cell_type": "code",
      "execution_count": 7,
      "id": "08d50163",
      "metadata": {
        "colab": {
          "base_uri": "https://localhost:8080/"
        },
        "id": "08d50163",
        "outputId": "54052c4e-a477-4741-e82d-42e3cd8fd30f"
      },
      "outputs": [
        {
          "output_type": "stream",
          "name": "stdout",
          "text": [
            "[10, 2, 1, 4, 16]\n",
            "33\n"
          ]
        }
      ],
      "source": [
        "# reduce --> reduces the iterable to a single value, according to input function\n",
        "\n",
        "from functools import reduce\n",
        "\n",
        "red = reduce(lambda x,y : x+y, input_list)\n",
        "\n",
        "print(input_list)\n",
        "print(red)"
      ]
    },
    {
      "cell_type": "code",
      "execution_count": 8,
      "id": "b96c32bc",
      "metadata": {
        "colab": {
          "base_uri": "https://localhost:8080/"
        },
        "id": "b96c32bc",
        "outputId": "6739d2b6-4fe2-45d1-907d-1294c16636a7"
      },
      "outputs": [
        {
          "output_type": "stream",
          "name": "stdout",
          "text": [
            "original: [(2, 3), (-1, 5), (7, 1), (8, 2), (3, 0)]\n",
            "sorted by first: [(-1, 5), (2, 3), (3, 0), (7, 1), (8, 2)]\n",
            "sorted by second: [(3, 0), (7, 1), (8, 2), (2, 3), (-1, 5)]\n",
            "sorted by second: [(3, 0), (7, 1), (8, 2), (2, 3), (-1, 5)]\n"
          ]
        }
      ],
      "source": [
        "# using lambda function for sorting nested lists\n",
        "\n",
        "list1 = [(2,3),(-1,5),(7,1),(8,2),(3,0)]\n",
        "\n",
        "print('original:', list1)\n",
        "print('sorted by first:',sorted(list1) )                      # sorted according to first element in tuple\n",
        "\n",
        "# if we want to sort by second element, we use argument named 'key' in sorted function\n",
        "print('sorted by second:',sorted(list1, key = lambda x:x[1] ))\n",
        "\n",
        "# we basically give a function as input to function parameter named key\n",
        "# also could be accomplished by\n",
        "def func_key(x):\n",
        "    return x[1]\n",
        "\n",
        "print('sorted by second:',sorted(list1, key = func_key ))"
      ]
    },
    {
      "cell_type": "code",
      "execution_count": 14,
      "id": "6981b45f",
      "metadata": {
        "colab": {
          "base_uri": "https://localhost:8080/"
        },
        "id": "6981b45f",
        "outputId": "caf472a7-8af9-40d9-a525-c43ccfb30be6"
      },
      "outputs": [
        {
          "output_type": "stream",
          "name": "stdout",
          "text": [
            "[(2, 3), (-1, 5), (7, 1), (8, 2), (3, 0)]\n",
            "sorted by second: [(3, 0), (2, 3), (-1, 5), (7, 1), (8, 2)]\n",
            "[3.0, 3.61, 5.1, 7.07, 8.25]\n"
          ]
        }
      ],
      "source": [
        "# we can create custom key also, based on combination of elements in tuple\n",
        "# for example: lets sort the list by increasing euclidean distance of the point from the origin\n",
        "\n",
        "import math as m\n",
        "\n",
        "def func_key(x):\n",
        "    return x[0]**2 + x[1]**2\n",
        "\n",
        "\n",
        "print(list1)\n",
        "print('sorted by second:',sorted(list1, key = func_key ))\n",
        "print([round(m.sqrt(x**2 + y**2),2) for x, y in sorted(list1, key = func_key )])\n",
        "\n"
      ]
    },
    {
      "cell_type": "markdown",
      "source": [
        "### Error and Exception"
      ],
      "metadata": {
        "id": "rzWv0-OSuYoF"
      },
      "id": "rzWv0-OSuYoF"
    },
    {
      "cell_type": "code",
      "source": [
        "a = 5 print(a)                               # syntax error"
      ],
      "metadata": {
        "colab": {
          "base_uri": "https://localhost:8080/",
          "height": 132
        },
        "id": "SJrRjt0lvBaq",
        "outputId": "121942d3-d0af-47c3-8995-ed29c08a29db"
      },
      "id": "SJrRjt0lvBaq",
      "execution_count": 15,
      "outputs": [
        {
          "output_type": "error",
          "ename": "SyntaxError",
          "evalue": "ignored",
          "traceback": [
            "\u001b[0;36m  File \u001b[0;32m\"<ipython-input-15-fed4b61d14cd>\"\u001b[0;36m, line \u001b[0;32m1\u001b[0m\n\u001b[0;31m    a = 5 print(a)\u001b[0m\n\u001b[0m              ^\u001b[0m\n\u001b[0;31mSyntaxError\u001b[0m\u001b[0;31m:\u001b[0m invalid syntax\n"
          ]
        }
      ]
    },
    {
      "cell_type": "code",
      "source": [
        "s = 2*(2+3                                   # syntax error"
      ],
      "metadata": {
        "colab": {
          "base_uri": "https://localhost:8080/",
          "height": 132
        },
        "id": "CFEyHpbRvBHt",
        "outputId": "b5aa885d-726e-42e2-fdf6-e26f74b9704a"
      },
      "id": "CFEyHpbRvBHt",
      "execution_count": 16,
      "outputs": [
        {
          "output_type": "error",
          "ename": "SyntaxError",
          "evalue": "ignored",
          "traceback": [
            "\u001b[0;36m  File \u001b[0;32m\"<ipython-input-16-9d41ee1d19cb>\"\u001b[0;36m, line \u001b[0;32m1\u001b[0m\n\u001b[0;31m    s = 2*(2+3\u001b[0m\n\u001b[0m              ^\u001b[0m\n\u001b[0;31mSyntaxError\u001b[0m\u001b[0;31m:\u001b[0m unexpected EOF while parsing\n"
          ]
        }
      ]
    },
    {
      "cell_type": "code",
      "source": [
        "a = 5\n",
        "s = 'ten'\n",
        "\n",
        "print(a + s)                                 # type error"
      ],
      "metadata": {
        "colab": {
          "base_uri": "https://localhost:8080/",
          "height": 202
        },
        "id": "ioYZTRe7vAch",
        "outputId": "8899af72-28a8-4cbb-ed0c-86ad790bf9e6"
      },
      "id": "ioYZTRe7vAch",
      "execution_count": 17,
      "outputs": [
        {
          "output_type": "error",
          "ename": "TypeError",
          "evalue": "ignored",
          "traceback": [
            "\u001b[0;31m---------------------------------------------------------------------------\u001b[0m",
            "\u001b[0;31mTypeError\u001b[0m                                 Traceback (most recent call last)",
            "\u001b[0;32m<ipython-input-17-4ed83b9e5f47>\u001b[0m in \u001b[0;36m<module>\u001b[0;34m()\u001b[0m\n\u001b[1;32m      2\u001b[0m \u001b[0ms\u001b[0m \u001b[0;34m=\u001b[0m \u001b[0;34m'ten'\u001b[0m\u001b[0;34m\u001b[0m\u001b[0;34m\u001b[0m\u001b[0m\n\u001b[1;32m      3\u001b[0m \u001b[0;34m\u001b[0m\u001b[0m\n\u001b[0;32m----> 4\u001b[0;31m \u001b[0mprint\u001b[0m\u001b[0;34m(\u001b[0m\u001b[0ma\u001b[0m \u001b[0;34m+\u001b[0m \u001b[0ms\u001b[0m\u001b[0;34m)\u001b[0m\u001b[0;34m\u001b[0m\u001b[0;34m\u001b[0m\u001b[0m\n\u001b[0m",
            "\u001b[0;31mTypeError\u001b[0m: unsupported operand type(s) for +: 'int' and 'str'"
          ]
        }
      ]
    },
    {
      "cell_type": "code",
      "source": [
        "import somemodule                            # ModuleNotFoundError"
      ],
      "metadata": {
        "colab": {
          "base_uri": "https://localhost:8080/",
          "height": 306
        },
        "id": "YxZ0mj8evc9z",
        "outputId": "2bbcc6ca-ee1f-4749-dae6-0d12a1006776"
      },
      "id": "YxZ0mj8evc9z",
      "execution_count": 18,
      "outputs": [
        {
          "output_type": "error",
          "ename": "ModuleNotFoundError",
          "evalue": "ignored",
          "traceback": [
            "\u001b[0;31m---------------------------------------------------------------------------\u001b[0m",
            "\u001b[0;31mModuleNotFoundError\u001b[0m                       Traceback (most recent call last)",
            "\u001b[0;32m<ipython-input-18-b58142f7538b>\u001b[0m in \u001b[0;36m<module>\u001b[0;34m()\u001b[0m\n\u001b[0;32m----> 1\u001b[0;31m \u001b[0;32mimport\u001b[0m \u001b[0msomemodule\u001b[0m\u001b[0;34m\u001b[0m\u001b[0;34m\u001b[0m\u001b[0m\n\u001b[0m",
            "\u001b[0;31mModuleNotFoundError\u001b[0m: No module named 'somemodule'",
            "",
            "\u001b[0;31m---------------------------------------------------------------------------\u001b[0;32m\nNOTE: If your import is failing due to a missing package, you can\nmanually install dependencies using either !pip or !apt.\n\nTo view examples of installing some common dependencies, click the\n\"Open Examples\" button below.\n\u001b[0;31m---------------------------------------------------------------------------\u001b[0m\n"
          ],
          "errorDetails": {
            "actions": [
              {
                "action": "open_url",
                "actionText": "Open Examples",
                "url": "/notebooks/snippets/importing_libraries.ipynb"
              }
            ]
          }
        }
      ]
    },
    {
      "cell_type": "code",
      "execution_count": 19,
      "id": "8cbb7a0b",
      "metadata": {
        "colab": {
          "base_uri": "https://localhost:8080/",
          "height": 167
        },
        "id": "8cbb7a0b",
        "outputId": "f349ad21-161c-4f58-f575-1ea087d493e2"
      },
      "outputs": [
        {
          "output_type": "error",
          "ename": "ZeroDivisionError",
          "evalue": "ignored",
          "traceback": [
            "\u001b[0;31m---------------------------------------------------------------------------\u001b[0m",
            "\u001b[0;31mZeroDivisionError\u001b[0m                         Traceback (most recent call last)",
            "\u001b[0;32m<ipython-input-19-87ac9c94a8c2>\u001b[0m in \u001b[0;36m<module>\u001b[0;34m()\u001b[0m\n\u001b[0;32m----> 1\u001b[0;31m \u001b[0;36m4\u001b[0m \u001b[0;34m/\u001b[0m \u001b[0;36m0\u001b[0m\u001b[0;34m\u001b[0m\u001b[0;34m\u001b[0m\u001b[0m\n\u001b[0m",
            "\u001b[0;31mZeroDivisionError\u001b[0m: division by zero"
          ]
        }
      ],
      "source": [
        "4 / 0                               # zero division error"
      ]
    },
    {
      "cell_type": "code",
      "source": [
        "# other errors\n",
        "\n",
        "# ValueError - Value not in object\n",
        "# IndexError - List index out of range\n",
        "# KeyError - key not in dict\n",
        "\n"
      ],
      "metadata": {
        "id": "6t-XpiYhvwI2"
      },
      "id": "6t-XpiYhvwI2",
      "execution_count": null,
      "outputs": []
    },
    {
      "cell_type": "code",
      "source": [
        "# Raising exceptions by code logic example\n",
        "\n",
        "x = -10\n",
        "if x < 0:\n",
        "  raise Exception('x should be positive')"
      ],
      "metadata": {
        "colab": {
          "base_uri": "https://localhost:8080/",
          "height": 202
        },
        "id": "ujQZIxUiwhjL",
        "outputId": "e58fc078-4c3f-441a-b89d-3b5cb474da48"
      },
      "id": "ujQZIxUiwhjL",
      "execution_count": 21,
      "outputs": [
        {
          "output_type": "error",
          "ename": "Exception",
          "evalue": "ignored",
          "traceback": [
            "\u001b[0;31m---------------------------------------------------------------------------\u001b[0m",
            "\u001b[0;31mException\u001b[0m                                 Traceback (most recent call last)",
            "\u001b[0;32m<ipython-input-21-90c60f61f770>\u001b[0m in \u001b[0;36m<module>\u001b[0;34m()\u001b[0m\n\u001b[1;32m      3\u001b[0m \u001b[0mx\u001b[0m \u001b[0;34m=\u001b[0m \u001b[0;34m-\u001b[0m\u001b[0;36m10\u001b[0m\u001b[0;34m\u001b[0m\u001b[0;34m\u001b[0m\u001b[0m\n\u001b[1;32m      4\u001b[0m \u001b[0;32mif\u001b[0m \u001b[0mx\u001b[0m \u001b[0;34m<\u001b[0m \u001b[0;36m0\u001b[0m\u001b[0;34m:\u001b[0m\u001b[0;34m\u001b[0m\u001b[0;34m\u001b[0m\u001b[0m\n\u001b[0;32m----> 5\u001b[0;31m   \u001b[0;32mraise\u001b[0m \u001b[0mException\u001b[0m\u001b[0;34m(\u001b[0m\u001b[0;34m'x should be positive'\u001b[0m\u001b[0;34m)\u001b[0m\u001b[0;34m\u001b[0m\u001b[0;34m\u001b[0m\u001b[0m\n\u001b[0m",
            "\u001b[0;31mException\u001b[0m: x should be positive"
          ]
        }
      ]
    },
    {
      "cell_type": "code",
      "source": [
        "x = -5\n",
        "assert(x>0), 'x is not positive'"
      ],
      "metadata": {
        "colab": {
          "base_uri": "https://localhost:8080/",
          "height": 185
        },
        "id": "T9lESoU049JT",
        "outputId": "aaa2aa8f-1c04-4138-8b64-b2de9ec6a1fc"
      },
      "id": "T9lESoU049JT",
      "execution_count": 23,
      "outputs": [
        {
          "output_type": "error",
          "ename": "AssertionError",
          "evalue": "ignored",
          "traceback": [
            "\u001b[0;31m---------------------------------------------------------------------------\u001b[0m",
            "\u001b[0;31mAssertionError\u001b[0m                            Traceback (most recent call last)",
            "\u001b[0;32m<ipython-input-23-d106f361ace6>\u001b[0m in \u001b[0;36m<module>\u001b[0;34m()\u001b[0m\n\u001b[1;32m      1\u001b[0m \u001b[0mx\u001b[0m \u001b[0;34m=\u001b[0m \u001b[0;34m-\u001b[0m\u001b[0;36m5\u001b[0m\u001b[0;34m\u001b[0m\u001b[0;34m\u001b[0m\u001b[0m\n\u001b[0;32m----> 2\u001b[0;31m \u001b[0;32massert\u001b[0m\u001b[0;34m(\u001b[0m\u001b[0mx\u001b[0m\u001b[0;34m>\u001b[0m\u001b[0;36m0\u001b[0m\u001b[0;34m)\u001b[0m\u001b[0;34m,\u001b[0m \u001b[0;34m'x is not positive'\u001b[0m\u001b[0;34m\u001b[0m\u001b[0;34m\u001b[0m\u001b[0m\n\u001b[0m",
            "\u001b[0;31mAssertionError\u001b[0m: x is not positive"
          ]
        }
      ]
    },
    {
      "cell_type": "code",
      "source": [
        "# try, except and finally\n",
        "import random\n",
        "\n",
        "try:\n",
        "  x = 4 / 1\n",
        "  y = 4 + 'string'\n",
        "except ZeroDivisionError as e:\n",
        "  print(e)\n",
        "except Exception as e:\n",
        "  print(e)\n",
        "else:\n",
        "  print('Everything is fine')                   # else block executes if no exception in try block\n",
        "finally:\n",
        "  print('Done')                                 # finally always runs"
      ],
      "metadata": {
        "colab": {
          "base_uri": "https://localhost:8080/"
        },
        "id": "-oGl38uQ5IgB",
        "outputId": "e5c6665b-5b41-400e-d89c-a11368e7f148"
      },
      "id": "-oGl38uQ5IgB",
      "execution_count": 29,
      "outputs": [
        {
          "output_type": "stream",
          "name": "stdout",
          "text": [
            "unsupported operand type(s) for +: 'int' and 'str'\n",
            "Done\n"
          ]
        }
      ]
    },
    {
      "cell_type": "code",
      "source": [
        "# writing custom exception classes\n",
        "\n",
        "class ValueTooHigh(Exception):\n",
        "  pass\n",
        "\n",
        "def test_value(x):\n",
        "  if x >100:\n",
        "    raise ValueTooHigh('Value is too high')\n",
        "  \n",
        "try:\n",
        "  test_value(200)\n",
        "except ValueTooHigh as e:\n",
        "  print(e)"
      ],
      "metadata": {
        "colab": {
          "base_uri": "https://localhost:8080/"
        },
        "id": "ZOUmBT3j7cRX",
        "outputId": "3697d1f3-e397-4104-852a-1bf0ce241ed5"
      },
      "id": "ZOUmBT3j7cRX",
      "execution_count": 30,
      "outputs": [
        {
          "output_type": "stream",
          "name": "stdout",
          "text": [
            "value is too high\n"
          ]
        }
      ]
    },
    {
      "cell_type": "code",
      "source": [
        "class ValueTooLow(Exception):\n",
        "  def __init__(self, message, value):                 # defining constructor method for exception class\n",
        "    self.message = message\n",
        "    self.value = value\n",
        "\n",
        "def test_value(x):\n",
        "  if x<5:\n",
        "    raise ValueTooLow('Value is low', x)\n",
        "  if x>100:\n",
        "    raise ValueTooHigh('Value is High')\n",
        "\n",
        "try:\n",
        "  test_value(1000)\n",
        "except ValueTooHigh as e:\n",
        "  print(e)\n",
        "except ValueTooLow as e:\n",
        "  print(e.message, e.value)\n"
      ],
      "metadata": {
        "colab": {
          "base_uri": "https://localhost:8080/"
        },
        "id": "gKmRdGbf8Yk_",
        "outputId": "0e51661f-cb0d-41a9-b62a-1920397ba98c"
      },
      "id": "gKmRdGbf8Yk_",
      "execution_count": 33,
      "outputs": [
        {
          "output_type": "stream",
          "name": "stdout",
          "text": [
            "Value is High\n"
          ]
        }
      ]
    },
    {
      "cell_type": "markdown",
      "source": [
        "### Logging (Incomplete)"
      ],
      "metadata": {
        "id": "FIkEJQli_QOg"
      },
      "id": "FIkEJQli_QOg"
    },
    {
      "cell_type": "markdown",
      "source": [
        "* Python has a built in log module\n",
        "* Logging is possible to 5 differenet log levels - debug, info, warning, error, critical\n",
        "* Reference Doc -\n",
        "  1. [Logging HOWTO](https://docs.python.org/3/howto/logging.html)\n",
        "  2. [Logging Cookbook](https://docs.python.org/3/howto/logging-cookbook.html)\n",
        "\n",
        "* Logging to generate logs. To understand if code is working as is supposed to work. To understand the execution and limitation of code."
      ],
      "metadata": {
        "id": "EoyO2xmo_avj"
      },
      "id": "EoyO2xmo_avj"
    },
    {
      "cell_type": "code",
      "source": [
        "import logging"
      ],
      "metadata": {
        "id": "6FF1bFQ__T6T"
      },
      "id": "6FF1bFQ__T6T",
      "execution_count": null,
      "outputs": []
    },
    {
      "cell_type": "code",
      "source": [
        ""
      ],
      "metadata": {
        "id": "maGB2Erz_Tj6"
      },
      "id": "maGB2Erz_Tj6",
      "execution_count": null,
      "outputs": []
    },
    {
      "cell_type": "code",
      "source": [
        ""
      ],
      "metadata": {
        "id": "80zl5iX4_S-H"
      },
      "id": "80zl5iX4_S-H",
      "execution_count": null,
      "outputs": []
    },
    {
      "cell_type": "markdown",
      "id": "44b9204c",
      "metadata": {
        "id": "44b9204c"
      },
      "source": [
        "### Multithreading"
      ]
    },
    {
      "cell_type": "code",
      "execution_count": null,
      "id": "2515105f",
      "metadata": {
        "id": "2515105f"
      },
      "outputs": [],
      "source": [
        ""
      ]
    },
    {
      "cell_type": "code",
      "execution_count": null,
      "id": "c4ffe940",
      "metadata": {
        "id": "c4ffe940"
      },
      "outputs": [],
      "source": [
        ""
      ]
    },
    {
      "cell_type": "markdown",
      "id": "0c45eef1",
      "metadata": {
        "id": "0c45eef1"
      },
      "source": [
        "### Context Managers"
      ]
    },
    {
      "cell_type": "code",
      "execution_count": 37,
      "id": "68cd5f29",
      "metadata": {
        "colab": {
          "base_uri": "https://localhost:8080/"
        },
        "id": "68cd5f29",
        "outputId": "2a390313-eb22-44ac-d29d-1da641eea96d"
      },
      "outputs": [
        {
          "output_type": "stream",
          "name": "stdout",
          "text": [
            "True\n"
          ]
        }
      ],
      "source": [
        "with open('testfile.txt','w') as f:\n",
        "  f.write('This is first line')\n",
        "  f.write('This is second line')\n",
        "\n",
        "print(f.closed)\n",
        "\n",
        "# with context manager we don't need to close file explicitly incase an exception occurs. \n",
        "# it is equivalent to writing a try-except-finally block of code"
      ]
    },
    {
      "cell_type": "code",
      "source": [
        "try:\n",
        "  f = open('testfile1.txt','w')\n",
        "  f.write('Something')\n",
        "finally:\n",
        "  f.close()                          # in case of context manager, we don't have to write f.close()\n",
        "\n",
        "f.closed\n"
      ],
      "metadata": {
        "colab": {
          "base_uri": "https://localhost:8080/"
        },
        "id": "eC4aOP30syKo",
        "outputId": "9793ac87-39c7-4bb6-a73a-ed2939f12a00"
      },
      "id": "eC4aOP30syKo",
      "execution_count": 38,
      "outputs": [
        {
          "output_type": "execute_result",
          "data": {
            "text/plain": [
              "True"
            ]
          },
          "metadata": {},
          "execution_count": 38
        }
      ]
    },
    {
      "cell_type": "code",
      "source": [
        "try:\n",
        "  f = open('testfile1.txt','w')\n",
        "  f.write('Something')\n",
        "  x = 4 / 0\n",
        "  f.write(x)\n",
        "except Exception as e:\n",
        "  print(e)\n",
        "finally:\n",
        "  f.close()                # in case of context manager, we don't have to write f.close()\n",
        "\n",
        "f.closed"
      ],
      "metadata": {
        "colab": {
          "base_uri": "https://localhost:8080/"
        },
        "id": "vnAC_pocxR68",
        "outputId": "889430ea-26fd-43dc-86dd-e889879a6f79"
      },
      "id": "vnAC_pocxR68",
      "execution_count": 40,
      "outputs": [
        {
          "output_type": "stream",
          "name": "stdout",
          "text": [
            "division by zero\n"
          ]
        },
        {
          "output_type": "execute_result",
          "data": {
            "text/plain": [
              "True"
            ]
          },
          "metadata": {},
          "execution_count": 40
        }
      ]
    },
    {
      "cell_type": "code",
      "source": [
        "try:\n",
        "  f = open('testfile1.txt','w')\n",
        "  f.write('Something')\n",
        "  x = 4 / 0\n",
        "  f.write(x)\n",
        "except Exception as e:\n",
        "  print(e)                # in case of context manager, we don't have to write f.close()\n",
        "\n",
        "f.closed                  # here file not closed because of exception"
      ],
      "metadata": {
        "colab": {
          "base_uri": "https://localhost:8080/"
        },
        "id": "nt2bG_V7xvgW",
        "outputId": "2f74e983-6ad4-474e-95b1-0191b88ee92c"
      },
      "id": "nt2bG_V7xvgW",
      "execution_count": 41,
      "outputs": [
        {
          "output_type": "stream",
          "name": "stdout",
          "text": [
            "division by zero\n"
          ]
        },
        {
          "output_type": "execute_result",
          "data": {
            "text/plain": [
              "False"
            ]
          },
          "metadata": {},
          "execution_count": 41
        }
      ]
    },
    {
      "cell_type": "code",
      "source": [
        "# revisit context manager for example of multi-threading"
      ],
      "metadata": {
        "id": "V6EPGbepyAAE"
      },
      "id": "V6EPGbepyAAE",
      "execution_count": 42,
      "outputs": []
    },
    {
      "cell_type": "code",
      "source": [
        ""
      ],
      "metadata": {
        "id": "hz-fSQFFyXIe"
      },
      "id": "hz-fSQFFyXIe",
      "execution_count": null,
      "outputs": []
    }
  ],
  "metadata": {
    "kernelspec": {
      "display_name": "Python 3 (ipykernel)",
      "language": "python",
      "name": "python3"
    },
    "language_info": {
      "codemirror_mode": {
        "name": "ipython",
        "version": 3
      },
      "file_extension": ".py",
      "mimetype": "text/x-python",
      "name": "python",
      "nbconvert_exporter": "python",
      "pygments_lexer": "ipython3",
      "version": "3.7.11"
    },
    "colab": {
      "name": "Advanced Python Programming - CLP.ipynb",
      "provenance": [],
      "toc_visible": true,
      "include_colab_link": true
    }
  },
  "nbformat": 4,
  "nbformat_minor": 5
}