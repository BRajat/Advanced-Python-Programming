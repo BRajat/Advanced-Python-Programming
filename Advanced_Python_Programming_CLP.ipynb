{
  "cells": [
    {
      "cell_type": "markdown",
      "metadata": {
        "id": "view-in-github",
        "colab_type": "text"
      },
      "source": [
        "<a href=\"https://colab.research.google.com/github/BRajat/advance-python/blob/main/Advanced_Python_Programming_CLP.ipynb\" target=\"_parent\"><img src=\"https://colab.research.google.com/assets/colab-badge.svg\" alt=\"Open In Colab\"/></a>"
      ]
    },
    {
      "cell_type": "markdown",
      "id": "c93f6caf",
      "metadata": {
        "id": "c93f6caf"
      },
      "source": [
        "### [Advanced Python Programming](https://www.youtube.com/watch?v=HGOBQPFzWKo&list=PLWKjhJtqVAbnqBxcdjVGgT3uVR10bzTEB&index=27)\n",
        "\n"
      ]
    },
    {
      "cell_type": "markdown",
      "id": "e8ab109c",
      "metadata": {
        "id": "e8ab109c"
      },
      "source": [
        "⭐️ Course Contents ⭐️ <br>\n",
        "⌨️ (0:00:00) Intro <br>\n",
        "⌨️ (0:00:56) Lists <br>\n",
        "⌨️ (0:16:30) Tuples <br>\n",
        "⌨️ (0:29:49) Dictionaries <br>\n",
        "⌨️ (0:42:40) Sets <br>\n",
        "⌨️ (0:58:44) Strings <br>\n",
        "⌨️ (1:22:50) Collections <br>\n",
        "⌨️ (1:36:43) Itertools <br>\n",
        "⌨️ (1:51:50) Lambda Functions <br>\n",
        "⌨️ (2:04:03) Exceptions and Errors <br>\n",
        "⌨️ (2:20:10) Logging <br>\n",
        "⌨️ (2:42:20) JSON <br>\n",
        "⌨️ (2:59:42) Random Numbers <br>\n",
        "⌨️ (3:14:23) Decorators <br>\n",
        "⌨️ (3:35:32) Generators <br>\n",
        "⌨️ (3:53:29) Threading vs Multiprocessing <br>\n",
        "⌨️ (4:07:59) Multithreading <br>\n",
        "⌨️ (4:31:05) Multiprocessing <br>\n",
        "⌨️ (4:53:26) Function Arguments <br>\n",
        "⌨️ (5:17:28) The Asterisk (*) Operator <br>\n",
        "⌨️ (5:30:19) Shallow vs Deep Copying  <br>\n",
        "⌨️ (5:40:07) Context Managers"
      ]
    },
    {
      "cell_type": "code",
      "execution_count": null,
      "id": "9903e8bd",
      "metadata": {
        "id": "9903e8bd",
        "outputId": "0e24d56d-ef21-40ec-8135-4422f0ab5a8b"
      },
      "outputs": [
        {
          "data": {
            "text/plain": [
              "Counter({'cat': 3, 'dog': 2, 'fish': 1})"
            ]
          },
          "execution_count": 19,
          "metadata": {},
          "output_type": "execute_result"
        }
      ],
      "source": [
        "# Collections - Counter, namedtuple, OrderedDict, defaultdict, deque\n",
        "\n",
        "from collections import *\n",
        "\n",
        "list1 = [ 'cat', 'dog', 'dog','cat','cat','fish']\n",
        "Counter(list1)"
      ]
    },
    {
      "cell_type": "code",
      "execution_count": null,
      "id": "2bc975aa",
      "metadata": {
        "id": "2bc975aa",
        "outputId": "45cbe79e-16b7-412e-d73a-b56226861b77"
      },
      "outputs": [
        {
          "name": "stdout",
          "output_type": "stream",
          "text": [
            "Counter({' ': 8, 'o': 4, 'e': 3, 'h': 2, 'u': 2, 'r': 2, 'T': 1, 'q': 1, 'i': 1, 'c': 1, 'k': 1, 'b': 1, 'w': 1, 'n': 1, 'f': 1, 'x': 1, 'j': 1, 'm': 1, 'p': 1, 's': 1, 'v': 1, 't': 1, 'l': 1, 'a': 1, 'z': 1, 'y': 1, 'd': 1, 'g': 1})\n"
          ]
        }
      ],
      "source": [
        "string1 = 'The quick brown fox jumps over the lazy dog'\n",
        "print(Counter(string1))"
      ]
    },
    {
      "cell_type": "code",
      "execution_count": null,
      "id": "38f00b5c",
      "metadata": {
        "id": "38f00b5c",
        "outputId": "ade4e49b-9790-4bb6-a1cb-3790ba92e792"
      },
      "outputs": [
        {
          "name": "stdout",
          "output_type": "stream",
          "text": [
            "dict_keys(['cat', 'dog', 'fish'])\n"
          ]
        }
      ],
      "source": [
        "tmp = Counter(list1)\n",
        "\n",
        "print(tmp.keys())"
      ]
    },
    {
      "cell_type": "code",
      "execution_count": null,
      "id": "426b009f",
      "metadata": {
        "id": "426b009f",
        "outputId": "d8c1f584-0fc7-43a1-f418-5a99cf158665"
      },
      "outputs": [
        {
          "name": "stdout",
          "output_type": "stream",
          "text": [
            "Counter({'fish': 1, 'dog': 1, 'cat': 1})\n"
          ]
        }
      ],
      "source": [
        "set1 = set(list1)\n",
        "tmp = Counter(set1)\n",
        "print(tmp)"
      ]
    },
    {
      "cell_type": "code",
      "execution_count": null,
      "id": "6341f052",
      "metadata": {
        "id": "6341f052",
        "outputId": "10737228-2783-40b6-fe85-f792e00c2922"
      },
      "outputs": [
        {
          "data": {
            "text/plain": [
              "0"
            ]
          },
          "execution_count": 6,
          "metadata": {},
          "output_type": "execute_result"
        }
      ],
      "source": [
        "tmp['fox']"
      ]
    },
    {
      "cell_type": "code",
      "execution_count": null,
      "id": "ae2c16ad",
      "metadata": {
        "id": "ae2c16ad",
        "outputId": "2e1c7e49-9984-4a03-c75c-80c633f91128"
      },
      "outputs": [
        {
          "data": {
            "text/plain": [
              "collections.Counter"
            ]
          },
          "execution_count": 7,
          "metadata": {},
          "output_type": "execute_result"
        }
      ],
      "source": [
        "type(tmp)"
      ]
    },
    {
      "cell_type": "code",
      "execution_count": null,
      "id": "d37ec24e",
      "metadata": {
        "id": "d37ec24e",
        "outputId": "8d63e44c-7665-4b8b-e662-73ee3acc97c6"
      },
      "outputs": [
        {
          "data": {
            "text/plain": [
              "True"
            ]
          },
          "execution_count": 14,
          "metadata": {},
          "output_type": "execute_result"
        }
      ],
      "source": [
        "isinstance(tmp, Counter)"
      ]
    },
    {
      "cell_type": "code",
      "execution_count": null,
      "id": "0696aec0",
      "metadata": {
        "id": "0696aec0",
        "outputId": "81145a2f-bcd5-4212-a05a-d32c544f3efc"
      },
      "outputs": [
        {
          "data": {
            "text/plain": [
              "True"
            ]
          },
          "execution_count": 21,
          "metadata": {},
          "output_type": "execute_result"
        }
      ],
      "source": [
        "isinstance(Counter(), Counter)"
      ]
    },
    {
      "cell_type": "code",
      "execution_count": null,
      "id": "9ab1ef60",
      "metadata": {
        "id": "9ab1ef60",
        "outputId": "aaaabc1b-82eb-4ec6-8ead-b60444da2b23"
      },
      "outputs": [
        {
          "name": "stdout",
          "output_type": "stream",
          "text": [
            "3 1 2\n"
          ]
        }
      ],
      "source": [
        "# collections - namedtuple\n",
        "\n",
        "Point = namedtuple('Point',['wins','losses','draws'])\n",
        "pt = Point(3,1,2)\n",
        "print(pt.wins, pt.losses, pt.draws)"
      ]
    },
    {
      "cell_type": "code",
      "execution_count": null,
      "id": "60879630",
      "metadata": {
        "id": "60879630",
        "outputId": "efc41806-8bc3-4bac-f7e6-5d71e6c7d6b3"
      },
      "outputs": [
        {
          "name": "stdout",
          "output_type": "stream",
          "text": [
            "Point(wins=3, losses=1, draws=2)\n"
          ]
        }
      ],
      "source": [
        "print(pt)"
      ]
    },
    {
      "cell_type": "code",
      "execution_count": null,
      "id": "36a257ca",
      "metadata": {
        "id": "36a257ca",
        "outputId": "ddcedc49-0c31-464e-ae4b-082f4f69ac1c"
      },
      "outputs": [
        {
          "data": {
            "text/plain": [
              "__main__.Point"
            ]
          },
          "execution_count": 26,
          "metadata": {},
          "output_type": "execute_result"
        }
      ],
      "source": [
        "type(pt)"
      ]
    },
    {
      "cell_type": "code",
      "execution_count": null,
      "id": "84428e34",
      "metadata": {
        "id": "84428e34",
        "outputId": "e3a51ec5-42ac-4a03-fb0e-bdd18859f53a"
      },
      "outputs": [
        {
          "name": "stdout",
          "output_type": "stream",
          "text": [
            "{'cat': None, 'dog': None, 'fish': None}\n"
          ]
        }
      ],
      "source": [
        "d = dict.fromkeys(list1)\n",
        "print(d)"
      ]
    },
    {
      "cell_type": "code",
      "execution_count": null,
      "id": "8f4c4d05",
      "metadata": {
        "id": "8f4c4d05"
      },
      "outputs": [],
      "source": [
        "for i in range()"
      ]
    },
    {
      "cell_type": "markdown",
      "id": "6b187afb",
      "metadata": {
        "id": "6b187afb"
      },
      "source": [
        "## Shallow and deep copying"
      ]
    },
    {
      "cell_type": "code",
      "execution_count": null,
      "id": "a53af388",
      "metadata": {
        "id": "a53af388"
      },
      "outputs": [],
      "source": [
        "## shallow and deep copy\n",
        "\n",
        "# copy.copy() --> creates shallow copy of depth_1 only\n",
        "# copy.deepcopy() --> create copy at all levels of the underlying object"
      ]
    },
    {
      "cell_type": "code",
      "execution_count": null,
      "id": "bcd6db8b",
      "metadata": {
        "id": "bcd6db8b"
      },
      "outputs": [],
      "source": [
        "# copy of object of basic python datatype\n",
        "\n",
        "obj = 6\n",
        "cpy = obj\n",
        "\n",
        "cpy = 5\n",
        "print(cpy)\n",
        "print(obj)"
      ]
    },
    {
      "cell_type": "markdown",
      "id": "fb3684d1",
      "metadata": {
        "id": "fb3684d1"
      },
      "source": [
        "* Shallow copy of depth 1 works in above example because the data type is of less dimension."
      ]
    },
    {
      "cell_type": "code",
      "execution_count": null,
      "id": "c47592ea",
      "metadata": {
        "id": "c47592ea",
        "outputId": "9c9f4cb1-1203-4dd7-f7a0-b4e7ce43c123"
      },
      "outputs": [
        {
          "name": "stdout",
          "output_type": "stream",
          "text": [
            "[-100, 2, 3, 4, 5]\n",
            "[-100, 2, 3, 4, 5]\n"
          ]
        }
      ],
      "source": [
        "# shallow copy of list\n",
        "\n",
        "l1 = [1,2,3,4,5]\n",
        "l2 = l1\n",
        "\n",
        "l2[0] = -100\n",
        "\n",
        "print(l2)\n",
        "print(l1)"
      ]
    },
    {
      "cell_type": "markdown",
      "id": "660951e0",
      "metadata": {
        "id": "660951e0"
      },
      "source": [
        "* In this example of shallow copy what happened is the list object got copied at high level (depth =1) but at deep level the individual elements in list are still getting referenced to same memory location and therefore when then element is updated at the ref pointer it is changed in original list as well."
      ]
    },
    {
      "cell_type": "markdown",
      "id": "a05355e8",
      "metadata": {
        "id": "a05355e8"
      },
      "source": [
        "* We can overcome this by doing cpy = copy.deepcopy(org)"
      ]
    },
    {
      "cell_type": "code",
      "execution_count": null,
      "id": "9f87621b",
      "metadata": {
        "id": "9f87621b",
        "outputId": "874608de-ca19-4945-c45c-a4cca151b76b"
      },
      "outputs": [
        {
          "name": "stdout",
          "output_type": "stream",
          "text": [
            "[1, 2, 3, 4, 5]\n",
            "[-100, 2, 3, 4, 5]\n"
          ]
        }
      ],
      "source": [
        "import copy\n",
        "\n",
        "l1 = [1,2,3,4,5]\n",
        "l2 = copy.copy(l2)\n",
        "\n",
        "l2[0] = -100\n",
        "\n",
        "print(l1)\n",
        "print(l2)"
      ]
    },
    {
      "cell_type": "markdown",
      "id": "418ffe08",
      "metadata": {
        "id": "418ffe08"
      },
      "source": [
        "* Here also, shallow copy worked for depth + 1 level but it won't for a nested list"
      ]
    },
    {
      "cell_type": "code",
      "execution_count": null,
      "id": "9925a8ad",
      "metadata": {
        "id": "9925a8ad",
        "outputId": "e0c9b220-4ed8-47a2-c943-033aa388a554"
      },
      "outputs": [
        {
          "name": "stdout",
          "output_type": "stream",
          "text": [
            "[[-100, 2, 3, 4, 5], [5, 3, 4, 2, 1]]\n",
            "[[-100, 2, 3, 4, 5], [5, 3, 4, 2, 1]]\n"
          ]
        }
      ],
      "source": [
        "l1 = [[1,2,3,4,5],[5,3,4,2,1]]\n",
        "l2 = copy.copy(l1)\n",
        "\n",
        "l2[0][0] = -100\n",
        "\n",
        "print(l1)\n",
        "print(l2)"
      ]
    },
    {
      "cell_type": "markdown",
      "id": "8a20616e",
      "metadata": {
        "id": "8a20616e"
      },
      "source": [
        "* In this case, shallow copy failed at depth 2 (Always remember - shallow copy works till depth 1 only and so for nested elements its is better to safely copy by using copy.deepcopy()"
      ]
    },
    {
      "cell_type": "code",
      "execution_count": null,
      "id": "d5dccb9c",
      "metadata": {
        "id": "d5dccb9c",
        "outputId": "a0dc8227-3b03-4270-f2f4-aea1d1014038"
      },
      "outputs": [
        {
          "name": "stdout",
          "output_type": "stream",
          "text": [
            "[[1, 2, 3, 4, 5], [5, 3, 4, 2, 1]]\n",
            "[[-100, 2, 3, 4, 5], [5, 3, 4, 2, 1]]\n"
          ]
        }
      ],
      "source": [
        "l1 = [[1,2,3,4,5],[5,3,4,2,1]]\n",
        "l2 = copy.deepcopy(l1)\n",
        "\n",
        "l2[0][0] = -100\n",
        "\n",
        "print(l1)\n",
        "print(l2)"
      ]
    },
    {
      "cell_type": "markdown",
      "id": "a4ada171",
      "metadata": {
        "id": "a4ada171"
      },
      "source": [
        "* Above code snippet worked correctly as we would have wanted."
      ]
    },
    {
      "cell_type": "code",
      "execution_count": null,
      "id": "60800822",
      "metadata": {
        "id": "60800822",
        "outputId": "88ddca57-7956-4b4f-edf1-807437bd0c16"
      },
      "outputs": [
        {
          "name": "stdout",
          "output_type": "stream",
          "text": [
            "39 39\n"
          ]
        }
      ],
      "source": [
        "# shallow and deep copying example with objects.\n",
        "\n",
        "class person:\n",
        "    def __init__(self, name, age):\n",
        "        self.name = name\n",
        "        self.age = age\n",
        "        \n",
        "        \n",
        "p1 = person('Ronaldo', 40)\n",
        "p2 = p1\n",
        "\n",
        "p2.age = 39\n",
        "print(p1.age, p2.age)"
      ]
    },
    {
      "cell_type": "markdown",
      "id": "1dd9cdc8",
      "metadata": {
        "id": "1dd9cdc8"
      },
      "source": [
        "* Here, the instance of object is at depth 1 and the age(instance variable) is at depth 2. So, shallow copying worked at depth 1 only"
      ]
    },
    {
      "cell_type": "code",
      "execution_count": null,
      "id": "6a20a686",
      "metadata": {
        "id": "6a20a686",
        "outputId": "530245b6-4d4c-4ec2-c8fa-485a3f4c9bad"
      },
      "outputs": [
        {
          "name": "stdout",
          "output_type": "stream",
          "text": [
            "40 39\n"
          ]
        }
      ],
      "source": [
        "p1 = person('Ronaldo', 40)\n",
        "p2 = copy.copy(p1)\n",
        "\n",
        "p2.age = 39\n",
        "print(p1.age, p2.age)"
      ]
    },
    {
      "cell_type": "markdown",
      "id": "e2b488c7",
      "metadata": {
        "id": "e2b488c7"
      },
      "source": [
        "* Here the shallow copy worked with an extra depth since we used the copy.copy() method"
      ]
    },
    {
      "cell_type": "code",
      "execution_count": null,
      "id": "ad15fb8c",
      "metadata": {
        "id": "ad15fb8c",
        "outputId": "3a10efb7-24f8-4579-b07a-920234470236"
      },
      "outputs": [
        {
          "name": "stdout",
          "output_type": "stream",
          "text": [
            "51\n",
            "51\n"
          ]
        }
      ],
      "source": [
        "class company:\n",
        "    def __init__(self, boss, employee):\n",
        "        self.boss = boss\n",
        "        self.employee = employee\n",
        "        \n",
        "p1 = person('Rohit', 35)\n",
        "p2 = person('Dravid', 50)\n",
        "c1 = company(p1, p2)             # p1 boss and p2 employee\n",
        "\n",
        "c2 = copy.copy(c1)\n",
        "c2.boss.age = 51\n",
        "\n",
        "print(c1.boss.age)\n",
        "print(c2.boss.age)"
      ]
    },
    {
      "cell_type": "markdown",
      "id": "9c65e4ce",
      "metadata": {
        "id": "9c65e4ce"
      },
      "source": [
        "* Here the shallow copy didn't work since the depth at which we are copying is 1 level less than the total depth of the instance variable. "
      ]
    },
    {
      "cell_type": "markdown",
      "id": "28c44bb5",
      "metadata": {
        "id": "28c44bb5"
      },
      "source": [
        "### Lambda function"
      ]
    },
    {
      "cell_type": "code",
      "execution_count": null,
      "id": "8a7dcb3e",
      "metadata": {
        "id": "8a7dcb3e",
        "outputId": "69aef189-666c-4f8c-9b97-c00f51f2516a"
      },
      "outputs": [
        {
          "name": "stdout",
          "output_type": "stream",
          "text": [
            "81\n"
          ]
        }
      ],
      "source": [
        "sqr = lambda x: x**2               # function with single argument\n",
        "\n",
        "print(sqr(9))"
      ]
    },
    {
      "cell_type": "code",
      "execution_count": null,
      "id": "896b4d1d",
      "metadata": {
        "id": "896b4d1d",
        "outputId": "322ae1ae-4130-4f98-eb8e-b9fc6b578508"
      },
      "outputs": [
        {
          "name": "stdout",
          "output_type": "stream",
          "text": [
            "35\n"
          ]
        }
      ],
      "source": [
        "mult = lambda x,y: x*y             # function with 2 arguments\n",
        "\n",
        "a = 5\n",
        "b = 7\n",
        "print(mult(a,b))"
      ]
    },
    {
      "cell_type": "code",
      "execution_count": null,
      "id": "4713a3f2",
      "metadata": {
        "id": "4713a3f2",
        "outputId": "936947bc-77ed-4b06-e9ef-ebda481dcc25"
      },
      "outputs": [
        {
          "name": "stdout",
          "output_type": "stream",
          "text": [
            "9801\n",
            "35\n"
          ]
        }
      ],
      "source": [
        "# also can be written as normal function\n",
        "def sqr_func(a):\n",
        "    return a**2\n",
        "\n",
        "def mult_func(x,y):\n",
        "    return x*y\n",
        "\n",
        "print(sqr_func(99))\n",
        "\n",
        "print(mult_func(5,7))"
      ]
    },
    {
      "cell_type": "code",
      "execution_count": null,
      "id": "4be57cd1",
      "metadata": {
        "id": "4be57cd1",
        "outputId": "a01216ad-6871-4ff0-f34a-94e2d01d3855"
      },
      "outputs": [
        {
          "name": "stdout",
          "output_type": "stream",
          "text": [
            "[10, 2, 1, 4, 16]\n",
            "[100, 4, 1, 16, 256]\n"
          ]
        }
      ],
      "source": [
        "# map, filter and reduce\n",
        "\n",
        "# map --> maps the elements in iterable according to the input function,\n",
        "# gives map object as output, convert that to iterable again\n",
        "\n",
        "input_list = [10,2,1,4,16]\n",
        "sqr = list(map(lambda x: x**2, input_list))\n",
        "\n",
        "print(input_list)\n",
        "print(sqr)"
      ]
    },
    {
      "cell_type": "code",
      "execution_count": null,
      "id": "aa9d02da",
      "metadata": {
        "id": "aa9d02da",
        "outputId": "4c2e17e6-c444-4eaf-d631-cc778a4a08ca"
      },
      "outputs": [
        {
          "name": "stdout",
          "output_type": "stream",
          "text": [
            "[10, 2, 1, 4, 16]\n",
            "[10, 16]\n"
          ]
        }
      ],
      "source": [
        "# filter --> evaluates conditional expression for all elements in input iteratable\n",
        "# gives filter iterator\n",
        "\n",
        "greaterthan5 = list(filter(lambda x: x>5, input_list))\n",
        "\n",
        "print(input_list)\n",
        "print(greaterthan5)"
      ]
    },
    {
      "cell_type": "code",
      "execution_count": null,
      "id": "08d50163",
      "metadata": {
        "id": "08d50163",
        "outputId": "9f3192e9-e8f2-4f78-9bf3-01a605c3a94d"
      },
      "outputs": [
        {
          "name": "stdout",
          "output_type": "stream",
          "text": [
            "[10, 2, 1, 4, 16]\n",
            "33\n"
          ]
        }
      ],
      "source": [
        "# reduce --> reduces the iterable to a single value, according to input function\n",
        "\n",
        "from functools import reduce\n",
        "\n",
        "red = reduce(lambda x,y : x+y, input_list)\n",
        "\n",
        "print(input_list)\n",
        "print(red)"
      ]
    },
    {
      "cell_type": "code",
      "execution_count": null,
      "id": "b96c32bc",
      "metadata": {
        "id": "b96c32bc",
        "outputId": "eeaf310a-232b-4f13-b726-957938cdf42d"
      },
      "outputs": [
        {
          "name": "stdout",
          "output_type": "stream",
          "text": [
            "original: [(2, 3), (-1, 5), (7, 1), (8, 2), (3, 0)]\n",
            "sorted by first: [(-1, 5), (2, 3), (3, 0), (7, 1), (8, 2)]\n",
            "sorted by second: [(3, 0), (7, 1), (8, 2), (2, 3), (-1, 5)]\n",
            "sorted by second: [(3, 0), (7, 1), (8, 2), (2, 3), (-1, 5)]\n"
          ]
        }
      ],
      "source": [
        "# using lambda function for sorting nested lists\n",
        "\n",
        "list1 = [(2,3),(-1,5),(7,1),(8,2),(3,0)]\n",
        "\n",
        "print('original:', list1)\n",
        "print('sorted by first:',sorted(list1) )                      # sorted according to first element in tuple\n",
        "\n",
        "# if we want to sort by second element, we use argument named 'key' in sorted function\n",
        "print('sorted by second:',sorted(list1, key = lambda x:x[1] ))\n",
        "\n",
        "# we basically give a function as input to function parameter named key\n",
        "# also could be accomplished by\n",
        "def func_key(x):\n",
        "    return x[1]\n",
        "\n",
        "print('sorted by second:',sorted(list1, key = func_key ))"
      ]
    },
    {
      "cell_type": "code",
      "execution_count": null,
      "id": "6981b45f",
      "metadata": {
        "id": "6981b45f",
        "outputId": "695fe07f-d8f8-4ee4-ef33-f085dcf1fb37"
      },
      "outputs": [
        {
          "name": "stdout",
          "output_type": "stream",
          "text": [
            "sorted by second: [(3, 0), (2, 3), (-1, 5), (7, 1), (8, 2)]\n"
          ]
        }
      ],
      "source": [
        "# we can create custom key also, based on combination of elements in tuple\n",
        "# for example: lets sort the list by increasing euclidean distance of the point from the origin\n",
        "\n",
        "def func_key(x):\n",
        "    return x[0]**2 + x[1]**2\n",
        "\n",
        "\n",
        "print(list1)\n",
        "sorted(list1, key = func_key )\n",
        "print('sorted by second:',sorted(list1, key = func_key ))\n",
        "\n",
        "print(list(map))"
      ]
    },
    {
      "cell_type": "markdown",
      "id": "44b9204c",
      "metadata": {
        "id": "44b9204c"
      },
      "source": [
        "### Multithreading"
      ]
    },
    {
      "cell_type": "code",
      "execution_count": null,
      "id": "8cbb7a0b",
      "metadata": {
        "id": "8cbb7a0b"
      },
      "outputs": [],
      "source": [
        ""
      ]
    },
    {
      "cell_type": "code",
      "execution_count": null,
      "id": "2515105f",
      "metadata": {
        "id": "2515105f"
      },
      "outputs": [],
      "source": [
        ""
      ]
    },
    {
      "cell_type": "code",
      "execution_count": null,
      "id": "c4ffe940",
      "metadata": {
        "id": "c4ffe940"
      },
      "outputs": [],
      "source": [
        ""
      ]
    },
    {
      "cell_type": "markdown",
      "id": "0c45eef1",
      "metadata": {
        "id": "0c45eef1"
      },
      "source": [
        "### Context Managers"
      ]
    },
    {
      "cell_type": "code",
      "execution_count": null,
      "id": "68cd5f29",
      "metadata": {
        "id": "68cd5f29"
      },
      "outputs": [],
      "source": [
        "with open('testfile.txt','w')"
      ]
    }
  ],
  "metadata": {
    "kernelspec": {
      "display_name": "Python 3 (ipykernel)",
      "language": "python",
      "name": "python3"
    },
    "language_info": {
      "codemirror_mode": {
        "name": "ipython",
        "version": 3
      },
      "file_extension": ".py",
      "mimetype": "text/x-python",
      "name": "python",
      "nbconvert_exporter": "python",
      "pygments_lexer": "ipython3",
      "version": "3.7.11"
    },
    "colab": {
      "name": "Advanced Python Programming - CLP.ipynb",
      "provenance": [],
      "include_colab_link": true
    }
  },
  "nbformat": 4,
  "nbformat_minor": 5
}