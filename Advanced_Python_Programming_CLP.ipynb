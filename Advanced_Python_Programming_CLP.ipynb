{
  "cells": [
    {
      "cell_type": "markdown",
      "metadata": {
        "id": "view-in-github",
        "colab_type": "text"
      },
      "source": [
        "<a href=\"https://colab.research.google.com/github/BRajat/advance-python/blob/main/Advanced_Python_Programming_CLP.ipynb\" target=\"_parent\"><img src=\"https://colab.research.google.com/assets/colab-badge.svg\" alt=\"Open In Colab\"/></a>"
      ]
    },
    {
      "cell_type": "markdown",
      "id": "c93f6caf",
      "metadata": {
        "id": "c93f6caf"
      },
      "source": [
        "### [Advanced Python Programming](https://www.youtube.com/watch?v=HGOBQPFzWKo&list=PLWKjhJtqVAbnqBxcdjVGgT3uVR10bzTEB&index=27)\n",
        "\n"
      ]
    },
    {
      "cell_type": "markdown",
      "id": "e8ab109c",
      "metadata": {
        "id": "e8ab109c"
      },
      "source": [
        "⭐️ Course Contents ⭐️ <br>\n",
        "⌨️ (0:00:00) Intro <br>\n",
        "⌨️ (0:00:56) Lists <br>\n",
        "⌨️ (0:16:30) Tuples <br>\n",
        "⌨️ (0:29:49) Dictionaries <br>\n",
        "⌨️ (0:42:40) Sets <br>\n",
        "⌨️ (0:58:44) Strings <br>\n",
        "⌨️ (1:22:50) Collections <br>\n",
        "⌨️ (1:36:43) Itertools <br>\n",
        "⌨️ (1:51:50) Lambda Functions <br>\n",
        "⌨️ (2:04:03) Exceptions and Errors <br>\n",
        "⌨️ (2:20:10) Logging <br>\n",
        "⌨️ (2:42:20) JSON <br>\n",
        "⌨️ (2:59:42) Random Numbers <br>\n",
        "⌨️ (3:14:23) Decorators <br>\n",
        "⌨️ (3:35:32) Generators <br>\n",
        "⌨️ (3:53:29) Threading vs Multiprocessing <br>\n",
        "⌨️ (4:07:59) Multithreading <br>\n",
        "⌨️ (4:31:05) Multiprocessing <br>\n",
        "⌨️ (4:53:26) Function Arguments <br>\n",
        "⌨️ (5:17:28) The Asterisk (*) Operator <br>\n",
        "⌨️ (5:30:19) Shallow vs Deep Copying  <br>\n",
        "⌨️ (5:40:07) Context Managers"
      ]
    },
    {
      "cell_type": "code",
      "execution_count": null,
      "id": "9903e8bd",
      "metadata": {
        "id": "9903e8bd",
        "outputId": "9359e41a-7039-438d-b646-5a2a675b34dd"
      },
      "outputs": [
        {
          "data": {
            "text/plain": [
              "Counter({'cat': 3, 'dog': 2, 'fish': 1})"
            ]
          },
          "execution_count": 19,
          "metadata": {},
          "output_type": "execute_result"
        }
      ],
      "source": [
        "# Collections - Counter, namedtuple, OrderedDict, defaultdict, deque\n",
        "\n",
        "from collections import *\n",
        "\n",
        "list1 = [ 'cat', 'dog', 'dog','cat','cat','fish']\n",
        "Counter(list1)"
      ]
    },
    {
      "cell_type": "code",
      "execution_count": null,
      "id": "2bc975aa",
      "metadata": {
        "id": "2bc975aa",
        "outputId": "d4c824df-acd9-4a92-9bdc-426f4b256dea"
      },
      "outputs": [
        {
          "name": "stdout",
          "output_type": "stream",
          "text": [
            "Counter({' ': 8, 'o': 4, 'e': 3, 'h': 2, 'u': 2, 'r': 2, 'T': 1, 'q': 1, 'i': 1, 'c': 1, 'k': 1, 'b': 1, 'w': 1, 'n': 1, 'f': 1, 'x': 1, 'j': 1, 'm': 1, 'p': 1, 's': 1, 'v': 1, 't': 1, 'l': 1, 'a': 1, 'z': 1, 'y': 1, 'd': 1, 'g': 1})\n"
          ]
        }
      ],
      "source": [
        "string1 = 'The quick brown fox jumps over the lazy dog'\n",
        "print(Counter(string1))"
      ]
    },
    {
      "cell_type": "code",
      "execution_count": null,
      "id": "38f00b5c",
      "metadata": {
        "id": "38f00b5c",
        "outputId": "de5d8bb7-ddac-45bd-cd69-eee65dd45f99"
      },
      "outputs": [
        {
          "name": "stdout",
          "output_type": "stream",
          "text": [
            "dict_keys(['cat', 'dog', 'fish'])\n"
          ]
        }
      ],
      "source": [
        "tmp = Counter(list1)\n",
        "\n",
        "print(tmp.keys())"
      ]
    },
    {
      "cell_type": "code",
      "execution_count": null,
      "id": "426b009f",
      "metadata": {
        "id": "426b009f",
        "outputId": "53b16c67-35cf-405a-ad7a-472a3b088ebb"
      },
      "outputs": [
        {
          "name": "stdout",
          "output_type": "stream",
          "text": [
            "Counter({'fish': 1, 'dog': 1, 'cat': 1})\n"
          ]
        }
      ],
      "source": [
        "set1 = set(list1)\n",
        "tmp = Counter(set1)\n",
        "print(tmp)"
      ]
    },
    {
      "cell_type": "code",
      "execution_count": null,
      "id": "6341f052",
      "metadata": {
        "id": "6341f052",
        "outputId": "af1603f9-b35f-4b15-8d52-775a7c9e786e"
      },
      "outputs": [
        {
          "data": {
            "text/plain": [
              "0"
            ]
          },
          "execution_count": 6,
          "metadata": {},
          "output_type": "execute_result"
        }
      ],
      "source": [
        "tmp['fox']"
      ]
    },
    {
      "cell_type": "code",
      "execution_count": null,
      "id": "ae2c16ad",
      "metadata": {
        "id": "ae2c16ad",
        "outputId": "fb9a1c84-bc8e-444e-cc62-a9a854af1add"
      },
      "outputs": [
        {
          "data": {
            "text/plain": [
              "collections.Counter"
            ]
          },
          "execution_count": 7,
          "metadata": {},
          "output_type": "execute_result"
        }
      ],
      "source": [
        "type(tmp)"
      ]
    },
    {
      "cell_type": "code",
      "execution_count": null,
      "id": "d37ec24e",
      "metadata": {
        "id": "d37ec24e",
        "outputId": "9bffca0f-4de0-4f62-91aa-115f7f892aac"
      },
      "outputs": [
        {
          "data": {
            "text/plain": [
              "True"
            ]
          },
          "execution_count": 14,
          "metadata": {},
          "output_type": "execute_result"
        }
      ],
      "source": [
        "isinstance(tmp, Counter)"
      ]
    },
    {
      "cell_type": "code",
      "execution_count": null,
      "id": "0696aec0",
      "metadata": {
        "id": "0696aec0",
        "outputId": "eb086fd4-85ba-4de4-e85c-0c24e50fcef5"
      },
      "outputs": [
        {
          "data": {
            "text/plain": [
              "True"
            ]
          },
          "execution_count": 21,
          "metadata": {},
          "output_type": "execute_result"
        }
      ],
      "source": [
        "isinstance(Counter(), Counter)"
      ]
    },
    {
      "cell_type": "code",
      "execution_count": null,
      "id": "9ab1ef60",
      "metadata": {
        "id": "9ab1ef60",
        "outputId": "4e7ffa37-19c8-4646-f84c-eb5967405385"
      },
      "outputs": [
        {
          "name": "stdout",
          "output_type": "stream",
          "text": [
            "3 1 2\n"
          ]
        }
      ],
      "source": [
        "# collections - namedtuple\n",
        "\n",
        "Point = namedtuple('Point',['wins','losses','draws'])\n",
        "pt = Point(3,1,2)\n",
        "print(pt.wins, pt.losses, pt.draws)"
      ]
    },
    {
      "cell_type": "code",
      "execution_count": null,
      "id": "60879630",
      "metadata": {
        "id": "60879630",
        "outputId": "93da5f2c-f62f-4a2b-d2a7-eb99f3f65402"
      },
      "outputs": [
        {
          "name": "stdout",
          "output_type": "stream",
          "text": [
            "Point(wins=3, losses=1, draws=2)\n"
          ]
        }
      ],
      "source": [
        "print(pt)"
      ]
    },
    {
      "cell_type": "code",
      "execution_count": null,
      "id": "36a257ca",
      "metadata": {
        "id": "36a257ca",
        "outputId": "4960a272-7a7e-48a8-926e-7ff744db173c"
      },
      "outputs": [
        {
          "data": {
            "text/plain": [
              "__main__.Point"
            ]
          },
          "execution_count": 26,
          "metadata": {},
          "output_type": "execute_result"
        }
      ],
      "source": [
        "type(pt)"
      ]
    },
    {
      "cell_type": "code",
      "execution_count": null,
      "id": "84428e34",
      "metadata": {
        "id": "84428e34",
        "outputId": "5462d110-d1dc-41ed-9ac8-f0ce9eae3a55"
      },
      "outputs": [
        {
          "name": "stdout",
          "output_type": "stream",
          "text": [
            "{'cat': None, 'dog': None, 'fish': None}\n"
          ]
        }
      ],
      "source": [
        "d = dict.fromkeys(list1)\n",
        "print(d)"
      ]
    },
    {
      "cell_type": "code",
      "execution_count": null,
      "id": "8f4c4d05",
      "metadata": {
        "id": "8f4c4d05"
      },
      "outputs": [],
      "source": [
        "for i in range()"
      ]
    },
    {
      "cell_type": "markdown",
      "id": "6b187afb",
      "metadata": {
        "id": "6b187afb"
      },
      "source": [
        "## Shallow and deep copying"
      ]
    },
    {
      "cell_type": "code",
      "execution_count": null,
      "id": "a53af388",
      "metadata": {
        "id": "a53af388"
      },
      "outputs": [],
      "source": [
        "## shallow and deep copy\n",
        "\n",
        "# copy.copy() --> creates shallow copy of depth_1 only\n",
        "# copy.deepcopy() --> create copy at all levels of the underlying object"
      ]
    },
    {
      "cell_type": "code",
      "execution_count": null,
      "id": "bcd6db8b",
      "metadata": {
        "id": "bcd6db8b"
      },
      "outputs": [],
      "source": [
        "# copy of object of basic python datatype\n",
        "\n",
        "obj = 6\n",
        "cpy = obj\n",
        "\n",
        "cpy = 5\n",
        "print(cpy)\n",
        "print(obj)"
      ]
    },
    {
      "cell_type": "markdown",
      "id": "fb3684d1",
      "metadata": {
        "id": "fb3684d1"
      },
      "source": [
        "* Shallow copy of depth 1 works in above example because the data type is of less dimension."
      ]
    },
    {
      "cell_type": "code",
      "execution_count": null,
      "id": "c47592ea",
      "metadata": {
        "id": "c47592ea",
        "outputId": "69939b6d-8f9d-4a43-ac71-a7ba88878be6"
      },
      "outputs": [
        {
          "name": "stdout",
          "output_type": "stream",
          "text": [
            "[-100, 2, 3, 4, 5]\n",
            "[-100, 2, 3, 4, 5]\n"
          ]
        }
      ],
      "source": [
        "# shallow copy of list\n",
        "\n",
        "l1 = [1,2,3,4,5]\n",
        "l2 = l1\n",
        "\n",
        "l2[0] = -100\n",
        "\n",
        "print(l2)\n",
        "print(l1)"
      ]
    },
    {
      "cell_type": "markdown",
      "id": "660951e0",
      "metadata": {
        "id": "660951e0"
      },
      "source": [
        "* In this example of shallow copy what happened is the list object got copied at high level (depth =1) but at deep level the individual elements in list are still getting referenced to same memory location and therefore when then element is updated at the ref pointer it is changed in original list as well."
      ]
    },
    {
      "cell_type": "markdown",
      "id": "a05355e8",
      "metadata": {
        "id": "a05355e8"
      },
      "source": [
        "* We can overcome this by doing cpy = copy.deepcopy(org)"
      ]
    },
    {
      "cell_type": "code",
      "execution_count": null,
      "id": "9f87621b",
      "metadata": {
        "id": "9f87621b",
        "outputId": "30780710-dfab-4774-d417-fd5106206166"
      },
      "outputs": [
        {
          "name": "stdout",
          "output_type": "stream",
          "text": [
            "[1, 2, 3, 4, 5]\n",
            "[-100, 2, 3, 4, 5]\n"
          ]
        }
      ],
      "source": [
        "import copy\n",
        "\n",
        "l1 = [1,2,3,4,5]\n",
        "l2 = copy.copy(l2)\n",
        "\n",
        "l2[0] = -100\n",
        "\n",
        "print(l1)\n",
        "print(l2)"
      ]
    },
    {
      "cell_type": "markdown",
      "id": "418ffe08",
      "metadata": {
        "id": "418ffe08"
      },
      "source": [
        "* Here also, shallow copy worked for depth + 1 level but it won't for a nested list"
      ]
    },
    {
      "cell_type": "code",
      "execution_count": null,
      "id": "9925a8ad",
      "metadata": {
        "id": "9925a8ad",
        "outputId": "b1d791be-5f38-4105-8f63-18b60121df0d"
      },
      "outputs": [
        {
          "name": "stdout",
          "output_type": "stream",
          "text": [
            "[[-100, 2, 3, 4, 5], [5, 3, 4, 2, 1]]\n",
            "[[-100, 2, 3, 4, 5], [5, 3, 4, 2, 1]]\n"
          ]
        }
      ],
      "source": [
        "l1 = [[1,2,3,4,5],[5,3,4,2,1]]\n",
        "l2 = copy.copy(l1)\n",
        "\n",
        "l2[0][0] = -100\n",
        "\n",
        "print(l1)\n",
        "print(l2)"
      ]
    },
    {
      "cell_type": "markdown",
      "id": "8a20616e",
      "metadata": {
        "id": "8a20616e"
      },
      "source": [
        "* In this case, shallow copy failed at depth 2 (Always remember - shallow copy works till depth 1 only and so for nested elements its is better to safely copy by using copy.deepcopy()"
      ]
    },
    {
      "cell_type": "code",
      "execution_count": null,
      "id": "d5dccb9c",
      "metadata": {
        "id": "d5dccb9c",
        "outputId": "04518c40-f251-46a0-b7e7-17907fba564d"
      },
      "outputs": [
        {
          "name": "stdout",
          "output_type": "stream",
          "text": [
            "[[1, 2, 3, 4, 5], [5, 3, 4, 2, 1]]\n",
            "[[-100, 2, 3, 4, 5], [5, 3, 4, 2, 1]]\n"
          ]
        }
      ],
      "source": [
        "l1 = [[1,2,3,4,5],[5,3,4,2,1]]\n",
        "l2 = copy.deepcopy(l1)\n",
        "\n",
        "l2[0][0] = -100\n",
        "\n",
        "print(l1)\n",
        "print(l2)"
      ]
    },
    {
      "cell_type": "markdown",
      "id": "a4ada171",
      "metadata": {
        "id": "a4ada171"
      },
      "source": [
        "* Above code snippet worked correctly as we would have wanted."
      ]
    },
    {
      "cell_type": "code",
      "execution_count": null,
      "id": "60800822",
      "metadata": {
        "id": "60800822",
        "outputId": "f1f1a708-8be1-49d9-aff8-141e301a9bf5"
      },
      "outputs": [
        {
          "name": "stdout",
          "output_type": "stream",
          "text": [
            "39 39\n"
          ]
        }
      ],
      "source": [
        "# shallow and deep copying example with objects.\n",
        "\n",
        "class person:\n",
        "    def __init__(self, name, age):\n",
        "        self.name = name\n",
        "        self.age = age\n",
        "        \n",
        "        \n",
        "p1 = person('Ronaldo', 40)\n",
        "p2 = p1\n",
        "\n",
        "p2.age = 39\n",
        "print(p1.age, p2.age)"
      ]
    },
    {
      "cell_type": "markdown",
      "id": "1dd9cdc8",
      "metadata": {
        "id": "1dd9cdc8"
      },
      "source": [
        "* Here, the instance of object is at depth 1 and the age(instance variable) is at depth 2. So, shallow copying worked at depth 1 only"
      ]
    },
    {
      "cell_type": "code",
      "execution_count": null,
      "id": "6a20a686",
      "metadata": {
        "id": "6a20a686",
        "outputId": "724c00ec-2db5-48ce-b4b0-d5676f29634a"
      },
      "outputs": [
        {
          "name": "stdout",
          "output_type": "stream",
          "text": [
            "40 39\n"
          ]
        }
      ],
      "source": [
        "p1 = person('Ronaldo', 40)\n",
        "p2 = copy.copy(p1)\n",
        "\n",
        "p2.age = 39\n",
        "print(p1.age, p2.age)"
      ]
    },
    {
      "cell_type": "markdown",
      "id": "e2b488c7",
      "metadata": {
        "id": "e2b488c7"
      },
      "source": [
        "* Here the shallow copy worked with an extra depth since we used the copy.copy() method"
      ]
    },
    {
      "cell_type": "code",
      "execution_count": null,
      "id": "ad15fb8c",
      "metadata": {
        "id": "ad15fb8c",
        "outputId": "2f8736e8-aa23-4fda-8735-6fbcc1f6d88f"
      },
      "outputs": [
        {
          "name": "stdout",
          "output_type": "stream",
          "text": [
            "51\n",
            "51\n"
          ]
        }
      ],
      "source": [
        "class company:\n",
        "    def __init__(self, boss, employee):\n",
        "        self.boss = boss\n",
        "        self.employee = employee\n",
        "        \n",
        "p1 = person('Rohit', 35)\n",
        "p2 = person('Dravid', 50)\n",
        "c1 = company(p1, p2)             # p1 boss and p2 employee\n",
        "\n",
        "c2 = copy.copy(c1)\n",
        "c2.boss.age = 51\n",
        "\n",
        "print(c1.boss.age)\n",
        "print(c2.boss.age)"
      ]
    },
    {
      "cell_type": "markdown",
      "id": "9c65e4ce",
      "metadata": {
        "id": "9c65e4ce"
      },
      "source": [
        "* Here the shallow copy didn't work since the depth at which we are copying is 1 level less than the total depth of the instance variable. "
      ]
    },
    {
      "cell_type": "markdown",
      "id": "0c45eef1",
      "metadata": {
        "id": "0c45eef1"
      },
      "source": [
        "### Context Managers"
      ]
    },
    {
      "cell_type": "code",
      "execution_count": null,
      "id": "68cd5f29",
      "metadata": {
        "id": "68cd5f29"
      },
      "outputs": [],
      "source": [
        "with file"
      ]
    }
  ],
  "metadata": {
    "kernelspec": {
      "display_name": "Python 3 (ipykernel)",
      "language": "python",
      "name": "python3"
    },
    "language_info": {
      "codemirror_mode": {
        "name": "ipython",
        "version": 3
      },
      "file_extension": ".py",
      "mimetype": "text/x-python",
      "name": "python",
      "nbconvert_exporter": "python",
      "pygments_lexer": "ipython3",
      "version": "3.7.11"
    },
    "colab": {
      "name": "Advanced Python Programming - CLP.ipynb",
      "provenance": [],
      "include_colab_link": true
    }
  },
  "nbformat": 4,
  "nbformat_minor": 5
}