{
 "cells": [
  {
   "cell_type": "markdown",
   "id": "28c44bb5",
   "metadata": {
    "id": "28c44bb5"
   },
   "source": [
    "### Lambda function"
   ]
  },
  {
   "cell_type": "code",
   "execution_count": 2,
   "id": "8a7dcb3e",
   "metadata": {
    "colab": {
     "base_uri": "https://localhost:8080/"
    },
    "executionInfo": {
     "elapsed": 14,
     "status": "ok",
     "timestamp": 1645168923605,
     "user": {
      "displayName": "Rajat Bombale",
      "photoUrl": "https://lh3.googleusercontent.com/a/default-user=s64",
      "userId": "00215983139660669139"
     },
     "user_tz": -330
    },
    "id": "8a7dcb3e",
    "outputId": "5e2756b3-fa53-497c-c995-d1a5493a215b"
   },
   "outputs": [
    {
     "name": "stdout",
     "output_type": "stream",
     "text": [
      "81\n"
     ]
    }
   ],
   "source": [
    "sqr = lambda x: x**2               # function with single argument\n",
    "\n",
    "print(sqr(9))"
   ]
  },
  {
   "cell_type": "code",
   "execution_count": 3,
   "id": "896b4d1d",
   "metadata": {
    "colab": {
     "base_uri": "https://localhost:8080/"
    },
    "executionInfo": {
     "elapsed": 11,
     "status": "ok",
     "timestamp": 1645168927143,
     "user": {
      "displayName": "Rajat Bombale",
      "photoUrl": "https://lh3.googleusercontent.com/a/default-user=s64",
      "userId": "00215983139660669139"
     },
     "user_tz": -330
    },
    "id": "896b4d1d",
    "outputId": "3d2f5ac5-df7f-4670-f08e-c1ceadc70518"
   },
   "outputs": [
    {
     "name": "stdout",
     "output_type": "stream",
     "text": [
      "35\n"
     ]
    }
   ],
   "source": [
    "mult = lambda x,y: x*y             # function with 2 arguments\n",
    "\n",
    "a = 5\n",
    "b = 7\n",
    "print(mult(a,b))"
   ]
  },
  {
   "cell_type": "code",
   "execution_count": 4,
   "id": "4713a3f2",
   "metadata": {
    "colab": {
     "base_uri": "https://localhost:8080/"
    },
    "executionInfo": {
     "elapsed": 8,
     "status": "ok",
     "timestamp": 1645168929948,
     "user": {
      "displayName": "Rajat Bombale",
      "photoUrl": "https://lh3.googleusercontent.com/a/default-user=s64",
      "userId": "00215983139660669139"
     },
     "user_tz": -330
    },
    "id": "4713a3f2",
    "outputId": "db4dface-8655-4421-e26c-8eaa109cb935"
   },
   "outputs": [
    {
     "name": "stdout",
     "output_type": "stream",
     "text": [
      "9801\n",
      "35\n"
     ]
    }
   ],
   "source": [
    "# also can be written as normal function\n",
    "def sqr_func(a):\n",
    "    return a**2\n",
    "\n",
    "def mult_func(x,y):\n",
    "    return x*y\n",
    "\n",
    "print(sqr_func(99))\n",
    "\n",
    "print(mult_func(5,7))"
   ]
  },
  {
   "cell_type": "code",
   "execution_count": 5,
   "id": "4be57cd1",
   "metadata": {
    "colab": {
     "base_uri": "https://localhost:8080/"
    },
    "executionInfo": {
     "elapsed": 14,
     "status": "ok",
     "timestamp": 1645168932939,
     "user": {
      "displayName": "Rajat Bombale",
      "photoUrl": "https://lh3.googleusercontent.com/a/default-user=s64",
      "userId": "00215983139660669139"
     },
     "user_tz": -330
    },
    "id": "4be57cd1",
    "outputId": "1b19f3b4-7591-444a-9450-ca7561bca532"
   },
   "outputs": [
    {
     "name": "stdout",
     "output_type": "stream",
     "text": [
      "[10, 2, 1, 4, 16]\n",
      "[100, 4, 1, 16, 256]\n"
     ]
    }
   ],
   "source": [
    "# map, filter and reduce\n",
    "\n",
    "# map --> maps the elements in iterable according to the input function,\n",
    "# gives map object as output, convert that to iterable again\n",
    "\n",
    "input_list = [10,2,1,4,16]\n",
    "sqr = list(map(lambda x: x**2, input_list))\n",
    "\n",
    "print(input_list)\n",
    "print(sqr)"
   ]
  },
  {
   "cell_type": "code",
   "execution_count": 6,
   "id": "aa9d02da",
   "metadata": {
    "colab": {
     "base_uri": "https://localhost:8080/"
    },
    "executionInfo": {
     "elapsed": 11,
     "status": "ok",
     "timestamp": 1645168935016,
     "user": {
      "displayName": "Rajat Bombale",
      "photoUrl": "https://lh3.googleusercontent.com/a/default-user=s64",
      "userId": "00215983139660669139"
     },
     "user_tz": -330
    },
    "id": "aa9d02da",
    "outputId": "65f1e98a-7d43-4224-8814-d4fdf51cdeda"
   },
   "outputs": [
    {
     "name": "stdout",
     "output_type": "stream",
     "text": [
      "[10, 2, 1, 4, 16]\n",
      "[10, 16]\n"
     ]
    }
   ],
   "source": [
    "# filter --> evaluates conditional expression for all elements in input iteratable\n",
    "# gives filter iterator\n",
    "\n",
    "greaterthan5 = list(filter(lambda x: x>5, input_list))\n",
    "\n",
    "print(input_list)\n",
    "print(greaterthan5)"
   ]
  },
  {
   "cell_type": "code",
   "execution_count": 7,
   "id": "08d50163",
   "metadata": {
    "colab": {
     "base_uri": "https://localhost:8080/"
    },
    "executionInfo": {
     "elapsed": 9,
     "status": "ok",
     "timestamp": 1645168937987,
     "user": {
      "displayName": "Rajat Bombale",
      "photoUrl": "https://lh3.googleusercontent.com/a/default-user=s64",
      "userId": "00215983139660669139"
     },
     "user_tz": -330
    },
    "id": "08d50163",
    "outputId": "54052c4e-a477-4741-e82d-42e3cd8fd30f"
   },
   "outputs": [
    {
     "name": "stdout",
     "output_type": "stream",
     "text": [
      "[10, 2, 1, 4, 16]\n",
      "33\n"
     ]
    }
   ],
   "source": [
    "# reduce --> reduces the iterable to a single value, according to input function\n",
    "\n",
    "from functools import reduce\n",
    "\n",
    "red = reduce(lambda x,y : x+y, input_list)\n",
    "\n",
    "print(input_list)\n",
    "print(red)"
   ]
  },
  {
   "cell_type": "code",
   "execution_count": 8,
   "id": "b96c32bc",
   "metadata": {
    "colab": {
     "base_uri": "https://localhost:8080/"
    },
    "executionInfo": {
     "elapsed": 4,
     "status": "ok",
     "timestamp": 1645168942522,
     "user": {
      "displayName": "Rajat Bombale",
      "photoUrl": "https://lh3.googleusercontent.com/a/default-user=s64",
      "userId": "00215983139660669139"
     },
     "user_tz": -330
    },
    "id": "b96c32bc",
    "outputId": "6739d2b6-4fe2-45d1-907d-1294c16636a7"
   },
   "outputs": [
    {
     "name": "stdout",
     "output_type": "stream",
     "text": [
      "original: [(2, 3), (-1, 5), (7, 1), (8, 2), (3, 0)]\n",
      "sorted by first: [(-1, 5), (2, 3), (3, 0), (7, 1), (8, 2)]\n",
      "sorted by second: [(3, 0), (7, 1), (8, 2), (2, 3), (-1, 5)]\n",
      "sorted by second: [(3, 0), (7, 1), (8, 2), (2, 3), (-1, 5)]\n"
     ]
    }
   ],
   "source": [
    "# using lambda function for sorting nested lists\n",
    "\n",
    "list1 = [(2,3),(-1,5),(7,1),(8,2),(3,0)]\n",
    "\n",
    "print('original:', list1)\n",
    "print('sorted by first:',sorted(list1) )                      # sorted according to first element in tuple\n",
    "\n",
    "# if we want to sort by second element, we use argument named 'key' in sorted function\n",
    "print('sorted by second:',sorted(list1, key = lambda x:x[1] ))\n",
    "\n",
    "# we basically give a function as input to function parameter named key\n",
    "# also could be accomplished by\n",
    "def func_key(x):\n",
    "    return x[1]\n",
    "\n",
    "print('sorted by second:',sorted(list1, key = func_key ))"
   ]
  },
  {
   "cell_type": "code",
   "execution_count": 14,
   "id": "6981b45f",
   "metadata": {
    "colab": {
     "base_uri": "https://localhost:8080/"
    },
    "executionInfo": {
     "elapsed": 6,
     "status": "ok",
     "timestamp": 1645169172489,
     "user": {
      "displayName": "Rajat Bombale",
      "photoUrl": "https://lh3.googleusercontent.com/a/default-user=s64",
      "userId": "00215983139660669139"
     },
     "user_tz": -330
    },
    "id": "6981b45f",
    "outputId": "caf472a7-8af9-40d9-a525-c43ccfb30be6"
   },
   "outputs": [
    {
     "name": "stdout",
     "output_type": "stream",
     "text": [
      "[(2, 3), (-1, 5), (7, 1), (8, 2), (3, 0)]\n",
      "sorted by second: [(3, 0), (2, 3), (-1, 5), (7, 1), (8, 2)]\n",
      "[3.0, 3.61, 5.1, 7.07, 8.25]\n"
     ]
    }
   ],
   "source": [
    "# we can create custom key also, based on combination of elements in tuple\n",
    "# for example: lets sort the list by increasing euclidean distance of the point from the origin\n",
    "\n",
    "import math as m\n",
    "\n",
    "def func_key(x):\n",
    "    return x[0]**2 + x[1]**2\n",
    "\n",
    "\n",
    "print(list1)\n",
    "print('sorted by second:',sorted(list1, key = func_key ))\n",
    "print([round(m.sqrt(x**2 + y**2),2) for x, y in sorted(list1, key = func_key )])\n",
    "\n"
   ]
  },
  {
   "cell_type": "code",
   "execution_count": null,
   "id": "ab0cd7a0",
   "metadata": {},
   "outputs": [],
   "source": []
  }
 ],
 "metadata": {
  "kernelspec": {
   "display_name": "Python 3 (ipykernel)",
   "language": "python",
   "name": "python3"
  },
  "language_info": {
   "codemirror_mode": {
    "name": "ipython",
    "version": 3
   },
   "file_extension": ".py",
   "mimetype": "text/x-python",
   "name": "python",
   "nbconvert_exporter": "python",
   "pygments_lexer": "ipython3",
   "version": "3.9.7"
  }
 },
 "nbformat": 4,
 "nbformat_minor": 5
}
