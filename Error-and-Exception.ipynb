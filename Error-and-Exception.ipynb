{
 "cells": [
  {
   "cell_type": "markdown",
   "id": "rzWv0-OSuYoF",
   "metadata": {
    "id": "rzWv0-OSuYoF"
   },
   "source": [
    "### Error and Exception"
   ]
  },
  {
   "cell_type": "code",
   "execution_count": 15,
   "id": "SJrRjt0lvBaq",
   "metadata": {
    "colab": {
     "base_uri": "https://localhost:8080/",
     "height": 132
    },
    "executionInfo": {
     "elapsed": 14,
     "status": "error",
     "timestamp": 1645169359256,
     "user": {
      "displayName": "Rajat Bombale",
      "photoUrl": "https://lh3.googleusercontent.com/a/default-user=s64",
      "userId": "00215983139660669139"
     },
     "user_tz": -330
    },
    "id": "SJrRjt0lvBaq",
    "outputId": "121942d3-d0af-47c3-8995-ed29c08a29db"
   },
   "outputs": [
    {
     "ename": "SyntaxError",
     "evalue": "ignored",
     "output_type": "error",
     "traceback": [
      "\u001b[0;36m  File \u001b[0;32m\"<ipython-input-15-fed4b61d14cd>\"\u001b[0;36m, line \u001b[0;32m1\u001b[0m\n\u001b[0;31m    a = 5 print(a)\u001b[0m\n\u001b[0m              ^\u001b[0m\n\u001b[0;31mSyntaxError\u001b[0m\u001b[0;31m:\u001b[0m invalid syntax\n"
     ]
    }
   ],
   "source": [
    "a = 5 print(a)                               # syntax error"
   ]
  },
  {
   "cell_type": "code",
   "execution_count": 16,
   "id": "CFEyHpbRvBHt",
   "metadata": {
    "colab": {
     "base_uri": "https://localhost:8080/",
     "height": 132
    },
    "executionInfo": {
     "elapsed": 529,
     "status": "error",
     "timestamp": 1645169385647,
     "user": {
      "displayName": "Rajat Bombale",
      "photoUrl": "https://lh3.googleusercontent.com/a/default-user=s64",
      "userId": "00215983139660669139"
     },
     "user_tz": -330
    },
    "id": "CFEyHpbRvBHt",
    "outputId": "b5aa885d-726e-42e2-fdf6-e26f74b9704a"
   },
   "outputs": [
    {
     "ename": "SyntaxError",
     "evalue": "ignored",
     "output_type": "error",
     "traceback": [
      "\u001b[0;36m  File \u001b[0;32m\"<ipython-input-16-9d41ee1d19cb>\"\u001b[0;36m, line \u001b[0;32m1\u001b[0m\n\u001b[0;31m    s = 2*(2+3\u001b[0m\n\u001b[0m              ^\u001b[0m\n\u001b[0;31mSyntaxError\u001b[0m\u001b[0;31m:\u001b[0m unexpected EOF while parsing\n"
     ]
    }
   ],
   "source": [
    "s = 2*(2+3                                   # syntax error"
   ]
  },
  {
   "cell_type": "code",
   "execution_count": 17,
   "id": "ioYZTRe7vAch",
   "metadata": {
    "colab": {
     "base_uri": "https://localhost:8080/",
     "height": 202
    },
    "executionInfo": {
     "elapsed": 9,
     "status": "error",
     "timestamp": 1645169417584,
     "user": {
      "displayName": "Rajat Bombale",
      "photoUrl": "https://lh3.googleusercontent.com/a/default-user=s64",
      "userId": "00215983139660669139"
     },
     "user_tz": -330
    },
    "id": "ioYZTRe7vAch",
    "outputId": "8899af72-28a8-4cbb-ed0c-86ad790bf9e6"
   },
   "outputs": [
    {
     "ename": "TypeError",
     "evalue": "ignored",
     "output_type": "error",
     "traceback": [
      "\u001b[0;31m---------------------------------------------------------------------------\u001b[0m",
      "\u001b[0;31mTypeError\u001b[0m                                 Traceback (most recent call last)",
      "\u001b[0;32m<ipython-input-17-4ed83b9e5f47>\u001b[0m in \u001b[0;36m<module>\u001b[0;34m()\u001b[0m\n\u001b[1;32m      2\u001b[0m \u001b[0ms\u001b[0m \u001b[0;34m=\u001b[0m \u001b[0;34m'ten'\u001b[0m\u001b[0;34m\u001b[0m\u001b[0;34m\u001b[0m\u001b[0m\n\u001b[1;32m      3\u001b[0m \u001b[0;34m\u001b[0m\u001b[0m\n\u001b[0;32m----> 4\u001b[0;31m \u001b[0mprint\u001b[0m\u001b[0;34m(\u001b[0m\u001b[0ma\u001b[0m \u001b[0;34m+\u001b[0m \u001b[0ms\u001b[0m\u001b[0;34m)\u001b[0m\u001b[0;34m\u001b[0m\u001b[0;34m\u001b[0m\u001b[0m\n\u001b[0m",
      "\u001b[0;31mTypeError\u001b[0m: unsupported operand type(s) for +: 'int' and 'str'"
     ]
    }
   ],
   "source": [
    "a = 5\n",
    "s = 'ten'\n",
    "\n",
    "print(a + s)                                 # type error"
   ]
  },
  {
   "cell_type": "code",
   "execution_count": 19,
   "id": "8cbb7a0b",
   "metadata": {
    "colab": {
     "base_uri": "https://localhost:8080/",
     "height": 167
    },
    "executionInfo": {
     "elapsed": 16,
     "status": "error",
     "timestamp": 1645169605711,
     "user": {
      "displayName": "Rajat Bombale",
      "photoUrl": "https://lh3.googleusercontent.com/a/default-user=s64",
      "userId": "00215983139660669139"
     },
     "user_tz": -330
    },
    "id": "8cbb7a0b",
    "outputId": "f349ad21-161c-4f58-f575-1ea087d493e2"
   },
   "outputs": [
    {
     "ename": "ZeroDivisionError",
     "evalue": "ignored",
     "output_type": "error",
     "traceback": [
      "\u001b[0;31m---------------------------------------------------------------------------\u001b[0m",
      "\u001b[0;31mZeroDivisionError\u001b[0m                         Traceback (most recent call last)",
      "\u001b[0;32m<ipython-input-19-87ac9c94a8c2>\u001b[0m in \u001b[0;36m<module>\u001b[0;34m()\u001b[0m\n\u001b[0;32m----> 1\u001b[0;31m \u001b[0;36m4\u001b[0m \u001b[0;34m/\u001b[0m \u001b[0;36m0\u001b[0m\u001b[0;34m\u001b[0m\u001b[0;34m\u001b[0m\u001b[0m\n\u001b[0m",
      "\u001b[0;31mZeroDivisionError\u001b[0m: division by zero"
     ]
    }
   ],
   "source": [
    "4 / 0                               # zero division error"
   ]
  },
  {
   "cell_type": "code",
   "execution_count": null,
   "id": "6t-XpiYhvwI2",
   "metadata": {
    "id": "6t-XpiYhvwI2"
   },
   "outputs": [],
   "source": [
    "# other errors\n",
    "\n",
    "# ValueError - Value not in object\n",
    "# IndexError - List index out of range\n",
    "# KeyError - key not in dict\n",
    "\n"
   ]
  },
  {
   "cell_type": "code",
   "execution_count": 21,
   "id": "ujQZIxUiwhjL",
   "metadata": {
    "colab": {
     "base_uri": "https://localhost:8080/",
     "height": 202
    },
    "executionInfo": {
     "elapsed": 482,
     "status": "error",
     "timestamp": 1645169859532,
     "user": {
      "displayName": "Rajat Bombale",
      "photoUrl": "https://lh3.googleusercontent.com/a/default-user=s64",
      "userId": "00215983139660669139"
     },
     "user_tz": -330
    },
    "id": "ujQZIxUiwhjL",
    "outputId": "e58fc078-4c3f-441a-b89d-3b5cb474da48"
   },
   "outputs": [
    {
     "ename": "Exception",
     "evalue": "ignored",
     "output_type": "error",
     "traceback": [
      "\u001b[0;31m---------------------------------------------------------------------------\u001b[0m",
      "\u001b[0;31mException\u001b[0m                                 Traceback (most recent call last)",
      "\u001b[0;32m<ipython-input-21-90c60f61f770>\u001b[0m in \u001b[0;36m<module>\u001b[0;34m()\u001b[0m\n\u001b[1;32m      3\u001b[0m \u001b[0mx\u001b[0m \u001b[0;34m=\u001b[0m \u001b[0;34m-\u001b[0m\u001b[0;36m10\u001b[0m\u001b[0;34m\u001b[0m\u001b[0;34m\u001b[0m\u001b[0m\n\u001b[1;32m      4\u001b[0m \u001b[0;32mif\u001b[0m \u001b[0mx\u001b[0m \u001b[0;34m<\u001b[0m \u001b[0;36m0\u001b[0m\u001b[0;34m:\u001b[0m\u001b[0;34m\u001b[0m\u001b[0;34m\u001b[0m\u001b[0m\n\u001b[0;32m----> 5\u001b[0;31m   \u001b[0;32mraise\u001b[0m \u001b[0mException\u001b[0m\u001b[0;34m(\u001b[0m\u001b[0;34m'x should be positive'\u001b[0m\u001b[0;34m)\u001b[0m\u001b[0;34m\u001b[0m\u001b[0;34m\u001b[0m\u001b[0m\n\u001b[0m",
      "\u001b[0;31mException\u001b[0m: x should be positive"
     ]
    }
   ],
   "source": [
    "# Raising exceptions by code logic example\n",
    "\n",
    "x = -10\n",
    "if x < 0:\n",
    "  raise Exception('x should be positive')"
   ]
  },
  {
   "cell_type": "code",
   "execution_count": 23,
   "id": "T9lESoU049JT",
   "metadata": {
    "colab": {
     "base_uri": "https://localhost:8080/",
     "height": 185
    },
    "executionInfo": {
     "elapsed": 534,
     "status": "error",
     "timestamp": 1645171991649,
     "user": {
      "displayName": "Rajat Bombale",
      "photoUrl": "https://lh3.googleusercontent.com/a/default-user=s64",
      "userId": "00215983139660669139"
     },
     "user_tz": -330
    },
    "id": "T9lESoU049JT",
    "outputId": "aaa2aa8f-1c04-4138-8b64-b2de9ec6a1fc"
   },
   "outputs": [
    {
     "ename": "AssertionError",
     "evalue": "ignored",
     "output_type": "error",
     "traceback": [
      "\u001b[0;31m---------------------------------------------------------------------------\u001b[0m",
      "\u001b[0;31mAssertionError\u001b[0m                            Traceback (most recent call last)",
      "\u001b[0;32m<ipython-input-23-d106f361ace6>\u001b[0m in \u001b[0;36m<module>\u001b[0;34m()\u001b[0m\n\u001b[1;32m      1\u001b[0m \u001b[0mx\u001b[0m \u001b[0;34m=\u001b[0m \u001b[0;34m-\u001b[0m\u001b[0;36m5\u001b[0m\u001b[0;34m\u001b[0m\u001b[0;34m\u001b[0m\u001b[0m\n\u001b[0;32m----> 2\u001b[0;31m \u001b[0;32massert\u001b[0m\u001b[0;34m(\u001b[0m\u001b[0mx\u001b[0m\u001b[0;34m>\u001b[0m\u001b[0;36m0\u001b[0m\u001b[0;34m)\u001b[0m\u001b[0;34m,\u001b[0m \u001b[0;34m'x is not positive'\u001b[0m\u001b[0;34m\u001b[0m\u001b[0;34m\u001b[0m\u001b[0m\n\u001b[0m",
      "\u001b[0;31mAssertionError\u001b[0m: x is not positive"
     ]
    }
   ],
   "source": [
    "x = -5\n",
    "assert(x>0), 'x is not positive'"
   ]
  },
  {
   "cell_type": "code",
   "execution_count": 29,
   "id": "-oGl38uQ5IgB",
   "metadata": {
    "colab": {
     "base_uri": "https://localhost:8080/"
    },
    "executionInfo": {
     "elapsed": 460,
     "status": "ok",
     "timestamp": 1645172599811,
     "user": {
      "displayName": "Rajat Bombale",
      "photoUrl": "https://lh3.googleusercontent.com/a/default-user=s64",
      "userId": "00215983139660669139"
     },
     "user_tz": -330
    },
    "id": "-oGl38uQ5IgB",
    "outputId": "e5c6665b-5b41-400e-d89c-a11368e7f148"
   },
   "outputs": [
    {
     "name": "stdout",
     "output_type": "stream",
     "text": [
      "unsupported operand type(s) for +: 'int' and 'str'\n",
      "Done\n"
     ]
    }
   ],
   "source": [
    "# try, except and finally\n",
    "import random\n",
    "\n",
    "try:\n",
    "  x = 4 / 1\n",
    "  y = 4 + 'string'\n",
    "except ZeroDivisionError as e:\n",
    "    print(e)\n",
    "except Exception as e:\n",
    "    print(e)\n",
    "else:\n",
    "    print('Everything is fine')                   # else block executes if no exception in try block\n",
    "finally:\n",
    "    print('Done')                                 # finally always runs"
   ]
  },
  {
   "cell_type": "code",
   "execution_count": 30,
   "id": "ZOUmBT3j7cRX",
   "metadata": {
    "colab": {
     "base_uri": "https://localhost:8080/"
    },
    "executionInfo": {
     "elapsed": 455,
     "status": "ok",
     "timestamp": 1645172812349,
     "user": {
      "displayName": "Rajat Bombale",
      "photoUrl": "https://lh3.googleusercontent.com/a/default-user=s64",
      "userId": "00215983139660669139"
     },
     "user_tz": -330
    },
    "id": "ZOUmBT3j7cRX",
    "outputId": "3697d1f3-e397-4104-852a-1bf0ce241ed5"
   },
   "outputs": [
    {
     "name": "stdout",
     "output_type": "stream",
     "text": [
      "value is too high\n"
     ]
    }
   ],
   "source": [
    "# writing custom exception classes\n",
    "\n",
    "class ValueTooHigh(Exception):\n",
    "    pass\n",
    "\n",
    "def test_value(x):\n",
    "    if x >100:\n",
    "        raise ValueTooHigh('Value is too high')\n",
    "  \n",
    "    try:\n",
    "        test_value(200)\n",
    "    except ValueTooHigh as e:\n",
    "        print(e)"
   ]
  },
  {
   "cell_type": "code",
   "execution_count": 33,
   "id": "gKmRdGbf8Yk_",
   "metadata": {
    "colab": {
     "base_uri": "https://localhost:8080/"
    },
    "executionInfo": {
     "elapsed": 563,
     "status": "ok",
     "timestamp": 1645173229359,
     "user": {
      "displayName": "Rajat Bombale",
      "photoUrl": "https://lh3.googleusercontent.com/a/default-user=s64",
      "userId": "00215983139660669139"
     },
     "user_tz": -330
    },
    "id": "gKmRdGbf8Yk_",
    "outputId": "0e51661f-cb0d-41a9-b62a-1920397ba98c"
   },
   "outputs": [
    {
     "name": "stdout",
     "output_type": "stream",
     "text": [
      "Value is High\n"
     ]
    }
   ],
   "source": [
    "class ValueTooLow(Exception):\n",
    "    def __init__(self, message, value):                 # defining constructor method for exception class\n",
    "        self.message = message\n",
    "        self.value = value\n",
    "\n",
    "def test_value(x):\n",
    "    if x<5:\n",
    "        raise ValueTooLow('Value is low', x)\n",
    "    if x>100:\n",
    "        raise ValueTooHigh('Value is High')\n",
    "\n",
    "    try:\n",
    "        test_value(1000)\n",
    "    except ValueTooHigh as e:\n",
    "        print(e)\n",
    "    except ValueTooLow as e:\n",
    "        print(e.message, e.value)\n"
   ]
  },
  {
   "cell_type": "code",
   "execution_count": null,
   "id": "eece8819",
   "metadata": {},
   "outputs": [],
   "source": []
  }
 ],
 "metadata": {
  "kernelspec": {
   "display_name": "Python 3 (ipykernel)",
   "language": "python",
   "name": "python3"
  },
  "language_info": {
   "codemirror_mode": {
    "name": "ipython",
    "version": 3
   },
   "file_extension": ".py",
   "mimetype": "text/x-python",
   "name": "python",
   "nbconvert_exporter": "python",
   "pygments_lexer": "ipython3",
   "version": "3.9.7"
  }
 },
 "nbformat": 4,
 "nbformat_minor": 5
}
