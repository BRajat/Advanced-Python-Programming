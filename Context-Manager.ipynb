{
 "cells": [
  {
   "cell_type": "markdown",
   "id": "0c45eef1",
   "metadata": {
    "id": "0c45eef1"
   },
   "source": [
    "### Context Managers"
   ]
  },
  {
   "cell_type": "code",
   "execution_count": 37,
   "id": "68cd5f29",
   "metadata": {
    "colab": {
     "base_uri": "https://localhost:8080/"
    },
    "executionInfo": {
     "elapsed": 492,
     "status": "ok",
     "timestamp": 1645186713013,
     "user": {
      "displayName": "Rajat Bombale",
      "photoUrl": "https://lh3.googleusercontent.com/a/default-user=s64",
      "userId": "00215983139660669139"
     },
     "user_tz": -330
    },
    "id": "68cd5f29",
    "outputId": "2a390313-eb22-44ac-d29d-1da641eea96d"
   },
   "outputs": [
    {
     "name": "stdout",
     "output_type": "stream",
     "text": [
      "True\n"
     ]
    }
   ],
   "source": [
    "with open('testfile.txt','w') as f:\n",
    "    f.write('This is first line')\n",
    "    f.write('This is second line')\n",
    "\n",
    "print(f.closed)\n",
    "\n",
    "# with context manager we don't need to close file explicitly incase an exception occurs. \n",
    "# it is equivalent to writing a try-except-finally block of code"
   ]
  },
  {
   "cell_type": "code",
   "execution_count": 38,
   "id": "eC4aOP30syKo",
   "metadata": {
    "colab": {
     "base_uri": "https://localhost:8080/"
    },
    "executionInfo": {
     "elapsed": 464,
     "status": "ok",
     "timestamp": 1645186720577,
     "user": {
      "displayName": "Rajat Bombale",
      "photoUrl": "https://lh3.googleusercontent.com/a/default-user=s64",
      "userId": "00215983139660669139"
     },
     "user_tz": -330
    },
    "id": "eC4aOP30syKo",
    "outputId": "9793ac87-39c7-4bb6-a73a-ed2939f12a00"
   },
   "outputs": [
    {
     "data": {
      "text/plain": [
       "True"
      ]
     },
     "execution_count": 38,
     "metadata": {},
     "output_type": "execute_result"
    }
   ],
   "source": [
    "try:\n",
    "    f = open('testfile1.txt','w')\n",
    "    f.write('Something')\n",
    "finally:\n",
    "    f.close()                          # in case of context manager, we don't have to write f.close()\n",
    "\n",
    "f.closed\n"
   ]
  },
  {
   "cell_type": "code",
   "execution_count": 40,
   "id": "vnAC_pocxR68",
   "metadata": {
    "colab": {
     "base_uri": "https://localhost:8080/"
    },
    "executionInfo": {
     "elapsed": 483,
     "status": "ok",
     "timestamp": 1645186861703,
     "user": {
      "displayName": "Rajat Bombale",
      "photoUrl": "https://lh3.googleusercontent.com/a/default-user=s64",
      "userId": "00215983139660669139"
     },
     "user_tz": -330
    },
    "id": "vnAC_pocxR68",
    "outputId": "889430ea-26fd-43dc-86dd-e889879a6f79"
   },
   "outputs": [
    {
     "name": "stdout",
     "output_type": "stream",
     "text": [
      "division by zero\n"
     ]
    },
    {
     "data": {
      "text/plain": [
       "True"
      ]
     },
     "execution_count": 40,
     "metadata": {},
     "output_type": "execute_result"
    }
   ],
   "source": [
    "try:\n",
    "    f = open('testfile1.txt','w')\n",
    "    f.write('Something')\n",
    "    x = 4 / 0\n",
    "    f.write(x)\n",
    "except Exception as e:\n",
    "    print(e)\n",
    "finally:\n",
    "    f.close()                # in case of context manager, we don't have to write f.close()\n",
    "\n",
    "f.closed"
   ]
  },
  {
   "cell_type": "code",
   "execution_count": 41,
   "id": "nt2bG_V7xvgW",
   "metadata": {
    "colab": {
     "base_uri": "https://localhost:8080/"
    },
    "executionInfo": {
     "elapsed": 485,
     "status": "ok",
     "timestamp": 1645186909345,
     "user": {
      "displayName": "Rajat Bombale",
      "photoUrl": "https://lh3.googleusercontent.com/a/default-user=s64",
      "userId": "00215983139660669139"
     },
     "user_tz": -330
    },
    "id": "nt2bG_V7xvgW",
    "outputId": "2f74e983-6ad4-474e-95b1-0191b88ee92c"
   },
   "outputs": [
    {
     "name": "stdout",
     "output_type": "stream",
     "text": [
      "division by zero\n"
     ]
    },
    {
     "data": {
      "text/plain": [
       "False"
      ]
     },
     "execution_count": 41,
     "metadata": {},
     "output_type": "execute_result"
    }
   ],
   "source": [
    "try:\n",
    "    f = open('testfile1.txt','w')\n",
    "    f.write('Something')\n",
    "    x = 4 / 0\n",
    "    f.write(x)\n",
    "except Exception as e:\n",
    "    print(e)                # in case of context manager, we don't have to write f.close()\n",
    "\n",
    "f.closed                  # here file not closed because of exception"
   ]
  },
  {
   "cell_type": "code",
   "execution_count": null,
   "id": "c3914094",
   "metadata": {},
   "outputs": [],
   "source": []
  }
 ],
 "metadata": {
  "kernelspec": {
   "display_name": "Python 3 (ipykernel)",
   "language": "python",
   "name": "python3"
  },
  "language_info": {
   "codemirror_mode": {
    "name": "ipython",
    "version": 3
   },
   "file_extension": ".py",
   "mimetype": "text/x-python",
   "name": "python",
   "nbconvert_exporter": "python",
   "pygments_lexer": "ipython3",
   "version": "3.9.7"
  }
 },
 "nbformat": 4,
 "nbformat_minor": 5
}
